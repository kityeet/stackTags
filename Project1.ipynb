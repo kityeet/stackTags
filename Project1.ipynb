{
 "cells": [
  {
   "cell_type": "code",
   "execution_count": 1,
   "metadata": {
    "collapsed": true
   },
   "outputs": [],
   "source": [
    "import pandas as pd"
   ]
  },
  {
   "cell_type": "code",
   "execution_count": 107,
   "metadata": {
    "collapsed": false
   },
   "outputs": [],
   "source": [
    "stackQuestions = pd.read_csv('Stack Questions New.csv', encoding='latin1')"
   ]
  },
  {
   "cell_type": "code",
   "execution_count": 108,
   "metadata": {
    "collapsed": false
   },
   "outputs": [],
   "source": [
    "stackQuestions[\"CreationDate\"] = pd.to_datetime(stackQuestions[\"CreationDate\"])\n",
    "stackQuestions[\"ClosedDate\"] = pd.to_datetime(stackQuestions[\"ClosedDate\"])\n",
    "stackQuestions[\"DeletionDate\"] = pd.to_datetime(stackQuestions[\"DeletionDate\"])"
   ]
  },
  {
   "cell_type": "code",
   "execution_count": 109,
   "metadata": {
    "collapsed": true
   },
   "outputs": [],
   "source": [
    "#NaT is missing values\n",
    "stackQuestions[\"AnswerCount\"] = stackQuestions[\"AnswerCount\"].fillna(-1)\n",
    "stackQuestions[\"AnswerCount\"] = stackQuestions[\"AnswerCount\"].astype(int)"
   ]
  },
  {
   "cell_type": "code",
   "execution_count": 110,
   "metadata": {
    "collapsed": false,
    "scrolled": true
   },
   "outputs": [],
   "source": [
    "#apply same time frame (15 Oct 2008 to 12 Oct 2016)\n",
    "from datetime import datetime\n",
    "mask = (stackQuestions['CreationDate'] >= datetime.strptime('2008-10-15', '%Y-%m-%d')) & (stackQuestions['CreationDate'] <= datetime.strptime('2016-10-12', '%Y-%m-%d'))"
   ]
  },
  {
   "cell_type": "code",
   "execution_count": 111,
   "metadata": {
    "collapsed": false
   },
   "outputs": [],
   "source": [
    "stackQuestions = stackQuestions.loc[mask]"
   ]
  },
  {
   "cell_type": "code",
   "execution_count": 112,
   "metadata": {
    "collapsed": false
   },
   "outputs": [],
   "source": [
    "stackQuestions = stackQuestions.drop('Tags', axis=1)"
   ]
  },
  {
   "cell_type": "code",
   "execution_count": 113,
   "metadata": {
    "collapsed": true
   },
   "outputs": [],
   "source": [
    "stackQuestions.rename(columns = {'Id':'QuestionId', 'OwnerUserId':'QuestUserId', 'CreationDate':'QuestCreationDate', 'Score':'QuestScore', 'ClosedDate':'QuestClosedDate', 'DeletionDate':'QuestDeletionDate'}, inplace=True)"
   ]
  },
  {
   "cell_type": "code",
   "execution_count": 114,
   "metadata": {
    "collapsed": false
   },
   "outputs": [],
   "source": [
    "#remove closed and deleted questions\n",
    "stackQuestions = stackQuestions[stackQuestions['QuestClosedDate'].isnull() & stackQuestions['QuestDeletionDate'].isnull()]"
   ]
  },
  {
   "cell_type": "code",
   "execution_count": 115,
   "metadata": {
    "collapsed": false
   },
   "outputs": [
    {
     "name": "stdout",
     "output_type": "stream",
     "text": [
      "Stored 'stackQuestions' (DataFrame)\n"
     ]
    }
   ],
   "source": [
    "%store stackQuestions"
   ]
  },
  {
   "cell_type": "code",
   "execution_count": 116,
   "metadata": {
    "collapsed": false
   },
   "outputs": [],
   "source": [
    "#this info can be found in stackQuestions\n",
    "stackQuestionTags = pd.read_csv('Stack Question Tags.csv', encoding='latin1')"
   ]
  },
  {
   "cell_type": "code",
   "execution_count": 117,
   "metadata": {
    "collapsed": false
   },
   "outputs": [
    {
     "name": "stdout",
     "output_type": "stream",
     "text": [
      "Stored 'stackQuestionTags' (DataFrame)\n"
     ]
    }
   ],
   "source": [
    "stackQuestionTags.rename(columns = {'Id':'QuestionId', 'Tag':'QuestTags'}, inplace=True)\n",
    "%store stackQuestionTags"
   ]
  },
  {
   "cell_type": "code",
   "execution_count": 118,
   "metadata": {
    "collapsed": false
   },
   "outputs": [],
   "source": [
    "stackQuestionsWTags = pd.merge(stackQuestions, stackQuestionTags, on='QuestionId')"
   ]
  },
  {
   "cell_type": "code",
   "execution_count": 119,
   "metadata": {
    "collapsed": false
   },
   "outputs": [
    {
     "data": {
      "text/html": [
       "<div>\n",
       "<table border=\"1\" class=\"dataframe\">\n",
       "  <thead>\n",
       "    <tr style=\"text-align: right;\">\n",
       "      <th></th>\n",
       "      <th>QuestionId</th>\n",
       "      <th>QuestCreationDate</th>\n",
       "      <th>QuestClosedDate</th>\n",
       "      <th>QuestDeletionDate</th>\n",
       "      <th>QuestScore</th>\n",
       "      <th>QuestUserId</th>\n",
       "      <th>AnswerCount</th>\n",
       "      <th>QuestTags</th>\n",
       "    </tr>\n",
       "  </thead>\n",
       "  <tbody>\n",
       "    <tr>\n",
       "      <th>0</th>\n",
       "      <td>203274</td>\n",
       "      <td>2008-10-15 00:02:04</td>\n",
       "      <td>NaT</td>\n",
       "      <td>NaT</td>\n",
       "      <td>4</td>\n",
       "      <td>9021.0</td>\n",
       "      <td>4</td>\n",
       "      <td>css</td>\n",
       "    </tr>\n",
       "    <tr>\n",
       "      <th>1</th>\n",
       "      <td>203274</td>\n",
       "      <td>2008-10-15 00:02:04</td>\n",
       "      <td>NaT</td>\n",
       "      <td>NaT</td>\n",
       "      <td>4</td>\n",
       "      <td>9021.0</td>\n",
       "      <td>4</td>\n",
       "      <td>performance</td>\n",
       "    </tr>\n",
       "    <tr>\n",
       "      <th>2</th>\n",
       "      <td>203274</td>\n",
       "      <td>2008-10-15 00:02:04</td>\n",
       "      <td>NaT</td>\n",
       "      <td>NaT</td>\n",
       "      <td>4</td>\n",
       "      <td>9021.0</td>\n",
       "      <td>4</td>\n",
       "      <td>optimization</td>\n",
       "    </tr>\n",
       "    <tr>\n",
       "      <th>3</th>\n",
       "      <td>203275</td>\n",
       "      <td>2008-10-15 00:02:19</td>\n",
       "      <td>NaT</td>\n",
       "      <td>NaT</td>\n",
       "      <td>8</td>\n",
       "      <td>25228.0</td>\n",
       "      <td>3</td>\n",
       "      <td>events</td>\n",
       "    </tr>\n",
       "    <tr>\n",
       "      <th>4</th>\n",
       "      <td>203275</td>\n",
       "      <td>2008-10-15 00:02:19</td>\n",
       "      <td>NaT</td>\n",
       "      <td>NaT</td>\n",
       "      <td>8</td>\n",
       "      <td>25228.0</td>\n",
       "      <td>3</td>\n",
       "      <td>esp</td>\n",
       "    </tr>\n",
       "  </tbody>\n",
       "</table>\n",
       "</div>"
      ],
      "text/plain": [
       "   QuestionId   QuestCreationDate QuestClosedDate QuestDeletionDate  \\\n",
       "0      203274 2008-10-15 00:02:04             NaT               NaT   \n",
       "1      203274 2008-10-15 00:02:04             NaT               NaT   \n",
       "2      203274 2008-10-15 00:02:04             NaT               NaT   \n",
       "3      203275 2008-10-15 00:02:19             NaT               NaT   \n",
       "4      203275 2008-10-15 00:02:19             NaT               NaT   \n",
       "\n",
       "   QuestScore  QuestUserId  AnswerCount     QuestTags  \n",
       "0           4       9021.0            4           css  \n",
       "1           4       9021.0            4   performance  \n",
       "2           4       9021.0            4  optimization  \n",
       "3           8      25228.0            3        events  \n",
       "4           8      25228.0            3           esp  "
      ]
     },
     "execution_count": 119,
     "metadata": {},
     "output_type": "execute_result"
    }
   ],
   "source": [
    "#each row is one question tag (can have multiple same questionid)\n",
    "stackQuestionsWTags.head()"
   ]
  },
  {
   "cell_type": "code",
   "execution_count": 120,
   "metadata": {
    "collapsed": true
   },
   "outputs": [],
   "source": [
    "stackSampleQuestions = pd.read_csv('SampleQuestions.csv', encoding='latin1')"
   ]
  },
  {
   "cell_type": "code",
   "execution_count": 121,
   "metadata": {
    "collapsed": true
   },
   "outputs": [],
   "source": [
    "stackSampleQuestions.rename(columns={'Id':'QuestionId', 'OwnerUserId':'QuestUserId', 'CreationDate':'QuestCreationDate', 'ClosedDate':'QuestClosedDate', 'Score':'QuestScore', 'Body':'QuestBody', 'Title':'QuestTitle'}, inplace=True)"
   ]
  },
  {
   "cell_type": "code",
   "execution_count": 122,
   "metadata": {
    "collapsed": false
   },
   "outputs": [],
   "source": [
    "stackSampleQuestions[\"QuestCreationDate\"] = pd.to_datetime(stackSampleQuestions[\"QuestCreationDate\"])"
   ]
  },
  {
   "cell_type": "code",
   "execution_count": 123,
   "metadata": {
    "collapsed": true
   },
   "outputs": [],
   "source": [
    "#regex\n",
    "import re\n",
    "\n",
    "def cleanhtml(raw_html):\n",
    "  cleanr = re.compile('<.*?>')\n",
    "  cleantext = re.sub(cleanr, '', raw_html)\n",
    "  return cleantext"
   ]
  },
  {
   "cell_type": "code",
   "execution_count": 124,
   "metadata": {
    "collapsed": false
   },
   "outputs": [],
   "source": [
    "#clean text\n",
    "for i in range(0, len(stackSampleQuestions)):\n",
    "    x = cleanhtml(stackSampleQuestions['QuestBody'][i])\n",
    "    stackSampleQuestions.set_value(i, 'QuestBody', cleanhtml(x))"
   ]
  },
  {
   "cell_type": "code",
   "execution_count": 125,
   "metadata": {
    "collapsed": false
   },
   "outputs": [],
   "source": [
    "mask4 = (stackSampleQuestions['QuestCreationDate'] >= datetime.strptime('2008-10-15', '%Y-%m-%d')) & (stackSampleQuestions['QuestCreationDate'] <= datetime.strptime('2016-10-12', '%Y-%m-%d'))"
   ]
  },
  {
   "cell_type": "code",
   "execution_count": 126,
   "metadata": {
    "collapsed": false
   },
   "outputs": [],
   "source": [
    "stackSampleQuestions = stackSampleQuestions.loc[mask4]"
   ]
  },
  {
   "cell_type": "code",
   "execution_count": 127,
   "metadata": {
    "collapsed": true
   },
   "outputs": [],
   "source": [
    "stackSampleQuestions = stackSampleQuestions[stackSampleQuestions['QuestClosedDate'].isnull()]"
   ]
  },
  {
   "cell_type": "code",
   "execution_count": 128,
   "metadata": {
    "collapsed": false
   },
   "outputs": [
    {
     "name": "stdout",
     "output_type": "stream",
     "text": [
      "Stored 'stackSampleQuestions' (DataFrame)\n"
     ]
    }
   ],
   "source": [
    "%store stackSampleQuestions"
   ]
  },
  {
   "cell_type": "code",
   "execution_count": 129,
   "metadata": {
    "collapsed": false
   },
   "outputs": [],
   "source": [
    "commonQuestions = stackSampleQuestions[stackSampleQuestions.QuestionId.isin(stackQuestions.QuestionId)]"
   ]
  },
  {
   "cell_type": "code",
   "execution_count": 130,
   "metadata": {
    "collapsed": false
   },
   "outputs": [],
   "source": [
    "commonQuestions = stackQuestionsWTags[stackQuestionsWTags.QuestionId.isin(commonQuestions.QuestionId)]"
   ]
  },
  {
   "cell_type": "code",
   "execution_count": 131,
   "metadata": {
    "collapsed": false
   },
   "outputs": [
    {
     "data": {
      "text/plain": [
       "(1199848,)"
      ]
     },
     "execution_count": 131,
     "metadata": {},
     "output_type": "execute_result"
    }
   ],
   "source": [
    "commonQuestions.QuestionId.unique().shape #only 1 QuestionId is found in stackSampleQuestions but not in stackQuestions."
   ]
  },
  {
   "cell_type": "code",
   "execution_count": 132,
   "metadata": {
    "collapsed": true
   },
   "outputs": [],
   "source": [
    "commonQuestions = commonQuestions.copy()"
   ]
  },
  {
   "cell_type": "code",
   "execution_count": 133,
   "metadata": {
    "collapsed": false
   },
   "outputs": [],
   "source": [
    "#will have warning, but still does what it should\n",
    "commonQuestions['QuestCreationYear'] = pd.DatetimeIndex(commonQuestions['QuestCreationDate']).year"
   ]
  },
  {
   "cell_type": "code",
   "execution_count": 134,
   "metadata": {
    "collapsed": false
   },
   "outputs": [
    {
     "data": {
      "text/html": [
       "<div>\n",
       "<table border=\"1\" class=\"dataframe\">\n",
       "  <thead>\n",
       "    <tr style=\"text-align: right;\">\n",
       "      <th></th>\n",
       "      <th>QuestionId</th>\n",
       "      <th>QuestCreationDate</th>\n",
       "      <th>QuestClosedDate</th>\n",
       "      <th>QuestDeletionDate</th>\n",
       "      <th>QuestScore</th>\n",
       "      <th>QuestUserId</th>\n",
       "      <th>AnswerCount</th>\n",
       "      <th>QuestTags</th>\n",
       "      <th>QuestCreationYear</th>\n",
       "    </tr>\n",
       "  </thead>\n",
       "  <tbody>\n",
       "    <tr>\n",
       "      <th>34</th>\n",
       "      <td>203340</td>\n",
       "      <td>2008-10-15 00:35:54</td>\n",
       "      <td>NaT</td>\n",
       "      <td>NaT</td>\n",
       "      <td>32</td>\n",
       "      <td>27580.0</td>\n",
       "      <td>11</td>\n",
       "      <td>jquery</td>\n",
       "      <td>2008</td>\n",
       "    </tr>\n",
       "    <tr>\n",
       "      <th>118</th>\n",
       "      <td>203520</td>\n",
       "      <td>2008-10-15 02:19:28</td>\n",
       "      <td>NaT</td>\n",
       "      <td>NaT</td>\n",
       "      <td>2</td>\n",
       "      <td>5496.0</td>\n",
       "      <td>2</td>\n",
       "      <td>.net</td>\n",
       "      <td>2008</td>\n",
       "    </tr>\n",
       "    <tr>\n",
       "      <th>119</th>\n",
       "      <td>203520</td>\n",
       "      <td>2008-10-15 02:19:28</td>\n",
       "      <td>NaT</td>\n",
       "      <td>NaT</td>\n",
       "      <td>2</td>\n",
       "      <td>5496.0</td>\n",
       "      <td>2</td>\n",
       "      <td>winforms</td>\n",
       "      <td>2008</td>\n",
       "    </tr>\n",
       "    <tr>\n",
       "      <th>120</th>\n",
       "      <td>203520</td>\n",
       "      <td>2008-10-15 02:19:28</td>\n",
       "      <td>NaT</td>\n",
       "      <td>NaT</td>\n",
       "      <td>2</td>\n",
       "      <td>5496.0</td>\n",
       "      <td>2</td>\n",
       "      <td>data-binding</td>\n",
       "      <td>2008</td>\n",
       "    </tr>\n",
       "    <tr>\n",
       "      <th>142</th>\n",
       "      <td>203590</td>\n",
       "      <td>2008-10-15 03:05:53</td>\n",
       "      <td>NaT</td>\n",
       "      <td>NaT</td>\n",
       "      <td>0</td>\n",
       "      <td>361.0</td>\n",
       "      <td>2</td>\n",
       "      <td>visual-studio</td>\n",
       "      <td>2008</td>\n",
       "    </tr>\n",
       "  </tbody>\n",
       "</table>\n",
       "</div>"
      ],
      "text/plain": [
       "     QuestionId   QuestCreationDate QuestClosedDate QuestDeletionDate  \\\n",
       "34       203340 2008-10-15 00:35:54             NaT               NaT   \n",
       "118      203520 2008-10-15 02:19:28             NaT               NaT   \n",
       "119      203520 2008-10-15 02:19:28             NaT               NaT   \n",
       "120      203520 2008-10-15 02:19:28             NaT               NaT   \n",
       "142      203590 2008-10-15 03:05:53             NaT               NaT   \n",
       "\n",
       "     QuestScore  QuestUserId  AnswerCount      QuestTags  QuestCreationYear  \n",
       "34           32      27580.0           11         jquery               2008  \n",
       "118           2       5496.0            2           .net               2008  \n",
       "119           2       5496.0            2       winforms               2008  \n",
       "120           2       5496.0            2   data-binding               2008  \n",
       "142           0        361.0            2  visual-studio               2008  "
      ]
     },
     "execution_count": 134,
     "metadata": {},
     "output_type": "execute_result"
    }
   ],
   "source": [
    "commonQuestions.head()"
   ]
  },
  {
   "cell_type": "code",
   "execution_count": 30,
   "metadata": {
    "collapsed": true
   },
   "outputs": [],
   "source": [
    "import seaborn as sns"
   ]
  },
  {
   "cell_type": "code",
   "execution_count": 137,
   "metadata": {
    "collapsed": false
   },
   "outputs": [
    {
     "data": {
      "image/png": "[encoded data removed]",
      "text/plain": [
       "<matplotlib.figure.Figure at 0x12a4c2630>"
      ]
     },
     "metadata": {},
     "output_type": "display_data"
    }
   ],
   "source": [
    "#number of tags used over the years\n",
    "%matplotlib inline\n",
    "ax = sns.countplot(x=\"QuestCreationYear\", data=commonQuestions)"
   ]
  },
  {
   "cell_type": "code",
   "execution_count": 138,
   "metadata": {
    "collapsed": false
   },
   "outputs": [],
   "source": [
    "#36763 unique QuestTags, tail(23300)\n",
    "yearQuestTag = pd.DataFrame(commonQuestions.groupby('QuestCreationYear').QuestTags.value_counts().rename('YearTagCount')).reset_index()"
   ]
  },
  {
   "cell_type": "code",
   "execution_count": 139,
   "metadata": {
    "collapsed": false
   },
   "outputs": [
    {
     "name": "stdout",
     "output_type": "stream",
     "text": [
      "Stored 'yearQuestTag' (DataFrame)\n"
     ]
    }
   ],
   "source": [
    "%store yearQuestTag"
   ]
  },
  {
   "cell_type": "code",
   "execution_count": 140,
   "metadata": {
    "collapsed": false
   },
   "outputs": [
    {
     "data": {
      "text/plain": [
       "<pandas.core.groupby.SeriesGroupBy object at 0x12ebba630>"
      ]
     },
     "execution_count": 140,
     "metadata": {},
     "output_type": "execute_result"
    }
   ],
   "source": [
    "commonQuestions.groupby('QuestCreationYear').QuestTags"
   ]
  },
  {
   "cell_type": "code",
   "execution_count": 141,
   "metadata": {
    "collapsed": false
   },
   "outputs": [],
   "source": [
    "topYearQuestTag = yearQuestTag.groupby(['QuestCreationYear']).head(10)"
   ]
  },
  {
   "cell_type": "code",
   "execution_count": 142,
   "metadata": {
    "collapsed": false
   },
   "outputs": [
    {
     "name": "stdout",
     "output_type": "stream",
     "text": [
      "Stored 'topYearQuestTag' (DataFrame)\n"
     ]
    }
   ],
   "source": [
    "%store topYearQuestTag"
   ]
  },
  {
   "cell_type": "code",
   "execution_count": 143,
   "metadata": {
    "collapsed": false
   },
   "outputs": [
    {
     "data": {
      "text/plain": [
       "116961"
      ]
     },
     "execution_count": 143,
     "metadata": {},
     "output_type": "execute_result"
    }
   ],
   "source": [
    "commonQuestions[commonQuestions.QuestTags == 'javascript'].groupby('QuestCreationYear').QuestTags.value_counts().sum()"
   ]
  },
  {
   "cell_type": "code",
   "execution_count": 144,
   "metadata": {
    "collapsed": true
   },
   "outputs": [],
   "source": [
    "import matplotlib.pyplot as plt"
   ]
  },
  {
   "cell_type": "code",
   "execution_count": 145,
   "metadata": {
    "collapsed": false
   },
   "outputs": [
    {
     "data": {
      "text/html": [
       "\n",
       "    <div class=\"bk-root\">\n",
       "        <a href=\"http://bokeh.pydata.org\" target=\"_blank\" class=\"bk-logo bk-logo-small bk-logo-notebook\"></a>\n",
       "        <span id=\"e49bfbe4-00c8-4233-b7c3-30bfef14eb58\">Loading BokehJS ...</span>\n",
       "    </div>"
      ]
     },
     "metadata": {},
     "output_type": "display_data"
    },
    {
     "data": {
      "application/javascript": [
       "\n",
       "(function(global) {\n",
       "  function now() {\n",
       "    return new Date();\n",
       "  }\n",
       "\n",
       "  var force = \"1\";\n",
       "\n",
       "  if (typeof (window._bokeh_onload_callbacks) === \"undefined\" || force !== \"\") {\n",
       "    window._bokeh_onload_callbacks = [];\n",
       "    window._bokeh_is_loading = undefined;\n",
       "  }\n",
       "\n",
       "\n",
       "  \n",
       "  if (typeof (window._bokeh_timeout) === \"undefined\" || force !== \"\") {\n",
       "    window._bokeh_timeout = Date.now() + 5000;\n",
       "    window._bokeh_failed_load = false;\n",
       "  }\n",
       "\n",
       "  var NB_LOAD_WARNING = {'data': {'text/html':\n",
       "     \"<div style='background-color: #fdd'>\\n\"+\n",
       "     \"<p>\\n\"+\n",
       "     \"BokehJS does not appear to have successfully loaded. If loading BokehJS from CDN, this \\n\"+\n",
       "     \"may be due to a slow or bad network connection. Possible fixes:\\n\"+\n",
       "     \"</p>\\n\"+\n",
       "     \"<ul>\\n\"+\n",
       "     \"<li>re-rerun `output_notebook()` to attempt to load from CDN again, or</li>\\n\"+\n",
       "     \"<li>use INLINE resources instead, as so:</li>\\n\"+\n",
       "     \"</ul>\\n\"+\n",
       "     \"<code>\\n\"+\n",
       "     \"from bokeh.resources import INLINE\\n\"+\n",
       "     \"output_notebook(resources=INLINE)\\n\"+\n",
       "     \"</code>\\n\"+\n",
       "     \"</div>\"}};\n",
       "\n",
       "  function display_loaded() {\n",
       "    if (window.Bokeh !== undefined) {\n",
       "      Bokeh.$(\"#e49bfbe4-00c8-4233-b7c3-30bfef14eb58\").text(\"BokehJS successfully loaded.\");\n",
       "    } else if (Date.now() < window._bokeh_timeout) {\n",
       "      setTimeout(display_loaded, 100)\n",
       "    }\n",
       "  }\n",
       "\n",
       "  function run_callbacks() {\n",
       "    window._bokeh_onload_callbacks.forEach(function(callback) { callback() });\n",
       "    delete window._bokeh_onload_callbacks\n",
       "    console.info(\"Bokeh: all callbacks have finished\");\n",
       "  }\n",
       "\n",
       "  function load_libs(js_urls, callback) {\n",
       "    window._bokeh_onload_callbacks.push(callback);\n",
       "    if (window._bokeh_is_loading > 0) {\n",
       "      console.log(\"Bokeh: BokehJS is being loaded, scheduling callback at\", now());\n",
       "      return null;\n",
       "    }\n",
       "    if (js_urls == null || js_urls.length === 0) {\n",
       "      run_callbacks();\n",
       "      return null;\n",
       "    }\n",
       "    console.log(\"Bokeh: BokehJS not loaded, scheduling load and callback at\", now());\n",
       "    window._bokeh_is_loading = js_urls.length;\n",
       "    for (var i = 0; i < js_urls.length; i++) {\n",
       "      var url = js_urls[i];\n",
       "      var s = document.createElement('script');\n",
       "      s.src = url;\n",
       "      s.async = false;\n",
       "      s.onreadystatechange = s.onload = function() {\n",
       "        window._bokeh_is_loading--;\n",
       "        if (window._bokeh_is_loading === 0) {\n",
       "          console.log(\"Bokeh: all BokehJS libraries loaded\");\n",
       "          run_callbacks()\n",
       "        }\n",
       "      };\n",
       "      s.onerror = function() {\n",
       "        console.warn(\"failed to load library \" + url);\n",
       "      };\n",
       "      console.log(\"Bokeh: injecting script tag for BokehJS library: \", url);\n",
       "      document.getElementsByTagName(\"head\")[0].appendChild(s);\n",
       "    }\n",
       "  };var element = document.getElementById(\"e49bfbe4-00c8-4233-b7c3-30bfef14eb58\");\n",
       "  if (element == null) {\n",
       "    console.log(\"Bokeh: ERROR: autoload.js configured with elementid 'e49bfbe4-00c8-4233-b7c3-30bfef14eb58' but no matching script tag was found. \")\n",
       "    return false;\n",
       "  }\n",
       "\n",
       "  var js_urls = ['https://cdn.pydata.org/bokeh/release/bokeh-0.12.2.min.js', 'https://cdn.pydata.org/bokeh/release/bokeh-widgets-0.12.2.min.js', 'https://cdn.pydata.org/bokeh/release/bokeh-compiler-0.12.2.min.js'];\n",
       "\n",
       "  var inline_js = [\n",
       "    function(Bokeh) {\n",
       "      Bokeh.set_log_level(\"info\");\n",
       "    },\n",
       "    \n",
       "    function(Bokeh) {\n",
       "      \n",
       "      Bokeh.$(\"#e49bfbe4-00c8-4233-b7c3-30bfef14eb58\").text(\"BokehJS is loading...\");\n",
       "    },\n",
       "    function(Bokeh) {\n",
       "      console.log(\"Bokeh: injecting CSS: https://cdn.pydata.org/bokeh/release/bokeh-0.12.2.min.css\");\n",
       "      Bokeh.embed.inject_css(\"https://cdn.pydata.org/bokeh/release/bokeh-0.12.2.min.css\");\n",
       "      console.log(\"Bokeh: injecting CSS: https://cdn.pydata.org/bokeh/release/bokeh-widgets-0.12.2.min.css\");\n",
       "      Bokeh.embed.inject_css(\"https://cdn.pydata.org/bokeh/release/bokeh-widgets-0.12.2.min.css\");\n",
       "    }\n",
       "  ];\n",
       "\n",
       "  function run_inline_js() {\n",
       "    \n",
       "    if ((window.Bokeh !== undefined) || (force === \"1\")) {\n",
       "      for (var i = 0; i < inline_js.length; i++) {\n",
       "        inline_js[i](window.Bokeh);\n",
       "      }if (force === \"1\") {\n",
       "        display_loaded();\n",
       "      }} else if (Date.now() < window._bokeh_timeout) {\n",
       "      setTimeout(run_inline_js, 100);\n",
       "    } else if (!window._bokeh_failed_load) {\n",
       "      console.log(\"Bokeh: BokehJS failed to load within specified timeout.\");\n",
       "      window._bokeh_failed_load = true;\n",
       "    } else if (!force) {\n",
       "      var cell = $(\"#e49bfbe4-00c8-4233-b7c3-30bfef14eb58\").parents('.cell').data().cell;\n",
       "      cell.output_area.append_execute_result(NB_LOAD_WARNING)\n",
       "    }\n",
       "\n",
       "  }\n",
       "\n",
       "  if (window._bokeh_is_loading === 0) {\n",
       "    console.log(\"Bokeh: BokehJS loaded, going straight to plotting\");\n",
       "    run_inline_js();\n",
       "  } else {\n",
       "    load_libs(js_urls, function() {\n",
       "      console.log(\"Bokeh: BokehJS plotting callback run at\", now());\n",
       "      run_inline_js();\n",
       "    });\n",
       "  }\n",
       "}(this));"
      ]
     },
     "metadata": {},
     "output_type": "display_data"
    },
    {
     "data": {
      "text/html": [
       "\n",
       "\n",
       "    <div class=\"bk-root\">\n",
       "        <div class=\"plotdiv\" id=\"3400f229-4774-4376-829f-ebab86ab7631\"></div>\n",
       "    </div>\n",
       "<script type=\"text/javascript\">\n",
       "  \n",
       "  (function(global) {\n",
       "    function now() {\n",
       "      return new Date();\n",
       "    }\n",
       "  \n",
       "    var force = \"\";\n",
       "  \n",
       "    if (typeof (window._bokeh_onload_callbacks) === \"undefined\" || force !== \"\") {\n",
       "      window._bokeh_onload_callbacks = [];\n",
       "      window._bokeh_is_loading = undefined;\n",
       "    }\n",
       "  \n",
       "  \n",
       "    \n",
       "    if (typeof (window._bokeh_timeout) === \"undefined\" || force !== \"\") {\n",
       "      window._bokeh_timeout = Date.now() + 0;\n",
       "      window._bokeh_failed_load = false;\n",
       "    }\n",
       "  \n",
       "    var NB_LOAD_WARNING = {'data': {'text/html':\n",
       "       \"<div style='background-color: #fdd'>\\n\"+\n",
       "       \"<p>\\n\"+\n",
       "       \"BokehJS does not appear to have successfully loaded. If loading BokehJS from CDN, this \\n\"+\n",
       "       \"may be due to a slow or bad network connection. Possible fixes:\\n\"+\n",
       "       \"</p>\\n\"+\n",
       "       \"<ul>\\n\"+\n",
       "       \"<li>re-rerun `output_notebook()` to attempt to load from CDN again, or</li>\\n\"+\n",
       "       \"<li>use INLINE resources instead, as so:</li>\\n\"+\n",
       "       \"</ul>\\n\"+\n",
       "       \"<code>\\n\"+\n",
       "       \"from bokeh.resources import INLINE\\n\"+\n",
       "       \"output_notebook(resources=INLINE)\\n\"+\n",
       "       \"</code>\\n\"+\n",
       "       \"</div>\"}};\n",
       "  \n",
       "    function display_loaded() {\n",
       "      if (window.Bokeh !== undefined) {\n",
       "        Bokeh.$(\"#3400f229-4774-4376-829f-ebab86ab7631\").text(\"BokehJS successfully loaded.\");\n",
       "      } else if (Date.now() < window._bokeh_timeout) {\n",
       "        setTimeout(display_loaded, 100)\n",
       "      }\n",
       "    }\n",
       "  \n",
       "    function run_callbacks() {\n",
       "      window._bokeh_onload_callbacks.forEach(function(callback) { callback() });\n",
       "      delete window._bokeh_onload_callbacks\n",
       "      console.info(\"Bokeh: all callbacks have finished\");\n",
       "    }\n",
       "  \n",
       "    function load_libs(js_urls, callback) {\n",
       "      window._bokeh_onload_callbacks.push(callback);\n",
       "      if (window._bokeh_is_loading > 0) {\n",
       "        console.log(\"Bokeh: BokehJS is being loaded, scheduling callback at\", now());\n",
       "        return null;\n",
       "      }\n",
       "      if (js_urls == null || js_urls.length === 0) {\n",
       "        run_callbacks();\n",
       "        return null;\n",
       "      }\n",
       "      console.log(\"Bokeh: BokehJS not loaded, scheduling load and callback at\", now());\n",
       "      window._bokeh_is_loading = js_urls.length;\n",
       "      for (var i = 0; i < js_urls.length; i++) {\n",
       "        var url = js_urls[i];\n",
       "        var s = document.createElement('script');\n",
       "        s.src = url;\n",
       "        s.async = false;\n",
       "        s.onreadystatechange = s.onload = function() {\n",
       "          window._bokeh_is_loading--;\n",
       "          if (window._bokeh_is_loading === 0) {\n",
       "            console.log(\"Bokeh: all BokehJS libraries loaded\");\n",
       "            run_callbacks()\n",
       "          }\n",
       "        };\n",
       "        s.onerror = function() {\n",
       "          console.warn(\"failed to load library \" + url);\n",
       "        };\n",
       "        console.log(\"Bokeh: injecting script tag for BokehJS library: \", url);\n",
       "        document.getElementsByTagName(\"head\")[0].appendChild(s);\n",
       "      }\n",
       "    };var element = document.getElementById(\"3400f229-4774-4376-829f-ebab86ab7631\");\n",
       "    if (element == null) {\n",
       "      console.log(\"Bokeh: ERROR: autoload.js configured with elementid '3400f229-4774-4376-829f-ebab86ab7631' but no matching script tag was found. \")\n",
       "      return false;\n",
       "    }\n",
       "  \n",
       "    var js_urls = [];\n",
       "  \n",
       "    var inline_js = [\n",
       "      function(Bokeh) {\n",
       "        Bokeh.$(function() {\n",
       "            var docs_json = {\"b9f4ece3-f818-4d40-81df-f6d26e75bbd7\":{\"roots\":{\"references\":[{\"attributes\":{\"callback\":null,\"column_names\":[\"line_color\",\"color\",\"width\",\"label\",\"x\",\"height\",\"line_alpha\",\"y\",\"fill_alpha\"],\"data\":{\"QuestCreationYear\":[2008],\"QuestTags\":[\"c#\"],\"chart_index\":[{\"QuestCreationYear\":2008,\"QuestTags\":\"c#\"}],\"color\":[\"#E6E6FA\"],\"fill_alpha\":[0.8],\"height\":[372.0],\"label\":[{\"QuestCreationYear\":2008,\"QuestTags\":\"c#\"}],\"line_alpha\":[1.0],\"line_color\":[\"white\"],\"width\":[1.0],\"x\":[\"2008\"],\"y\":[186.0]}},\"id\":\"be82ae29-9a8d-4839-8ff0-00dd16ba9c8a\",\"type\":\"ColumnDataSource\"},{\"attributes\":{\"callback\":null,\"column_names\":[\"line_color\",\"color\",\"width\",\"label\",\"x\",\"height\",\"line_alpha\",\"y\",\"fill_alpha\"],\"data\":{\"QuestCreationYear\":[2009],\"QuestTags\":[\"java\"],\"chart_index\":[{\"QuestCreationYear\":2009,\"QuestTags\":\"java\"}],\"color\":[\"#FFB6C1\"],\"fill_alpha\":[0.8],\"height\":[2276.0],\"label\":[{\"QuestCreationYear\":2009,\"QuestTags\":\"java\"}],\"line_alpha\":[1.0],\"line_color\":[\"white\"],\"width\":[1.0],\"x\":[\"2009\"],\"y\":[5609.0]}},\"id\":\"457ede94-01d6-4d77-855b-8886280b81bb\",\"type\":\"ColumnDataSource\"},{\"attributes\":{\"data_source\":{\"id\":\"4dfdec3e-226e-4b1d-a608-1be06c23d6be\",\"type\":\"ColumnDataSource\"},\"glyph\":{\"id\":\"1c967e9f-004f-4c4a-8b57-68f1f616464c\",\"type\":\"Rect\"},\"hover_glyph\":null,\"nonselection_glyph\":null,\"selection_glyph\":null},\"id\":\"88bac2a5-2a39-45e9-8b3a-aeec04f80ba6\",\"type\":\"GlyphRenderer\"},{\"attributes\":{\"callback\":null,\"column_names\":[\"line_color\",\"color\",\"width\",\"label\",\"x\",\"height\",\"line_alpha\",\"y\",\"fill_alpha\"],\"data\":{\"QuestCreationYear\":[2013],\"QuestTags\":[\"python\"],\"chart_index\":[{\"QuestCreationYear\":2013,\"QuestTags\":\"python\"}],\"color\":[\"#778899\"],\"fill_alpha\":[0.8],\"height\":[9041.0],\"label\":[{\"QuestCreationYear\":2013,\"QuestTags\":\"python\"}],\"line_alpha\":[1.0],\"line_color\":[\"white\"],\"width\":[1.0],\"x\":[\"2013\"],\"y\":[109351.5]}},\"id\":\"a349ff71-ab55-4105-8ef1-9a8da88e5dfd\",\"type\":\"ColumnDataSource\"},{\"attributes\":{\"fill_alpha\":{\"field\":\"fill_alpha\"},\"fill_color\":{\"field\":\"color\"},\"height\":{\"field\":\"height\",\"units\":\"data\"},\"line_color\":{\"field\":\"line_color\"},\"width\":{\"field\":\"width\",\"units\":\"data\"},\"x\":{\"field\":\"x\"},\"y\":{\"field\":\"y\"}},\"id\":\"69f66d72-5ade-4398-918a-8a192f9d0d7a\",\"type\":\"Rect\"},{\"attributes\":{\"callback\":null,\"column_names\":[\"line_color\",\"color\",\"width\",\"label\",\"x\",\"height\",\"line_alpha\",\"y\",\"fill_alpha\"],\"data\":{\"QuestCreationYear\":[2012],\"QuestTags\":[\"c++\"],\"chart_index\":[{\"QuestCreationYear\":2012,\"QuestTags\":\"c++\"}],\"color\":[\"#FFF0F5\"],\"fill_alpha\":[0.8],\"height\":[5923.0],\"label\":[{\"QuestCreationYear\":2012,\"QuestTags\":\"c++\"}],\"line_alpha\":[1.0],\"line_color\":[\"white\"],\"width\":[1.0],\"x\":[\"2012\"],\"y\":[98730.5]}},\"id\":\"1f89cd1b-3dae-4663-8606-bf10f55b5043\",\"type\":\"ColumnDataSource\"},{\"attributes\":{\"data_source\":{\"id\":\"7f2c4bb3-3b90-4ef8-ad14-e9d9c96fbb08\",\"type\":\"ColumnDataSource\"},\"glyph\":{\"id\":\"abfff335-b05d-4b8b-ac83-2091e963fbcc\",\"type\":\"Rect\"},\"hover_glyph\":null,\"nonselection_glyph\":null,\"selection_glyph\":null},\"id\":\"b51ebb4b-04dc-4ebf-bff3-a8cb8c84275b\",\"type\":\"GlyphRenderer\"},{\"attributes\":{\"fill_alpha\":{\"field\":\"fill_alpha\"},\"fill_color\":{\"field\":\"color\"},\"height\":{\"field\":\"height\",\"units\":\"data\"},\"line_color\":{\"field\":\"line_color\"},\"width\":{\"field\":\"width\",\"units\":\"data\"},\"x\":{\"field\":\"x\"},\"y\":{\"field\":\"y\"}},\"id\":\"3345169f-3904-4a58-b59c-de1fb17f0975\",\"type\":\"Rect\"},{\"attributes\":{\"callback\":null,\"column_names\":[\"line_color\",\"color\",\"width\",\"label\",\"x\",\"height\",\"line_alpha\",\"y\",\"fill_alpha\"],\"data\":{\"QuestCreationYear\":[2010],\"QuestTags\":[\"c++\"],\"chart_index\":[{\"QuestCreationYear\":2010,\"QuestTags\":\"c++\"}],\"color\":[\"#FFF0F5\"],\"fill_alpha\":[0.8],\"height\":[3089.0],\"label\":[{\"QuestCreationYear\":2010,\"QuestTags\":\"c++\"}],\"line_alpha\":[1.0],\"line_color\":[\"white\"],\"width\":[1.0],\"x\":[\"2010\"],\"y\":[30981.5]}},\"id\":\"9bd44bad-2631-498d-a7da-4bbbc6390704\",\"type\":\"ColumnDataSource\"},{\"attributes\":{\"plot\":null,\"text\":\"Top 10 Tags Used Throughout the Year\"},\"id\":\"363d4dd8-b6f7-4a1f-a780-8278da95ea9f\",\"type\":\"Title\"},{\"attributes\":{\"fill_alpha\":{\"field\":\"fill_alpha\"},\"fill_color\":{\"field\":\"color\"},\"height\":{\"field\":\"height\",\"units\":\"data\"},\"line_color\":{\"field\":\"line_color\"},\"width\":{\"field\":\"width\",\"units\":\"data\"},\"x\":{\"field\":\"x\"},\"y\":{\"field\":\"y\"}},\"id\":\"a7ce52cf-31c2-453d-acea-9cecf1d60ca7\",\"type\":\"Rect\"},{\"attributes\":{\"callback\":null,\"column_names\":[\"line_color\",\"color\",\"width\",\"label\",\"x\",\"height\",\"line_alpha\",\"y\",\"fill_alpha\"],\"data\":{\"QuestCreationYear\":[2011],\"QuestTags\":[\"python\"],\"chart_index\":[{\"QuestCreationYear\":2011,\"QuestTags\":\"python\"}],\"color\":[\"#778899\"],\"fill_alpha\":[0.8],\"height\":[4154.0],\"label\":[{\"QuestCreationYear\":2011,\"QuestTags\":\"python\"}],\"line_alpha\":[1.0],\"line_color\":[\"white\"],\"width\":[1.0],\"x\":[\"2011\"],\"y\":[71199.0]}},\"id\":\"73d55bc4-67f6-41e0-beaf-ad231215072e\",\"type\":\"ColumnDataSource\"},{\"attributes\":{\"callback\":null,\"column_names\":[\"line_color\",\"color\",\"width\",\"label\",\"x\",\"height\",\"line_alpha\",\"y\",\"fill_alpha\"],\"data\":{\"QuestCreationYear\":[2014],\"QuestTags\":[\"css\"],\"chart_index\":[{\"QuestCreationYear\":2014,\"QuestTags\":\"css\"}],\"color\":[\"#90EE90\"],\"fill_alpha\":[0.8],\"height\":[8366.0],\"label\":[{\"QuestCreationYear\":2014,\"QuestTags\":\"css\"}],\"line_alpha\":[1.0],\"line_color\":[\"white\"],\"width\":[1.0],\"x\":[\"2014\"],\"y\":[141242.0]}},\"id\":\"82514b7c-0060-43cd-bbdc-6323ccf492a2\",\"type\":\"ColumnDataSource\"},{\"attributes\":{\"callback\":null,\"column_names\":[\"line_color\",\"color\",\"width\",\"label\",\"x\",\"height\",\"line_alpha\",\"y\",\"fill_alpha\"],\"data\":{\"QuestCreationYear\":[2015],\"QuestTags\":[\"android\"],\"chart_index\":[{\"QuestCreationYear\":2015,\"QuestTags\":\"android\"}],\"color\":[\"#FF6347\"],\"fill_alpha\":[0.8],\"height\":[16622.0],\"label\":[{\"QuestCreationYear\":2015,\"QuestTags\":\"android\"}],\"line_alpha\":[1.0],\"line_color\":[\"white\"],\"width\":[1.0],\"x\":[\"2015\"],\"y\":[54591.0]}},\"id\":\"a5cd198f-0e29-487e-b24a-7bc5c056af0d\",\"type\":\"ColumnDataSource\"},{\"attributes\":{\"fill_alpha\":{\"field\":\"fill_alpha\"},\"fill_color\":{\"field\":\"color\"},\"height\":{\"field\":\"height\",\"units\":\"data\"},\"line_color\":{\"field\":\"line_color\"},\"width\":{\"field\":\"width\",\"units\":\"data\"},\"x\":{\"field\":\"x\"},\"y\":{\"field\":\"y\"}},\"id\":\"7f39fdaa-b914-4a3f-a132-35c63965e04b\",\"type\":\"Rect\"},{\"attributes\":{\"fill_alpha\":{\"field\":\"fill_alpha\"},\"fill_color\":{\"field\":\"color\"},\"height\":{\"field\":\"height\",\"units\":\"data\"},\"line_color\":{\"field\":\"line_color\"},\"width\":{\"field\":\"width\",\"units\":\"data\"},\"x\":{\"field\":\"x\"},\"y\":{\"field\":\"y\"}},\"id\":\"49e703d3-24ec-4dc7-843c-0af8b2bbd882\",\"type\":\"Rect\"},{\"attributes\":{\"data_source\":{\"id\":\"457ede94-01d6-4d77-855b-8886280b81bb\",\"type\":\"ColumnDataSource\"},\"glyph\":{\"id\":\"c12b8b4c-cb66-4d87-9e6b-859394b882da\",\"type\":\"Rect\"},\"hover_glyph\":null,\"nonselection_glyph\":null,\"selection_glyph\":null},\"id\":\"323ffb3b-4959-4c92-81a4-2c86110b016a\",\"type\":\"GlyphRenderer\"},{\"attributes\":{\"data_source\":{\"id\":\"4d300f89-edbb-4efa-9716-69a95b3b8e00\",\"type\":\"ColumnDataSource\"},\"glyph\":{\"id\":\"1fa02be9-3d3d-40c9-9812-0ebd158f59a2\",\"type\":\"Rect\"},\"hover_glyph\":null,\"nonselection_glyph\":null,\"selection_glyph\":null},\"id\":\"cc08ab8f-1cae-46c7-ae59-a4c440a5b18d\",\"type\":\"GlyphRenderer\"},{\"attributes\":{\"data_source\":{\"id\":\"86b18198-87eb-4867-b106-efd51dcc9a40\",\"type\":\"ColumnDataSource\"},\"glyph\":{\"id\":\"c092456a-1076-4ba6-aa48-c537160ee6f8\",\"type\":\"Rect\"},\"hover_glyph\":null,\"nonselection_glyph\":null,\"selection_glyph\":null},\"id\":\"9b9a9fd4-e1da-4fad-a756-f3d39517572e\",\"type\":\"GlyphRenderer\"},{\"attributes\":{\"fill_alpha\":{\"field\":\"fill_alpha\"},\"fill_color\":{\"field\":\"color\"},\"height\":{\"field\":\"height\",\"units\":\"data\"},\"line_color\":{\"field\":\"line_color\"},\"width\":{\"field\":\"width\",\"units\":\"data\"},\"x\":{\"field\":\"x\"},\"y\":{\"field\":\"y\"}},\"id\":\"5a511ef5-7654-4fb1-a308-efb5f01db030\",\"type\":\"Rect\"},{\"attributes\":{\"plot\":{\"id\":\"fa463bf3-b648-4bef-9edf-1fecbbd8ace9\",\"subtype\":\"Chart\",\"type\":\"Plot\"}},\"id\":\"f8c170d2-3b84-44b6-81f2-93df1d8a9608\",\"type\":\"ResetTool\"},{\"attributes\":{\"data_source\":{\"id\":\"68d14149-4f0e-4a22-8863-2842727522a6\",\"type\":\"ColumnDataSource\"},\"glyph\":{\"id\":\"5f6bcfc2-a4f3-4b6f-b92c-08b570e33224\",\"type\":\"Rect\"},\"hover_glyph\":null,\"nonselection_glyph\":null,\"selection_glyph\":null},\"id\":\"452a7d7a-908f-4baf-a33c-1ccbd9d8f195\",\"type\":\"GlyphRenderer\"},{\"attributes\":{\"fill_alpha\":{\"field\":\"fill_alpha\"},\"fill_color\":{\"field\":\"color\"},\"height\":{\"field\":\"height\",\"units\":\"data\"},\"line_color\":{\"field\":\"line_color\"},\"width\":{\"field\":\"width\",\"units\":\"data\"},\"x\":{\"field\":\"x\"},\"y\":{\"field\":\"y\"}},\"id\":\"7ea6aef7-2c1a-4015-8dd7-4eb56b7fb401\",\"type\":\"Rect\"},{\"attributes\":{\"callback\":null,\"column_names\":[\"line_color\",\"color\",\"width\",\"label\",\"x\",\"height\",\"line_alpha\",\"y\",\"fill_alpha\"],\"data\":{\"QuestCreationYear\":[2015],\"QuestTags\":[\"c#\"],\"chart_index\":[{\"QuestCreationYear\":2015,\"QuestTags\":\"c#\"}],\"color\":[\"#E6E6FA\"],\"fill_alpha\":[0.8],\"height\":[15407.0],\"label\":[{\"QuestCreationYear\":2015,\"QuestTags\":\"c#\"}],\"line_alpha\":[1.0],\"line_color\":[\"white\"],\"width\":[1.0],\"x\":[\"2015\"],\"y\":[86801.5]}},\"id\":\"407432e0-a7c0-4374-8667-c1cf2b56db9e\",\"type\":\"ColumnDataSource\"},{\"attributes\":{\"data_source\":{\"id\":\"85a44995-79b3-46a8-bdd8-02c671e97f2b\",\"type\":\"ColumnDataSource\"},\"glyph\":{\"id\":\"9aa5a3ca-f60d-4e47-9ea8-7d6ad7fde7fd\",\"type\":\"Rect\"},\"hover_glyph\":null,\"nonselection_glyph\":null,\"selection_glyph\":null},\"id\":\"1070da40-2638-46e7-90de-6a3ceeaf9fc2\",\"type\":\"GlyphRenderer\"},{\"attributes\":{\"callback\":null,\"column_names\":[\"line_color\",\"color\",\"width\",\"label\",\"x\",\"height\",\"line_alpha\",\"y\",\"fill_alpha\"],\"data\":{\"QuestCreationYear\":[2011],\"QuestTags\":[\"android\"],\"chart_index\":[{\"QuestCreationYear\":2011,\"QuestTags\":\"android\"}],\"color\":[\"#FF6347\"],\"fill_alpha\":[0.8],\"height\":[8457.0],\"label\":[{\"QuestCreationYear\":2011,\"QuestTags\":\"android\"}],\"line_alpha\":[1.0],\"line_color\":[\"white\"],\"width\":[1.0],\"x\":[\"2011\"],\"y\":[42700.5]}},\"id\":\"0eff5007-ba62-4e2d-9e34-210c344687c9\",\"type\":\"ColumnDataSource\"},{\"attributes\":{\"fill_alpha\":{\"field\":\"fill_alpha\"},\"fill_color\":{\"field\":\"color\"},\"height\":{\"field\":\"height\",\"units\":\"data\"},\"line_color\":{\"field\":\"line_color\"},\"width\":{\"field\":\"width\",\"units\":\"data\"},\"x\":{\"field\":\"x\"},\"y\":{\"field\":\"y\"}},\"id\":\"66abe0a5-0823-46cb-b17d-8c86712b4493\",\"type\":\"Rect\"},{\"attributes\":{\"data_source\":{\"id\":\"7b919eac-aca1-4fe9-ad23-56244ea721e9\",\"type\":\"ColumnDataSource\"},\"glyph\":{\"id\":\"ca0bb891-2875-4f96-9a3a-57bd50dbb123\",\"type\":\"Rect\"},\"hover_glyph\":null,\"nonselection_glyph\":null,\"selection_glyph\":null},\"id\":\"74ab706b-39bc-4cf9-a6d5-50f429632229\",\"type\":\"GlyphRenderer\"},{\"attributes\":{\"data_source\":{\"id\":\"30a0b34a-903c-4e8a-b6aa-0149b610b11c\",\"type\":\"ColumnDataSource\"},\"glyph\":{\"id\":\"40859d73-c7f8-4ea1-8058-1a02e3c7649e\",\"type\":\"Rect\"},\"hover_glyph\":null,\"nonselection_glyph\":null,\"selection_glyph\":null},\"id\":\"bf59f302-53ca-49d1-8f6c-0698fd8a85ba\",\"type\":\"GlyphRenderer\"},{\"attributes\":{\"callback\":null,\"column_names\":[\"line_color\",\"color\",\"width\",\"label\",\"x\",\"height\",\"line_alpha\",\"y\",\"fill_alpha\"],\"data\":{\"QuestCreationYear\":[2008],\"QuestTags\":[\"python\"],\"chart_index\":[{\"QuestCreationYear\":2008,\"QuestTags\":\"python\"}],\"color\":[\"#778899\"],\"fill_alpha\":[0.8],\"height\":[121.0],\"label\":[{\"QuestCreationYear\":2008,\"QuestTags\":\"python\"}],\"line_alpha\":[1.0],\"line_color\":[\"white\"],\"width\":[1.0],\"x\":[\"2008\"],\"y\":[1602.5]}},\"id\":\"4f1de014-9141-4289-a655-4043d05636fe\",\"type\":\"ColumnDataSource\"},{\"attributes\":{\"fill_alpha\":{\"field\":\"fill_alpha\"},\"fill_color\":{\"field\":\"color\"},\"height\":{\"field\":\"height\",\"units\":\"data\"},\"line_color\":{\"field\":\"line_color\"},\"width\":{\"field\":\"width\",\"units\":\"data\"},\"x\":{\"field\":\"x\"},\"y\":{\"field\":\"y\"}},\"id\":\"7b6563a8-d33b-4f54-acc6-7105a5917b46\",\"type\":\"Rect\"},{\"attributes\":{\"data_source\":{\"id\":\"26ad28f5-6d70-4f96-a2af-970bbc55a2f6\",\"type\":\"ColumnDataSource\"},\"glyph\":{\"id\":\"a526bf3c-8502-43cc-8dda-8065495b6fae\",\"type\":\"Rect\"},\"hover_glyph\":null,\"nonselection_glyph\":null,\"selection_glyph\":null},\"id\":\"b99176ce-7064-42ad-9f4c-fc1e5debb4c6\",\"type\":\"GlyphRenderer\"},{\"attributes\":{\"callback\":null,\"column_names\":[\"line_color\",\"color\",\"width\",\"label\",\"x\",\"height\",\"line_alpha\",\"y\",\"fill_alpha\"],\"data\":{\"QuestCreationYear\":[2016],\"QuestTags\":[\"android\"],\"chart_index\":[{\"QuestCreationYear\":2016,\"QuestTags\":\"android\"}],\"color\":[\"#FF6347\"],\"fill_alpha\":[0.8],\"height\":[15029.0],\"label\":[{\"QuestCreationYear\":2016,\"QuestTags\":\"android\"}],\"line_alpha\":[1.0],\"line_color\":[\"white\"],\"width\":[1.0],\"x\":[\"2016\"],\"y\":[46726.5]}},\"id\":\"6d4aee27-0f9a-44bb-8513-1ca2bb270976\",\"type\":\"ColumnDataSource\"},{\"attributes\":{\"callback\":null,\"column_names\":[\"line_color\",\"color\",\"width\",\"label\",\"x\",\"height\",\"line_alpha\",\"y\",\"fill_alpha\"],\"data\":{\"QuestCreationYear\":[2010],\"QuestTags\":[\"android\"],\"chart_index\":[{\"QuestCreationYear\":2010,\"QuestTags\":\"android\"}],\"color\":[\"#FF6347\"],\"fill_alpha\":[0.8],\"height\":[2717.0],\"label\":[{\"QuestCreationYear\":2010,\"QuestTags\":\"android\"}],\"line_alpha\":[1.0],\"line_color\":[\"white\"],\"width\":[1.0],\"x\":[\"2010\"],\"y\":[39966.5]}},\"id\":\"b0921fb6-0b8e-4f1d-920b-6b5f50f5cafb\",\"type\":\"ColumnDataSource\"},{\"attributes\":{\"data_source\":{\"id\":\"aae71aa2-5997-4fe8-a8a7-dc6cc9df4613\",\"type\":\"ColumnDataSource\"},\"glyph\":{\"id\":\"84dc90fb-1c8b-4c79-a0a1-0add130b3897\",\"type\":\"Rect\"},\"hover_glyph\":null,\"nonselection_glyph\":null,\"selection_glyph\":null},\"id\":\"1b5238a0-8980-4295-a95b-c4a3806781c7\",\"type\":\"GlyphRenderer\"},{\"attributes\":{\"callback\":null,\"column_names\":[\"line_color\",\"color\",\"width\",\"label\",\"x\",\"height\",\"line_alpha\",\"y\",\"fill_alpha\"],\"data\":{\"QuestCreationYear\":[2011],\"QuestTags\":[\"java\"],\"chart_index\":[{\"QuestCreationYear\":2011,\"QuestTags\":\"java\"}],\"color\":[\"#FFB6C1\"],\"fill_alpha\":[0.8],\"height\":[9414.0],\"label\":[{\"QuestCreationYear\":2011,\"QuestTags\":\"java\"}],\"line_alpha\":[1.0],\"line_color\":[\"white\"],\"width\":[1.0],\"x\":[\"2011\"],\"y\":[15622.0]}},\"id\":\"7ee5ab9e-bad2-49b6-9ba9-9d1593b4ecc4\",\"type\":\"ColumnDataSource\"},{\"attributes\":{\"fill_alpha\":{\"field\":\"fill_alpha\"},\"fill_color\":{\"field\":\"color\"},\"height\":{\"field\":\"height\",\"units\":\"data\"},\"line_color\":{\"field\":\"line_color\"},\"width\":{\"field\":\"width\",\"units\":\"data\"},\"x\":{\"field\":\"x\"},\"y\":{\"field\":\"y\"}},\"id\":\"800896a1-5688-4eb6-9dc2-a2ed12915312\",\"type\":\"Rect\"},{\"attributes\":{\"callback\":null,\"column_names\":[\"line_color\",\"color\",\"width\",\"label\",\"x\",\"height\",\"line_alpha\",\"y\",\"fill_alpha\"],\"data\":{\"QuestCreationYear\":[2012],\"QuestTags\":[\"android\"],\"chart_index\":[{\"QuestCreationYear\":2012,\"QuestTags\":\"android\"}],\"color\":[\"#FF6347\"],\"fill_alpha\":[0.8],\"height\":[12802.0],\"label\":[{\"QuestCreationYear\":2012,\"QuestTags\":\"android\"}],\"line_alpha\":[1.0],\"line_color\":[\"white\"],\"width\":[1.0],\"x\":[\"2012\"],\"y\":[46404.0]}},\"id\":\"af959c57-dafe-430c-bf16-533b849cc3b9\",\"type\":\"ColumnDataSource\"},{\"attributes\":{\"fill_alpha\":{\"field\":\"fill_alpha\"},\"fill_color\":{\"field\":\"color\"},\"height\":{\"field\":\"height\",\"units\":\"data\"},\"line_color\":{\"field\":\"line_color\"},\"width\":{\"field\":\"width\",\"units\":\"data\"},\"x\":{\"field\":\"x\"},\"y\":{\"field\":\"y\"}},\"id\":\"cbff0aa3-0c9c-4984-a783-9059b8aae230\",\"type\":\"Rect\"},{\"attributes\":{\"callback\":null,\"column_names\":[\"line_color\",\"color\",\"width\",\"label\",\"x\",\"height\",\"line_alpha\",\"y\",\"fill_alpha\"],\"data\":{\"QuestCreationYear\":[2015],\"QuestTags\":[\"ios\"],\"chart_index\":[{\"QuestCreationYear\":2015,\"QuestTags\":\"ios\"}],\"color\":[\"#F08080\"],\"fill_alpha\":[0.8],\"height\":[10007.0],\"label\":[{\"QuestCreationYear\":2015,\"QuestTags\":\"ios\"}],\"line_alpha\":[1.0],\"line_color\":[\"white\"],\"width\":[1.0],\"x\":[\"2015\"],\"y\":[137204.5]}},\"id\":\"667d4a19-9485-4b9b-97ab-efce63b8d809\",\"type\":\"ColumnDataSource\"},{\"attributes\":{\"data_source\":{\"id\":\"b04078db-1d82-4f2a-9fb4-36e28d031818\",\"type\":\"ColumnDataSource\"},\"glyph\":{\"id\":\"b8c1244f-4317-4cb2-8019-d8860fa926ce\",\"type\":\"Rect\"},\"hover_glyph\":null,\"nonselection_glyph\":null,\"selection_glyph\":null},\"id\":\"2a30adcf-4a8c-4b8f-984b-7fac12c8e8cd\",\"type\":\"GlyphRenderer\"},{\"attributes\":{\"fill_alpha\":{\"field\":\"fill_alpha\"},\"fill_color\":{\"field\":\"color\"},\"height\":{\"field\":\"height\",\"units\":\"data\"},\"line_color\":{\"field\":\"line_color\"},\"width\":{\"field\":\"width\",\"units\":\"data\"},\"x\":{\"field\":\"x\"},\"y\":{\"field\":\"y\"}},\"id\":\"dfbd985f-ebb8-4986-a19b-85a94ee49149\",\"type\":\"Rect\"},{\"attributes\":{\"callback\":null,\"column_names\":[\"line_color\",\"color\",\"width\",\"label\",\"x\",\"height\",\"line_alpha\",\"y\",\"fill_alpha\"],\"data\":{\"QuestCreationYear\":[2010],\"QuestTags\":[\"php\"],\"chart_index\":[{\"QuestCreationYear\":2010,\"QuestTags\":\"php\"}],\"color\":[\"#FFA07A\"],\"fill_alpha\":[0.8],\"height\":[4999.0],\"label\":[{\"QuestCreationYear\":2010,\"QuestTags\":\"php\"}],\"line_alpha\":[1.0],\"line_color\":[\"white\"],\"width\":[1.0],\"x\":[\"2010\"],\"y\":[15103.5]}},\"id\":\"c926c65b-d287-4923-905d-ca863267ce38\",\"type\":\"ColumnDataSource\"},{\"attributes\":{\"fill_alpha\":{\"field\":\"fill_alpha\"},\"fill_color\":{\"field\":\"color\"},\"height\":{\"field\":\"height\",\"units\":\"data\"},\"line_color\":{\"field\":\"line_color\"},\"width\":{\"field\":\"width\",\"units\":\"data\"},\"x\":{\"field\":\"x\"},\"y\":{\"field\":\"y\"}},\"id\":\"baa47271-0d71-4110-bb09-ed63957e24e4\",\"type\":\"Rect\"},{\"attributes\":{\"callback\":null,\"column_names\":[\"line_color\",\"color\",\"width\",\"label\",\"x\",\"height\",\"line_alpha\",\"y\",\"fill_alpha\"],\"data\":{\"QuestCreationYear\":[2016],\"QuestTags\":[\"javascript\"],\"chart_index\":[{\"QuestCreationYear\":2016,\"QuestTags\":\"javascript\"}],\"color\":[\"#87CEFA\"],\"fill_alpha\":[0.8],\"height\":[22578.0],\"label\":[{\"QuestCreationYear\":2016,\"QuestTags\":\"javascript\"}],\"line_alpha\":[1.0],\"line_color\":[\"white\"],\"width\":[1.0],\"x\":[\"2016\"],\"y\":[11289.0]}},\"id\":\"3653faea-f120-4615-bf8d-daa8b7d6e119\",\"type\":\"ColumnDataSource\"},{\"attributes\":{\"fill_alpha\":{\"field\":\"fill_alpha\"},\"fill_color\":{\"field\":\"color\"},\"height\":{\"field\":\"height\",\"units\":\"data\"},\"line_color\":{\"field\":\"line_color\"},\"width\":{\"field\":\"width\",\"units\":\"data\"},\"x\":{\"field\":\"x\"},\"y\":{\"field\":\"y\"}},\"id\":\"664edea7-7215-42d0-8116-eadf5cafa244\",\"type\":\"Rect\"},{\"attributes\":{\"fill_alpha\":{\"field\":\"fill_alpha\"},\"fill_color\":{\"field\":\"color\"},\"height\":{\"field\":\"height\",\"units\":\"data\"},\"line_color\":{\"field\":\"line_color\"},\"width\":{\"field\":\"width\",\"units\":\"data\"},\"x\":{\"field\":\"x\"},\"y\":{\"field\":\"y\"}},\"id\":\"31ff8972-6ca3-478b-b762-631791827d77\",\"type\":\"Rect\"},{\"attributes\":{\"callback\":null,\"column_names\":[\"line_color\",\"color\",\"width\",\"label\",\"x\",\"height\",\"line_alpha\",\"y\",\"fill_alpha\"],\"data\":{\"QuestCreationYear\":[2011],\"QuestTags\":[\"c#\"],\"chart_index\":[{\"QuestCreationYear\":2011,\"QuestTags\":\"c#\"}],\"color\":[\"#E6E6FA\"],\"fill_alpha\":[0.8],\"height\":[10915.0],\"label\":[{\"QuestCreationYear\":2011,\"QuestTags\":\"c#\"}],\"line_alpha\":[1.0],\"line_color\":[\"white\"],\"width\":[1.0],\"x\":[\"2011\"],\"y\":[5457.5]}},\"id\":\"443ab6df-5ee3-4ac2-a926-a0a5c163776c\",\"type\":\"ColumnDataSource\"},{\"attributes\":{},\"id\":\"7ce849c9-1532-473f-a237-b42481af2b36\",\"type\":\"BasicTickFormatter\"},{\"attributes\":{\"fill_alpha\":{\"field\":\"fill_alpha\"},\"fill_color\":{\"field\":\"color\"},\"height\":{\"field\":\"height\",\"units\":\"data\"},\"line_color\":{\"field\":\"line_color\"},\"width\":{\"field\":\"width\",\"units\":\"data\"},\"x\":{\"field\":\"x\"},\"y\":{\"field\":\"y\"}},\"id\":\"7b144027-bec9-4481-8e0e-343ebcb7be6c\",\"type\":\"Rect\"},{\"attributes\":{\"data_source\":{\"id\":\"c926c65b-d287-4923-905d-ca863267ce38\",\"type\":\"ColumnDataSource\"},\"glyph\":{\"id\":\"cb76a128-f2e4-413b-87a9-f9583ea0dfbe\",\"type\":\"Rect\"},\"hover_glyph\":null,\"nonselection_glyph\":null,\"selection_glyph\":null},\"id\":\"4e907f62-4116-432f-a367-2f32e9894081\",\"type\":\"GlyphRenderer\"},{\"attributes\":{\"callback\":null,\"column_names\":[\"line_color\",\"color\",\"width\",\"label\",\"x\",\"height\",\"line_alpha\",\"y\",\"fill_alpha\"],\"data\":{\"QuestCreationYear\":[2010],\"QuestTags\":[\"javascript\"],\"chart_index\":[{\"QuestCreationYear\":2010,\"QuestTags\":\"javascript\"}],\"color\":[\"#87CEFA\"],\"fill_alpha\":[0.8],\"height\":[4182.0],\"label\":[{\"QuestCreationYear\":2010,\"QuestTags\":\"javascript\"}],\"line_alpha\":[1.0],\"line_color\":[\"white\"],\"width\":[1.0],\"x\":[\"2010\"],\"y\":[19694.0]}},\"id\":\"26ad28f5-6d70-4f96-a2af-970bbc55a2f6\",\"type\":\"ColumnDataSource\"},{\"attributes\":{\"fill_alpha\":{\"field\":\"fill_alpha\"},\"fill_color\":{\"field\":\"color\"},\"height\":{\"field\":\"height\",\"units\":\"data\"},\"line_color\":{\"field\":\"line_color\"},\"width\":{\"field\":\"width\",\"units\":\"data\"},\"x\":{\"field\":\"x\"},\"y\":{\"field\":\"y\"}},\"id\":\"7e687642-f6fd-4627-8e8c-88ba93db957f\",\"type\":\"Rect\"},{\"attributes\":{\"legends\":[[\"c#\",[{\"id\":\"5deb1876-cf24-44fa-bd14-bfdf305e3140\",\"type\":\"GlyphRenderer\"}]],[\".net\",[{\"id\":\"0ad9eeeb-cf8b-4d89-8523-cdde2a09fcf5\",\"type\":\"GlyphRenderer\"}]],[\"asp.net\",[{\"id\":\"1070da40-2638-46e7-90de-6a3ceeaf9fc2\",\"type\":\"GlyphRenderer\"}]],[\"java\",[{\"id\":\"411ac133-87be-4d60-8193-06a925858e09\",\"type\":\"GlyphRenderer\"}]],[\"c++\",[{\"id\":\"b4f77bb6-8307-425a-8d45-baca82989a19\",\"type\":\"GlyphRenderer\"}]],[\"javascript\",[{\"id\":\"f544b984-1a46-4b18-827f-2d474fce481d\",\"type\":\"GlyphRenderer\"}]],[\"php\",[{\"id\":\"44d833a4-df95-40ee-b476-ca893775ca4a\",\"type\":\"GlyphRenderer\"}]],[\"python\",[{\"id\":\"b5e26009-9193-4f5d-bc02-bb6be3571c74\",\"type\":\"GlyphRenderer\"}]],[\"sql\",[{\"id\":\"4a38b6ea-e1af-42b7-bbf0-9cf82e14e740\",\"type\":\"GlyphRenderer\"}]],[\"sql-server\",[{\"id\":\"992f31e5-0ec7-4d9a-b53a-9980bd1619f9\",\"type\":\"GlyphRenderer\"}]],[\"jquery\",[{\"id\":\"cc08ab8f-1cae-46c7-ae59-a4c440a5b18d\",\"type\":\"GlyphRenderer\"}]],[\"iphone\",[{\"id\":\"8419786f-9724-4cda-9b75-77dd1f5ff3fb\",\"type\":\"GlyphRenderer\"}]],[\"android\",[{\"id\":\"2be95257-d525-4cab-9cc1-1cc301e9c06d\",\"type\":\"GlyphRenderer\"}]],[\"ios\",[{\"id\":\"f5448b8c-b615-48e4-89c8-3d07dd4f4473\",\"type\":\"GlyphRenderer\"}]],[\"html\",[{\"id\":\"0637e8bb-1a39-443e-b801-7e2965b5eb0d\",\"type\":\"GlyphRenderer\"}]],[\"css\",[{\"id\":\"5dc466cf-f6ca-4d40-9817-cf968e352c2c\",\"type\":\"GlyphRenderer\"}]]],\"plot\":{\"id\":\"fa463bf3-b648-4bef-9edf-1fecbbd8ace9\",\"subtype\":\"Chart\",\"type\":\"Plot\"}},\"id\":\"65c40ac6-7103-40e5-bbf6-841fd4103229\",\"type\":\"Legend\"},{\"attributes\":{\"callback\":null,\"column_names\":[\"line_color\",\"color\",\"width\",\"label\",\"x\",\"height\",\"line_alpha\",\"y\",\"fill_alpha\"],\"data\":{\"QuestCreationYear\":[2011],\"QuestTags\":[\"c++\"],\"chart_index\":[{\"QuestCreationYear\":2011,\"QuestTags\":\"c++\"}],\"color\":[\"#FFF0F5\"],\"fill_alpha\":[0.8],\"height\":[4530.0],\"label\":[{\"QuestCreationYear\":2011,\"QuestTags\":\"c++\"}],\"line_alpha\":[1.0],\"line_color\":[\"white\"],\"width\":[1.0],\"x\":[\"2011\"],\"y\":[62700.0]}},\"id\":\"7cdd4440-c327-4151-85b7-4c348120010d\",\"type\":\"ColumnDataSource\"},{\"attributes\":{\"data_source\":{\"id\":\"be82ae29-9a8d-4839-8ff0-00dd16ba9c8a\",\"type\":\"ColumnDataSource\"},\"glyph\":{\"id\":\"be9ecfd4-d426-4b84-9534-bae62b85df92\",\"type\":\"Rect\"},\"hover_glyph\":null,\"nonselection_glyph\":null,\"selection_glyph\":null},\"id\":\"5deb1876-cf24-44fa-bd14-bfdf305e3140\",\"type\":\"GlyphRenderer\"},{\"attributes\":{\"fill_alpha\":{\"field\":\"fill_alpha\"},\"fill_color\":{\"field\":\"color\"},\"height\":{\"field\":\"height\",\"units\":\"data\"},\"line_color\":{\"field\":\"line_color\"},\"width\":{\"field\":\"width\",\"units\":\"data\"},\"x\":{\"field\":\"x\"},\"y\":{\"field\":\"y\"}},\"id\":\"c092456a-1076-4ba6-aa48-c537160ee6f8\",\"type\":\"Rect\"},{\"attributes\":{\"active_drag\":\"auto\",\"active_scroll\":\"auto\",\"active_tap\":\"auto\",\"tools\":[{\"id\":\"7ba5932a-5521-4f21-9dea-17f7ecb0d55a\",\"type\":\"PanTool\"},{\"id\":\"0c66129b-7411-4499-9594-1b9c025d14f3\",\"type\":\"WheelZoomTool\"},{\"id\":\"d148c4d5-895d-4529-85a3-b1614ffd1bda\",\"type\":\"BoxZoomTool\"},{\"id\":\"553725da-0ebd-49a3-af7d-a0f5b321f933\",\"type\":\"SaveTool\"},{\"id\":\"f8c170d2-3b84-44b6-81f2-93df1d8a9608\",\"type\":\"ResetTool\"},{\"id\":\"7e6f6039-0e04-4e9b-a34d-f1f91cf90b7f\",\"type\":\"HelpTool\"}]},\"id\":\"c4393070-4af1-40c7-9bac-d94177cebe42\",\"type\":\"Toolbar\"},{\"attributes\":{\"data_source\":{\"id\":\"d5936d18-e422-46a1-bbbc-8f3ab6855e88\",\"type\":\"ColumnDataSource\"},\"glyph\":{\"id\":\"700ba81b-3175-4543-abc0-94d607dde25e\",\"type\":\"Rect\"},\"hover_glyph\":null,\"nonselection_glyph\":null,\"selection_glyph\":null},\"id\":\"ff5fb848-399a-46c3-beed-c2463ac65758\",\"type\":\"GlyphRenderer\"},{\"attributes\":{\"data_source\":{\"id\":\"4a7b66bc-6ac9-415f-801b-e5d3bf260732\",\"type\":\"ColumnDataSource\"},\"glyph\":{\"id\":\"46f7c94c-bcac-4f74-91ff-39f5b00fe1fe\",\"type\":\"Rect\"},\"hover_glyph\":null,\"nonselection_glyph\":null,\"selection_glyph\":null},\"id\":\"24ed8dd8-edbc-4cee-8195-44b557ddb0f9\",\"type\":\"GlyphRenderer\"},{\"attributes\":{\"data_source\":{\"id\":\"18ec39e8-533e-44bc-9f86-8e4594660945\",\"type\":\"ColumnDataSource\"},\"glyph\":{\"id\":\"ae07cf10-f47c-4b6c-bbbb-bd9aba289564\",\"type\":\"Rect\"},\"hover_glyph\":null,\"nonselection_glyph\":null,\"selection_glyph\":null},\"id\":\"b4f77bb6-8307-425a-8d45-baca82989a19\",\"type\":\"GlyphRenderer\"},{\"attributes\":{\"callback\":null,\"column_names\":[\"line_color\",\"color\",\"width\",\"label\",\"x\",\"height\",\"line_alpha\",\"y\",\"fill_alpha\"],\"data\":{\"QuestCreationYear\":[2011],\"QuestTags\":[\"iphone\"],\"chart_index\":[{\"QuestCreationYear\":2011,\"QuestTags\":\"iphone\"}],\"color\":[\"#D3D3D3\"],\"fill_alpha\":[0.8],\"height\":[5380.0],\"label\":[{\"QuestCreationYear\":2011,\"QuestTags\":\"iphone\"}],\"line_alpha\":[1.0],\"line_color\":[\"white\"],\"width\":[1.0],\"x\":[\"2011\"],\"y\":[57745.0]}},\"id\":\"60b055ce-a641-44a2-9cf8-a3856c1743ea\",\"type\":\"ColumnDataSource\"},{\"attributes\":{\"fill_alpha\":{\"field\":\"fill_alpha\"},\"fill_color\":{\"field\":\"color\"},\"height\":{\"field\":\"height\",\"units\":\"data\"},\"line_color\":{\"field\":\"line_color\"},\"width\":{\"field\":\"width\",\"units\":\"data\"},\"x\":{\"field\":\"x\"},\"y\":{\"field\":\"y\"}},\"id\":\"bcb601a7-714d-4265-bfe3-0a2796e0ebfa\",\"type\":\"Rect\"},{\"attributes\":{\"fill_alpha\":{\"field\":\"fill_alpha\"},\"fill_color\":{\"field\":\"color\"},\"height\":{\"field\":\"height\",\"units\":\"data\"},\"line_color\":{\"field\":\"line_color\"},\"width\":{\"field\":\"width\",\"units\":\"data\"},\"x\":{\"field\":\"x\"},\"y\":{\"field\":\"y\"}},\"id\":\"5f6bcfc2-a4f3-4b6f-b92c-08b570e33224\",\"type\":\"Rect\"},{\"attributes\":{\"data_source\":{\"id\":\"3405887c-97d1-4382-83d7-2f1aca5159fa\",\"type\":\"ColumnDataSource\"},\"glyph\":{\"id\":\"ed8f4aa4-e5e8-448b-b9fa-ffed3bcfe28d\",\"type\":\"Rect\"},\"hover_glyph\":null,\"nonselection_glyph\":null,\"selection_glyph\":null},\"id\":\"3da113ac-54d5-4bea-a327-d96dea1d0bcd\",\"type\":\"GlyphRenderer\"},{\"attributes\":{\"callback\":null,\"column_names\":[\"line_color\",\"color\",\"width\",\"label\",\"x\",\"height\",\"line_alpha\",\"y\",\"fill_alpha\"],\"data\":{\"QuestCreationYear\":[2016],\"QuestTags\":[\"jquery\"],\"chart_index\":[{\"QuestCreationYear\":2016,\"QuestTags\":\"jquery\"}],\"color\":[\"#20B2AA\"],\"fill_alpha\":[0.8],\"height\":[9765.0],\"label\":[{\"QuestCreationYear\":2016,\"QuestTags\":\"jquery\"}],\"line_alpha\":[1.0],\"line_color\":[\"white\"],\"width\":[1.0],\"x\":[\"2016\"],\"y\":[97939.5]}},\"id\":\"56522c9c-c169-4773-86ca-57c5b12a22d1\",\"type\":\"ColumnDataSource\"},{\"attributes\":{\"plot\":{\"id\":\"fa463bf3-b648-4bef-9edf-1fecbbd8ace9\",\"subtype\":\"Chart\",\"type\":\"Plot\"}},\"id\":\"7e6f6039-0e04-4e9b-a34d-f1f91cf90b7f\",\"type\":\"HelpTool\"},{\"attributes\":{\"callback\":null,\"column_names\":[\"line_color\",\"color\",\"width\",\"label\",\"x\",\"height\",\"line_alpha\",\"y\",\"fill_alpha\"],\"data\":{\"QuestCreationYear\":[2009],\"QuestTags\":[\"python\"],\"chart_index\":[{\"QuestCreationYear\":2009,\"QuestTags\":\"python\"}],\"color\":[\"#778899\"],\"fill_alpha\":[0.8],\"height\":[1287.0],\"label\":[{\"QuestCreationYear\":2009,\"QuestTags\":\"python\"}],\"line_alpha\":[1.0],\"line_color\":[\"white\"],\"width\":[1.0],\"x\":[\"2009\"],\"y\":[19719.5]}},\"id\":\"d5936d18-e422-46a1-bbbc-8f3ab6855e88\",\"type\":\"ColumnDataSource\"},{\"attributes\":{\"fill_alpha\":{\"field\":\"fill_alpha\"},\"fill_color\":{\"field\":\"color\"},\"height\":{\"field\":\"height\",\"units\":\"data\"},\"line_color\":{\"field\":\"line_color\"},\"width\":{\"field\":\"width\",\"units\":\"data\"},\"x\":{\"field\":\"x\"},\"y\":{\"field\":\"y\"}},\"id\":\"42cfabc8-6b40-42f3-9618-8d02cf99fae0\",\"type\":\"Rect\"},{\"attributes\":{\"callback\":null,\"column_names\":[\"line_color\",\"color\",\"width\",\"label\",\"x\",\"height\",\"line_alpha\",\"y\",\"fill_alpha\"],\"data\":{\"QuestCreationYear\":[2016],\"QuestTags\":[\"css\"],\"chart_index\":[{\"QuestCreationYear\":2016,\"QuestTags\":\"css\"}],\"color\":[\"#90EE90\"],\"fill_alpha\":[0.8],\"height\":[6550.0],\"label\":[{\"QuestCreationYear\":2016,\"QuestTags\":\"css\"}],\"line_alpha\":[1.0],\"line_color\":[\"white\"],\"width\":[1.0],\"x\":[\"2016\"],\"y\":[123452.0]}},\"id\":\"94c3b66a-d587-4488-bd52-9b39f08213fc\",\"type\":\"ColumnDataSource\"},{\"attributes\":{\"callback\":null,\"column_names\":[\"line_color\",\"color\",\"width\",\"label\",\"x\",\"height\",\"line_alpha\",\"y\",\"fill_alpha\"],\"data\":{\"QuestCreationYear\":[2013],\"QuestTags\":[\"c#\"],\"chart_index\":[{\"QuestCreationYear\":2013,\"QuestTags\":\"c#\"}],\"color\":[\"#E6E6FA\"],\"fill_alpha\":[0.8],\"height\":[15601.0],\"label\":[{\"QuestCreationYear\":2013,\"QuestTags\":\"c#\"}],\"line_alpha\":[1.0],\"line_color\":[\"white\"],\"width\":[1.0],\"x\":[\"2013\"],\"y\":[43872.5]}},\"id\":\"3a9263cc-6a51-4dbb-a8b7-f80091dd318c\",\"type\":\"ColumnDataSource\"},{\"attributes\":{\"callback\":null,\"column_names\":[\"line_color\",\"color\",\"width\",\"label\",\"x\",\"height\",\"line_alpha\",\"y\",\"fill_alpha\"],\"data\":{\"QuestCreationYear\":[2013],\"QuestTags\":[\"jquery\"],\"chart_index\":[{\"QuestCreationYear\":2013,\"QuestTags\":\"jquery\"}],\"color\":[\"#20B2AA\"],\"fill_alpha\":[0.8],\"height\":[13916.0],\"label\":[{\"QuestCreationYear\":2013,\"QuestTags\":\"jquery\"}],\"line_alpha\":[1.0],\"line_color\":[\"white\"],\"width\":[1.0],\"x\":[\"2013\"],\"y\":[88812.0]}},\"id\":\"20c8103b-0924-4670-94a3-a7c6e48a3af5\",\"type\":\"ColumnDataSource\"},{\"attributes\":{\"data_source\":{\"id\":\"0261587a-0143-498d-a468-0584b9464864\",\"type\":\"ColumnDataSource\"},\"glyph\":{\"id\":\"035b07bc-f212-475c-b35b-88ea38d060d0\",\"type\":\"Rect\"},\"hover_glyph\":null,\"nonselection_glyph\":null,\"selection_glyph\":null},\"id\":\"411ac133-87be-4d60-8193-06a925858e09\",\"type\":\"GlyphRenderer\"},{\"attributes\":{\"fill_alpha\":{\"field\":\"fill_alpha\"},\"fill_color\":{\"field\":\"color\"},\"height\":{\"field\":\"height\",\"units\":\"data\"},\"line_color\":{\"field\":\"line_color\"},\"width\":{\"field\":\"width\",\"units\":\"data\"},\"x\":{\"field\":\"x\"},\"y\":{\"field\":\"y\"}},\"id\":\"fca75131-28aa-4297-b41c-c116c3c7885e\",\"type\":\"Rect\"},{\"attributes\":{\"data_source\":{\"id\":\"89164477-ae20-4096-b82d-1c8b073f2f32\",\"type\":\"ColumnDataSource\"},\"glyph\":{\"id\":\"7ea6aef7-2c1a-4015-8dd7-4eb56b7fb401\",\"type\":\"Rect\"},\"hover_glyph\":null,\"nonselection_glyph\":null,\"selection_glyph\":null},\"id\":\"214d14d4-ac78-4181-b330-2d494fe71ff0\",\"type\":\"GlyphRenderer\"},{\"attributes\":{\"callback\":null,\"column_names\":[\"line_color\",\"color\",\"width\",\"label\",\"x\",\"height\",\"line_alpha\",\"y\",\"fill_alpha\"],\"data\":{\"QuestCreationYear\":[2015],\"QuestTags\":[\"jquery\"],\"chart_index\":[{\"QuestCreationYear\":2015,\"QuestTags\":\"jquery\"}],\"color\":[\"#20B2AA\"],\"fill_alpha\":[0.8],\"height\":[12757.0],\"label\":[{\"QuestCreationYear\":2015,\"QuestTags\":\"jquery\"}],\"line_alpha\":[1.0],\"line_color\":[\"white\"],\"width\":[1.0],\"x\":[\"2015\"],\"y\":[114193.5]}},\"id\":\"55627ca6-394b-416b-b11e-b96d8a619804\",\"type\":\"ColumnDataSource\"},{\"attributes\":{\"callback\":null,\"column_names\":[\"line_color\",\"color\",\"width\",\"label\",\"x\",\"height\",\"line_alpha\",\"y\",\"fill_alpha\"],\"data\":{\"QuestCreationYear\":[2014],\"QuestTags\":[\"c#\"],\"chart_index\":[{\"QuestCreationYear\":2014,\"QuestTags\":\"c#\"}],\"color\":[\"#E6E6FA\"],\"fill_alpha\":[0.8],\"height\":[15657.0],\"label\":[{\"QuestCreationYear\":2014,\"QuestTags\":\"c#\"}],\"line_alpha\":[1.0],\"line_color\":[\"white\"],\"width\":[1.0],\"x\":[\"2014\"],\"y\":[84027.5]}},\"id\":\"85f50155-5fe2-4f15-b837-1f1c68036067\",\"type\":\"ColumnDataSource\"},{\"attributes\":{\"fill_alpha\":{\"field\":\"fill_alpha\"},\"fill_color\":{\"field\":\"color\"},\"height\":{\"field\":\"height\",\"units\":\"data\"},\"line_color\":{\"field\":\"line_color\"},\"width\":{\"field\":\"width\",\"units\":\"data\"},\"x\":{\"field\":\"x\"},\"y\":{\"field\":\"y\"}},\"id\":\"7889f37b-46f1-4835-bd43-27cbf5bf041a\",\"type\":\"Rect\"},{\"attributes\":{\"data_source\":{\"id\":\"fd5c9b85-e619-437d-9283-6959aa8e5ab2\",\"type\":\"ColumnDataSource\"},\"glyph\":{\"id\":\"7e687642-f6fd-4627-8e8c-88ba93db957f\",\"type\":\"Rect\"},\"hover_glyph\":null,\"nonselection_glyph\":null,\"selection_glyph\":null},\"id\":\"859a50e6-632b-4c08-b684-c1f3dd250334\",\"type\":\"GlyphRenderer\"},{\"attributes\":{\"fill_alpha\":{\"field\":\"fill_alpha\"},\"fill_color\":{\"field\":\"color\"},\"height\":{\"field\":\"height\",\"units\":\"data\"},\"line_color\":{\"field\":\"line_color\"},\"width\":{\"field\":\"width\",\"units\":\"data\"},\"x\":{\"field\":\"x\"},\"y\":{\"field\":\"y\"}},\"id\":\"b08e9998-2067-47e5-9781-5e3dfb85e306\",\"type\":\"Rect\"},{\"attributes\":{\"callback\":null,\"column_names\":[\"line_color\",\"color\",\"width\",\"label\",\"x\",\"height\",\"line_alpha\",\"y\",\"fill_alpha\"],\"data\":{\"QuestCreationYear\":[2016],\"QuestTags\":[\"ios\"],\"chart_index\":[{\"QuestCreationYear\":2016,\"QuestTags\":\"ios\"}],\"color\":[\"#F08080\"],\"fill_alpha\":[0.8],\"height\":[7672.0],\"label\":[{\"QuestCreationYear\":2016,\"QuestTags\":\"ios\"}],\"line_alpha\":[1.0],\"line_color\":[\"white\"],\"width\":[1.0],\"x\":[\"2016\"],\"y\":[116341.0]}},\"id\":\"4dfdec3e-226e-4b1d-a608-1be06c23d6be\",\"type\":\"ColumnDataSource\"},{\"attributes\":{},\"id\":\"7e71f094-7e83-42a4-ab93-e5181174cc15\",\"type\":\"CategoricalTicker\"},{\"attributes\":{\"data_source\":{\"id\":\"195f27c8-7e2d-4fa0-9592-14744df8f3d3\",\"type\":\"ColumnDataSource\"},\"glyph\":{\"id\":\"5beb2ab3-c84e-4aa8-9133-ea676425ee3a\",\"type\":\"Rect\"},\"hover_glyph\":null,\"nonselection_glyph\":null,\"selection_glyph\":null},\"id\":\"d4251e16-d6e6-42ce-a5c7-1a9b91bd63b1\",\"type\":\"GlyphRenderer\"},{\"attributes\":{\"fill_alpha\":{\"field\":\"fill_alpha\"},\"fill_color\":{\"field\":\"color\"},\"height\":{\"field\":\"height\",\"units\":\"data\"},\"line_color\":{\"field\":\"line_color\"},\"width\":{\"field\":\"width\",\"units\":\"data\"},\"x\":{\"field\":\"x\"},\"y\":{\"field\":\"y\"}},\"id\":\"035b07bc-f212-475c-b35b-88ea38d060d0\",\"type\":\"Rect\"},{\"attributes\":{\"callback\":null,\"column_names\":[\"line_color\",\"color\",\"width\",\"label\",\"x\",\"height\",\"line_alpha\",\"y\",\"fill_alpha\"],\"data\":{\"QuestCreationYear\":[2009],\"QuestTags\":[\"asp.net\"],\"chart_index\":[{\"QuestCreationYear\":2009,\"QuestTags\":\"asp.net\"}],\"color\":[\"#F0E68C\"],\"fill_alpha\":[0.8],\"height\":[1976.0],\"label\":[{\"QuestCreationYear\":2009,\"QuestTags\":\"asp.net\"}],\"line_alpha\":[1.0],\"line_color\":[\"white\"],\"width\":[1.0],\"x\":[\"2009\"],\"y\":[11976.0]}},\"id\":\"18dfd979-763d-4d82-ba25-8ab12baa5eeb\",\"type\":\"ColumnDataSource\"},{\"attributes\":{\"callback\":null,\"column_names\":[\"line_color\",\"color\",\"width\",\"label\",\"x\",\"height\",\"line_alpha\",\"y\",\"fill_alpha\"],\"data\":{\"QuestCreationYear\":[2013],\"QuestTags\":[\"php\"],\"chart_index\":[{\"QuestCreationYear\":2013,\"QuestTags\":\"php\"}],\"color\":[\"#FFA07A\"],\"fill_alpha\":[0.8],\"height\":[15307.0],\"label\":[{\"QuestCreationYear\":2013,\"QuestTags\":\"php\"}],\"line_alpha\":[1.0],\"line_color\":[\"white\"],\"width\":[1.0],\"x\":[\"2013\"],\"y\":[59326.5]}},\"id\":\"8bff070f-44ce-444d-9ec5-5b8acd003eba\",\"type\":\"ColumnDataSource\"},{\"attributes\":{\"data_source\":{\"id\":\"1f89cd1b-3dae-4663-8606-bf10f55b5043\",\"type\":\"ColumnDataSource\"},\"glyph\":{\"id\":\"3dd133a4-4a76-4987-81cb-565d0458c6e8\",\"type\":\"Rect\"},\"hover_glyph\":null,\"nonselection_glyph\":null,\"selection_glyph\":null},\"id\":\"5b3f3fcf-0ebc-4173-b517-680ef32872f0\",\"type\":\"GlyphRenderer\"},{\"attributes\":{\"fill_alpha\":{\"field\":\"fill_alpha\"},\"fill_color\":{\"field\":\"color\"},\"height\":{\"field\":\"height\",\"units\":\"data\"},\"line_color\":{\"field\":\"line_color\"},\"width\":{\"field\":\"width\",\"units\":\"data\"},\"x\":{\"field\":\"x\"},\"y\":{\"field\":\"y\"}},\"id\":\"ae07cf10-f47c-4b6c-bbbb-bd9aba289564\",\"type\":\"Rect\"},{\"attributes\":{\"callback\":null,\"factors\":[\"2008\",\"2009\",\"2010\",\"2011\",\"2012\",\"2013\",\"2014\",\"2015\",\"2016\"]},\"id\":\"8cb1464a-f956-495d-9b39-d24bab31e175\",\"type\":\"FactorRange\"},{\"attributes\":{\"data_source\":{\"id\":\"94c3b66a-d587-4488-bd52-9b39f08213fc\",\"type\":\"ColumnDataSource\"},\"glyph\":{\"id\":\"664edea7-7215-42d0-8116-eadf5cafa244\",\"type\":\"Rect\"},\"hover_glyph\":null,\"nonselection_glyph\":null,\"selection_glyph\":null},\"id\":\"68240c0d-2459-4b0d-a725-3cdcf0ed4707\",\"type\":\"GlyphRenderer\"},{\"attributes\":{\"data_source\":{\"id\":\"f45e62a4-6fce-4a36-b391-69dcc90d0e30\",\"type\":\"ColumnDataSource\"},\"glyph\":{\"id\":\"7f39fdaa-b914-4a3f-a132-35c63965e04b\",\"type\":\"Rect\"},\"hover_glyph\":null,\"nonselection_glyph\":null,\"selection_glyph\":null},\"id\":\"edda62aa-72ef-4c9f-b4dd-0404a7b361e8\",\"type\":\"GlyphRenderer\"},{\"attributes\":{\"callback\":null,\"column_names\":[\"line_color\",\"color\",\"width\",\"label\",\"x\",\"height\",\"line_alpha\",\"y\",\"fill_alpha\"],\"data\":{\"QuestCreationYear\":[2014],\"QuestTags\":[\"python\"],\"chart_index\":[{\"QuestCreationYear\":2014,\"QuestTags\":\"python\"}],\"color\":[\"#778899\"],\"fill_alpha\":[0.8],\"height\":[10982.0],\"label\":[{\"QuestCreationYear\":2014,\"QuestTags\":\"python\"}],\"line_alpha\":[1.0],\"line_color\":[\"white\"],\"width\":[1.0],\"x\":[\"2014\"],\"y\":[122721.0]}},\"id\":\"b430200e-ef11-4c95-8c3a-c3c703a26189\",\"type\":\"ColumnDataSource\"},{\"attributes\":{\"fill_alpha\":{\"field\":\"fill_alpha\"},\"fill_color\":{\"field\":\"color\"},\"height\":{\"field\":\"height\",\"units\":\"data\"},\"line_color\":{\"field\":\"line_color\"},\"width\":{\"field\":\"width\",\"units\":\"data\"},\"x\":{\"field\":\"x\"},\"y\":{\"field\":\"y\"}},\"id\":\"1e75b603-4574-4300-b5e0-c8a04f9bf700\",\"type\":\"Rect\"},{\"attributes\":{\"callback\":null,\"column_names\":[\"line_color\",\"color\",\"width\",\"label\",\"x\",\"height\",\"line_alpha\",\"y\",\"fill_alpha\"],\"data\":{\"QuestCreationYear\":[2014],\"QuestTags\":[\"java\"],\"chart_index\":[{\"QuestCreationYear\":2014,\"QuestTags\":\"java\"}],\"color\":[\"#FFB6C1\"],\"fill_alpha\":[0.8],\"height\":[20381.0],\"label\":[{\"QuestCreationYear\":2014,\"QuestTags\":\"java\"}],\"line_alpha\":[1.0],\"line_color\":[\"white\"],\"width\":[1.0],\"x\":[\"2014\"],\"y\":[32948.5]}},\"id\":\"b04078db-1d82-4f2a-9fb4-36e28d031818\",\"type\":\"ColumnDataSource\"},{\"attributes\":{\"callback\":null,\"column_names\":[\"line_color\",\"color\",\"width\",\"label\",\"x\",\"height\",\"line_alpha\",\"y\",\"fill_alpha\"],\"data\":{\"QuestCreationYear\":[2010],\"QuestTags\":[\"jquery\"],\"chart_index\":[{\"QuestCreationYear\":2010,\"QuestTags\":\"jquery\"}],\"color\":[\"#20B2AA\"],\"fill_alpha\":[0.8],\"height\":[3947.0],\"label\":[{\"QuestCreationYear\":2010,\"QuestTags\":\"jquery\"}],\"line_alpha\":[1.0],\"line_color\":[\"white\"],\"width\":[1.0],\"x\":[\"2010\"],\"y\":[23758.5]}},\"id\":\"741b92a2-1371-4395-9ff3-153dee08beea\",\"type\":\"ColumnDataSource\"},{\"attributes\":{\"fill_alpha\":{\"field\":\"fill_alpha\"},\"fill_color\":{\"field\":\"color\"},\"height\":{\"field\":\"height\",\"units\":\"data\"},\"line_color\":{\"field\":\"line_color\"},\"width\":{\"field\":\"width\",\"units\":\"data\"},\"x\":{\"field\":\"x\"},\"y\":{\"field\":\"y\"}},\"id\":\"71503279-ad42-4ea5-a668-37ebb6563dbf\",\"type\":\"Rect\"},{\"attributes\":{\"fill_alpha\":{\"field\":\"fill_alpha\"},\"fill_color\":{\"field\":\"color\"},\"height\":{\"field\":\"height\",\"units\":\"data\"},\"line_color\":{\"field\":\"line_color\"},\"width\":{\"field\":\"width\",\"units\":\"data\"},\"x\":{\"field\":\"x\"},\"y\":{\"field\":\"y\"}},\"id\":\"3dd133a4-4a76-4987-81cb-565d0458c6e8\",\"type\":\"Rect\"},{\"attributes\":{\"data_source\":{\"id\":\"b18315b5-42f7-4099-8154-e451a6303079\",\"type\":\"ColumnDataSource\"},\"glyph\":{\"id\":\"baa47271-0d71-4110-bb09-ed63957e24e4\",\"type\":\"Rect\"},\"hover_glyph\":null,\"nonselection_glyph\":null,\"selection_glyph\":null},\"id\":\"8419786f-9724-4cda-9b75-77dd1f5ff3fb\",\"type\":\"GlyphRenderer\"},{\"attributes\":{\"fill_alpha\":{\"field\":\"fill_alpha\"},\"fill_color\":{\"field\":\"color\"},\"height\":{\"field\":\"height\",\"units\":\"data\"},\"line_color\":{\"field\":\"line_color\"},\"width\":{\"field\":\"width\",\"units\":\"data\"},\"x\":{\"field\":\"x\"},\"y\":{\"field\":\"y\"}},\"id\":\"a526bf3c-8502-43cc-8dda-8065495b6fae\",\"type\":\"Rect\"},{\"attributes\":{\"data_source\":{\"id\":\"4f1de014-9141-4289-a655-4043d05636fe\",\"type\":\"ColumnDataSource\"},\"glyph\":{\"id\":\"69f66d72-5ade-4398-918a-8a192f9d0d7a\",\"type\":\"Rect\"},\"hover_glyph\":null,\"nonselection_glyph\":null,\"selection_glyph\":null},\"id\":\"b5e26009-9193-4f5d-bc02-bb6be3571c74\",\"type\":\"GlyphRenderer\"},{\"attributes\":{\"plot\":{\"id\":\"fa463bf3-b648-4bef-9edf-1fecbbd8ace9\",\"subtype\":\"Chart\",\"type\":\"Plot\"}},\"id\":\"553725da-0ebd-49a3-af7d-a0f5b321f933\",\"type\":\"SaveTool\"},{\"attributes\":{\"data_source\":{\"id\":\"af959c57-dafe-430c-bf16-533b849cc3b9\",\"type\":\"ColumnDataSource\"},\"glyph\":{\"id\":\"49e703d3-24ec-4dc7-843c-0af8b2bbd882\",\"type\":\"Rect\"},\"hover_glyph\":null,\"nonselection_glyph\":null,\"selection_glyph\":null},\"id\":\"49b5ad99-c0b8-41e3-9768-222d56d1540e\",\"type\":\"GlyphRenderer\"},{\"attributes\":{\"data_source\":{\"id\":\"8bff070f-44ce-444d-9ec5-5b8acd003eba\",\"type\":\"ColumnDataSource\"},\"glyph\":{\"id\":\"f3d52dfe-96f9-468f-a84a-7a7d17a44d02\",\"type\":\"Rect\"},\"hover_glyph\":null,\"nonselection_glyph\":null,\"selection_glyph\":null},\"id\":\"ed67169c-cb2b-4941-a414-feff598b53d2\",\"type\":\"GlyphRenderer\"},{\"attributes\":{\"fill_alpha\":{\"field\":\"fill_alpha\"},\"fill_color\":{\"field\":\"color\"},\"height\":{\"field\":\"height\",\"units\":\"data\"},\"line_color\":{\"field\":\"line_color\"},\"width\":{\"field\":\"width\",\"units\":\"data\"},\"x\":{\"field\":\"x\"},\"y\":{\"field\":\"y\"}},\"id\":\"7c8df7d2-273c-48db-aea2-9146e25f1aaf\",\"type\":\"Rect\"},{\"attributes\":{\"fill_alpha\":{\"field\":\"fill_alpha\"},\"fill_color\":{\"field\":\"color\"},\"height\":{\"field\":\"height\",\"units\":\"data\"},\"line_color\":{\"field\":\"line_color\"},\"width\":{\"field\":\"width\",\"units\":\"data\"},\"x\":{\"field\":\"x\"},\"y\":{\"field\":\"y\"}},\"id\":\"630de24e-f86b-42c8-8fcf-e1a3dd778bf3\",\"type\":\"Rect\"},{\"attributes\":{\"data_source\":{\"id\":\"9bd44bad-2631-498d-a7da-4bbbc6390704\",\"type\":\"ColumnDataSource\"},\"glyph\":{\"id\":\"54d89c2b-da20-4d12-b102-f551aad1f858\",\"type\":\"Rect\"},\"hover_glyph\":null,\"nonselection_glyph\":null,\"selection_glyph\":null},\"id\":\"01e7ba3e-4912-42b2-8371-29753d1e6a8c\",\"type\":\"GlyphRenderer\"},{\"attributes\":{\"data_source\":{\"id\":\"78dd6da4-8e0d-4b68-9a3a-2ba3a08ca91a\",\"type\":\"ColumnDataSource\"},\"glyph\":{\"id\":\"29f588e2-4de1-4ba2-b62d-6f7bb305fa23\",\"type\":\"Rect\"},\"hover_glyph\":null,\"nonselection_glyph\":null,\"selection_glyph\":null},\"id\":\"ec5d8cc5-0f17-4e27-814b-0235e9aca128\",\"type\":\"GlyphRenderer\"},{\"attributes\":{\"callback\":null,\"column_names\":[\"line_color\",\"color\",\"width\",\"label\",\"x\",\"height\",\"line_alpha\",\"y\",\"fill_alpha\"],\"data\":{\"QuestCreationYear\":[2011],\"QuestTags\":[\"php\"],\"chart_index\":[{\"QuestCreationYear\":2011,\"QuestTags\":\"php\"}],\"color\":[\"#FFA07A\"],\"fill_alpha\":[0.8],\"height\":[9308.0],\"label\":[{\"QuestCreationYear\":2011,\"QuestTags\":\"php\"}],\"line_alpha\":[1.0],\"line_color\":[\"white\"],\"width\":[1.0],\"x\":[\"2011\"],\"y\":[24983.0]}},\"id\":\"916102dc-51d9-46ed-967f-11f95e926e0b\",\"type\":\"ColumnDataSource\"},{\"attributes\":{\"callback\":null,\"column_names\":[\"line_color\",\"color\",\"width\",\"label\",\"x\",\"height\",\"line_alpha\",\"y\",\"fill_alpha\"],\"data\":{\"QuestCreationYear\":[2012],\"QuestTags\":[\"jquery\"],\"chart_index\":[{\"QuestCreationYear\":2012,\"QuestTags\":\"jquery\"}],\"color\":[\"#20B2AA\"],\"fill_alpha\":[0.8],\"height\":[11163.0],\"label\":[{\"QuestCreationYear\":2012,\"QuestTags\":\"jquery\"}],\"line_alpha\":[1.0],\"line_color\":[\"white\"],\"width\":[1.0],\"x\":[\"2012\"],\"y\":[70944.5]}},\"id\":\"4a236e0d-587f-4c5e-abd1-7dd59726d148\",\"type\":\"ColumnDataSource\"},{\"attributes\":{\"fill_alpha\":{\"field\":\"fill_alpha\"},\"fill_color\":{\"field\":\"color\"},\"height\":{\"field\":\"height\",\"units\":\"data\"},\"line_color\":{\"field\":\"line_color\"},\"width\":{\"field\":\"width\",\"units\":\"data\"},\"x\":{\"field\":\"x\"},\"y\":{\"field\":\"y\"}},\"id\":\"48fd92f6-9b1f-4c46-a3f9-8ed179028463\",\"type\":\"Rect\"},{\"attributes\":{\"data_source\":{\"id\":\"8796b3d1-71bf-4518-b3f3-4dbe1287d955\",\"type\":\"ColumnDataSource\"},\"glyph\":{\"id\":\"10c227d8-99af-4500-9571-accebe1d6f40\",\"type\":\"Rect\"},\"hover_glyph\":null,\"nonselection_glyph\":null,\"selection_glyph\":null},\"id\":\"f544b984-1a46-4b18-827f-2d474fce481d\",\"type\":\"GlyphRenderer\"},{\"attributes\":{\"callback\":null,\"column_names\":[\"line_color\",\"color\",\"width\",\"label\",\"x\",\"height\",\"line_alpha\",\"y\",\"fill_alpha\"],\"data\":{\"QuestCreationYear\":[2009],\"QuestTags\":[\".net\"],\"chart_index\":[{\"QuestCreationYear\":2009,\"QuestTags\":\".net\"}],\"color\":[\"#4B0082\"],\"fill_alpha\":[0.8],\"height\":[2233.0],\"label\":[{\"QuestCreationYear\":2009,\"QuestTags\":\".net\"}],\"line_alpha\":[1.0],\"line_color\":[\"white\"],\"width\":[1.0],\"x\":[\"2009\"],\"y\":[7863.5]}},\"id\":\"1ee5dab0-4e4d-4325-b248-41af90b09911\",\"type\":\"ColumnDataSource\"},{\"attributes\":{\"callback\":null,\"column_names\":[\"line_color\",\"color\",\"width\",\"label\",\"x\",\"height\",\"line_alpha\",\"y\",\"fill_alpha\"],\"data\":{\"QuestCreationYear\":[2010],\"QuestTags\":[\"java\"],\"chart_index\":[{\"QuestCreationYear\":2010,\"QuestTags\":\"java\"}],\"color\":[\"#FFB6C1\"],\"fill_alpha\":[0.8],\"height\":[5255.0],\"label\":[{\"QuestCreationYear\":2010,\"QuestTags\":\"java\"}],\"line_alpha\":[1.0],\"line_color\":[\"white\"],\"width\":[1.0],\"x\":[\"2010\"],\"y\":[9976.5]}},\"id\":\"3405887c-97d1-4382-83d7-2f1aca5159fa\",\"type\":\"ColumnDataSource\"},{\"attributes\":{\"data_source\":{\"id\":\"8bac3af2-19a1-413f-ba23-398529c99fe7\",\"type\":\"ColumnDataSource\"},\"glyph\":{\"id\":\"235a7048-8de1-453c-bdb4-59c741ed2dfb\",\"type\":\"Rect\"},\"hover_glyph\":null,\"nonselection_glyph\":null,\"selection_glyph\":null},\"id\":\"f196e1ef-e3ae-4ad5-b314-296af6a993fb\",\"type\":\"GlyphRenderer\"},{\"attributes\":{\"fill_alpha\":{\"field\":\"fill_alpha\"},\"fill_color\":{\"field\":\"color\"},\"height\":{\"field\":\"height\",\"units\":\"data\"},\"line_color\":{\"field\":\"line_color\"},\"width\":{\"field\":\"width\",\"units\":\"data\"},\"x\":{\"field\":\"x\"},\"y\":{\"field\":\"y\"}},\"id\":\"4b03a9d0-085e-4472-86b1-5899859ac803\",\"type\":\"Rect\"},{\"attributes\":{\"data_source\":{\"id\":\"91293c96-e8f7-4d7b-9b61-6a19e38e1f40\",\"type\":\"ColumnDataSource\"},\"glyph\":{\"id\":\"f126cf97-03d7-4e2c-929a-490994924579\",\"type\":\"Rect\"},\"hover_glyph\":null,\"nonselection_glyph\":null,\"selection_glyph\":null},\"id\":\"85e6f391-4247-4958-8739-3667ab2809ea\",\"type\":\"GlyphRenderer\"},{\"attributes\":{\"callback\":null,\"column_names\":[\"line_color\",\"color\",\"width\",\"label\",\"x\",\"height\",\"line_alpha\",\"y\",\"fill_alpha\"],\"data\":{\"QuestCreationYear\":[2011],\"QuestTags\":[\"jquery\"],\"chart_index\":[{\"QuestCreationYear\":2011,\"QuestTags\":\"jquery\"}],\"color\":[\"#20B2AA\"],\"fill_alpha\":[0.8],\"height\":[8126.0],\"label\":[{\"QuestCreationYear\":2011,\"QuestTags\":\"jquery\"}],\"line_alpha\":[1.0],\"line_color\":[\"white\"],\"width\":[1.0],\"x\":[\"2011\"],\"y\":[50992.0]}},\"id\":\"4a7b66bc-6ac9-415f-801b-e5d3bf260732\",\"type\":\"ColumnDataSource\"},{\"attributes\":{\"fill_alpha\":{\"field\":\"fill_alpha\"},\"fill_color\":{\"field\":\"color\"},\"height\":{\"field\":\"height\",\"units\":\"data\"},\"line_color\":{\"field\":\"line_color\"},\"width\":{\"field\":\"width\",\"units\":\"data\"},\"x\":{\"field\":\"x\"},\"y\":{\"field\":\"y\"}},\"id\":\"54c9fe33-4485-48ec-b94b-29c772505548\",\"type\":\"Rect\"},{\"attributes\":{\"data_source\":{\"id\":\"d527a627-b82b-454e-b8fc-e7dbbb8c7936\",\"type\":\"ColumnDataSource\"},\"glyph\":{\"id\":\"74b1d76a-83db-4374-b618-36f2cd471a00\",\"type\":\"Rect\"},\"hover_glyph\":null,\"nonselection_glyph\":null,\"selection_glyph\":null},\"id\":\"f5448b8c-b615-48e4-89c8-3d07dd4f4473\",\"type\":\"GlyphRenderer\"},{\"attributes\":{\"callback\":null,\"column_names\":[\"line_color\",\"color\",\"width\",\"label\",\"x\",\"height\",\"line_alpha\",\"y\",\"fill_alpha\"],\"data\":{\"QuestCreationYear\":[2013],\"QuestTags\":[\"android\"],\"chart_index\":[{\"QuestCreationYear\":2013,\"QuestTags\":\"android\"}],\"color\":[\"#FF6347\"],\"fill_alpha\":[0.8],\"height\":[14874.0],\"label\":[{\"QuestCreationYear\":2013,\"QuestTags\":\"android\"}],\"line_alpha\":[1.0],\"line_color\":[\"white\"],\"width\":[1.0],\"x\":[\"2013\"],\"y\":[74417.0]}},\"id\":\"7e8446b2-f9a5-49c4-9b56-d812c8c8cff4\",\"type\":\"ColumnDataSource\"},{\"attributes\":{\"callback\":null,\"column_names\":[\"line_color\",\"color\",\"width\",\"label\",\"x\",\"height\",\"line_alpha\",\"y\",\"fill_alpha\"],\"data\":{\"QuestCreationYear\":[2013],\"QuestTags\":[\"html\"],\"chart_index\":[{\"QuestCreationYear\":2013,\"QuestTags\":\"html\"}],\"color\":[\"#ADD8E6\"],\"fill_alpha\":[0.8],\"height\":[9061.0],\"label\":[{\"QuestCreationYear\":2013,\"QuestTags\":\"html\"}],\"line_alpha\":[1.0],\"line_color\":[\"white\"],\"width\":[1.0],\"x\":[\"2013\"],\"y\":[100300.5]}},\"id\":\"014566f4-0725-4109-bc8f-caf16f15e5fa\",\"type\":\"ColumnDataSource\"},{\"attributes\":{\"fill_alpha\":{\"field\":\"fill_alpha\"},\"fill_color\":{\"field\":\"color\"},\"height\":{\"field\":\"height\",\"units\":\"data\"},\"line_color\":{\"field\":\"line_color\"},\"width\":{\"field\":\"width\",\"units\":\"data\"},\"x\":{\"field\":\"x\"},\"y\":{\"field\":\"y\"}},\"id\":\"1fa02be9-3d3d-40c9-9812-0ebd158f59a2\",\"type\":\"Rect\"},{\"attributes\":{\"callback\":null,\"end\":157958.85},\"id\":\"6fdf83de-8926-4402-ac30-4c67f3aed315\",\"type\":\"Range1d\"},{\"attributes\":{\"callback\":null,\"column_names\":[\"line_color\",\"color\",\"width\",\"label\",\"x\",\"height\",\"line_alpha\",\"y\",\"fill_alpha\"],\"data\":{\"QuestCreationYear\":[2013],\"QuestTags\":[\"c++\"],\"chart_index\":[{\"QuestCreationYear\":2013,\"QuestTags\":\"c++\"}],\"color\":[\"#FFF0F5\"],\"fill_alpha\":[0.8],\"height\":[7526.0],\"label\":[{\"QuestCreationYear\":2013,\"QuestTags\":\"c++\"}],\"line_alpha\":[1.0],\"line_color\":[\"white\"],\"width\":[1.0],\"x\":[\"2013\"],\"y\":[125369.0]}},\"id\":\"41f7b6e9-cdea-41d2-a62f-1d84e8fbca7d\",\"type\":\"ColumnDataSource\"},{\"attributes\":{\"fill_alpha\":{\"field\":\"fill_alpha\"},\"fill_color\":{\"field\":\"color\"},\"height\":{\"field\":\"height\",\"units\":\"data\"},\"line_color\":{\"field\":\"line_color\"},\"width\":{\"field\":\"width\",\"units\":\"data\"},\"x\":{\"field\":\"x\"},\"y\":{\"field\":\"y\"}},\"id\":\"74b1d76a-83db-4374-b618-36f2cd471a00\",\"type\":\"Rect\"},{\"attributes\":{\"callback\":null,\"column_names\":[\"line_color\",\"color\",\"width\",\"label\",\"x\",\"height\",\"line_alpha\",\"y\",\"fill_alpha\"],\"data\":{\"QuestCreationYear\":[2016],\"QuestTags\":[\"c#\"],\"chart_index\":[{\"QuestCreationYear\":2016,\"QuestTags\":\"c#\"}],\"color\":[\"#E6E6FA\"],\"fill_alpha\":[0.8],\"height\":[12507.0],\"label\":[{\"QuestCreationYear\":2016,\"QuestTags\":\"c#\"}],\"line_alpha\":[1.0],\"line_color\":[\"white\"],\"width\":[1.0],\"x\":[\"2016\"],\"y\":[86803.5]}},\"id\":\"e639bd40-5be9-42a7-8246-c94803df98ba\",\"type\":\"ColumnDataSource\"},{\"attributes\":{\"data_source\":{\"id\":\"e419171e-d5c8-406e-8fd6-1be878dc44c6\",\"type\":\"ColumnDataSource\"},\"glyph\":{\"id\":\"cf44ed60-337d-4ea2-803d-d4e7fa5c5abe\",\"type\":\"Rect\"},\"hover_glyph\":null,\"nonselection_glyph\":null,\"selection_glyph\":null},\"id\":\"0637e8bb-1a39-443e-b801-7e2965b5eb0d\",\"type\":\"GlyphRenderer\"},{\"attributes\":{\"data_source\":{\"id\":\"37966960-1bf6-455e-be5c-6b96a54de892\",\"type\":\"ColumnDataSource\"},\"glyph\":{\"id\":\"e1522aeb-24c2-422b-ae9e-8478e0c9dd66\",\"type\":\"Rect\"},\"hover_glyph\":null,\"nonselection_glyph\":null,\"selection_glyph\":null},\"id\":\"032022ee-ea58-409b-b872-006aedb5f2bc\",\"type\":\"GlyphRenderer\"},{\"attributes\":{\"data_source\":{\"id\":\"916102dc-51d9-46ed-967f-11f95e926e0b\",\"type\":\"ColumnDataSource\"},\"glyph\":{\"id\":\"7c8df7d2-273c-48db-aea2-9146e25f1aaf\",\"type\":\"Rect\"},\"hover_glyph\":null,\"nonselection_glyph\":null,\"selection_glyph\":null},\"id\":\"c0bd0c22-7f73-4dc6-a2bf-953de7ec47aa\",\"type\":\"GlyphRenderer\"},{\"attributes\":{\"callback\":null,\"column_names\":[\"line_color\",\"color\",\"width\",\"label\",\"x\",\"height\",\"line_alpha\",\"y\",\"fill_alpha\"],\"data\":{\"QuestCreationYear\":[2009],\"QuestTags\":[\"javascript\"],\"chart_index\":[{\"QuestCreationYear\":2009,\"QuestTags\":\"javascript\"}],\"color\":[\"#87CEFA\"],\"fill_alpha\":[0.8],\"height\":[1800.0],\"label\":[{\"QuestCreationYear\":2009,\"QuestTags\":\"javascript\"}],\"line_alpha\":[1.0],\"line_color\":[\"white\"],\"width\":[1.0],\"x\":[\"2009\"],\"y\":[13864.0]}},\"id\":\"86b18198-87eb-4867-b106-efd51dcc9a40\",\"type\":\"ColumnDataSource\"},{\"attributes\":{\"fill_alpha\":{\"field\":\"fill_alpha\"},\"fill_color\":{\"field\":\"color\"},\"height\":{\"field\":\"height\",\"units\":\"data\"},\"line_color\":{\"field\":\"line_color\"},\"width\":{\"field\":\"width\",\"units\":\"data\"},\"x\":{\"field\":\"x\"},\"y\":{\"field\":\"y\"}},\"id\":\"7043f872-8641-47c4-96d0-5bf10bbf0bfc\",\"type\":\"Rect\"},{\"attributes\":{\"callback\":null,\"column_names\":[\"line_color\",\"color\",\"width\",\"label\",\"x\",\"height\",\"line_alpha\",\"y\",\"fill_alpha\"],\"data\":{\"QuestCreationYear\":[2011],\"QuestTags\":[\"javascript\"],\"chart_index\":[{\"QuestCreationYear\":2011,\"QuestTags\":\"javascript\"}],\"color\":[\"#87CEFA\"],\"fill_alpha\":[0.8],\"height\":[8835.0],\"label\":[{\"QuestCreationYear\":2011,\"QuestTags\":\"javascript\"}],\"line_alpha\":[1.0],\"line_color\":[\"white\"],\"width\":[1.0],\"x\":[\"2011\"],\"y\":[34054.5]}},\"id\":\"6557b280-3722-4308-9e96-990a90e2b239\",\"type\":\"ColumnDataSource\"},{\"attributes\":{\"fill_alpha\":{\"field\":\"fill_alpha\"},\"fill_color\":{\"field\":\"color\"},\"height\":{\"field\":\"height\",\"units\":\"data\"},\"line_color\":{\"field\":\"line_color\"},\"width\":{\"field\":\"width\",\"units\":\"data\"},\"x\":{\"field\":\"x\"},\"y\":{\"field\":\"y\"}},\"id\":\"36b5d713-a9eb-4af2-8972-15c48ef10aa7\",\"type\":\"Rect\"},{\"attributes\":{\"callback\":null,\"column_names\":[\"line_color\",\"color\",\"width\",\"label\",\"x\",\"height\",\"line_alpha\",\"y\",\"fill_alpha\"],\"data\":{\"QuestCreationYear\":[2009],\"QuestTags\":[\"iphone\"],\"chart_index\":[{\"QuestCreationYear\":2009,\"QuestTags\":\"iphone\"}],\"color\":[\"#D3D3D3\"],\"fill_alpha\":[0.8],\"height\":[1361.0],\"label\":[{\"QuestCreationYear\":2009,\"QuestTags\":\"iphone\"}],\"line_alpha\":[1.0],\"line_color\":[\"white\"],\"width\":[1.0],\"x\":[\"2009\"],\"y\":[18395.5]}},\"id\":\"b18315b5-42f7-4099-8154-e451a6303079\",\"type\":\"ColumnDataSource\"},{\"attributes\":{\"data_source\":{\"id\":\"6d4aee27-0f9a-44bb-8513-1ca2bb270976\",\"type\":\"ColumnDataSource\"},\"glyph\":{\"id\":\"071e38a4-36fc-4ded-aa78-b1d0991d00aa\",\"type\":\"Rect\"},\"hover_glyph\":null,\"nonselection_glyph\":null,\"selection_glyph\":null},\"id\":\"5c05e087-99b1-45a3-ade5-5ef330abbc3b\",\"type\":\"GlyphRenderer\"},{\"attributes\":{\"fill_alpha\":{\"field\":\"fill_alpha\"},\"fill_color\":{\"field\":\"color\"},\"height\":{\"field\":\"height\",\"units\":\"data\"},\"line_color\":{\"field\":\"line_color\"},\"width\":{\"field\":\"width\",\"units\":\"data\"},\"x\":{\"field\":\"x\"},\"y\":{\"field\":\"y\"}},\"id\":\"29c08daf-535d-4e74-8e66-ff03b675c09c\",\"type\":\"Rect\"},{\"attributes\":{\"callback\":null,\"column_names\":[\"line_color\",\"color\",\"width\",\"label\",\"x\",\"height\",\"line_alpha\",\"y\",\"fill_alpha\"],\"data\":{\"QuestCreationYear\":[2013],\"QuestTags\":[\"java\"],\"chart_index\":[{\"QuestCreationYear\":2013,\"QuestTags\":\"java\"}],\"color\":[\"#FFB6C1\"],\"fill_alpha\":[0.8],\"height\":[17662.0],\"label\":[{\"QuestCreationYear\":2013,\"QuestTags\":\"java\"}],\"line_alpha\":[1.0],\"line_color\":[\"white\"],\"width\":[1.0],\"x\":[\"2013\"],\"y\":[27241.0]}},\"id\":\"7b919eac-aca1-4fe9-ad23-56244ea721e9\",\"type\":\"ColumnDataSource\"},{\"attributes\":{\"fill_alpha\":{\"field\":\"fill_alpha\"},\"fill_color\":{\"field\":\"color\"},\"height\":{\"field\":\"height\",\"units\":\"data\"},\"line_color\":{\"field\":\"line_color\"},\"width\":{\"field\":\"width\",\"units\":\"data\"},\"x\":{\"field\":\"x\"},\"y\":{\"field\":\"y\"}},\"id\":\"65f1175e-fe18-498e-b29f-33a02353cab3\",\"type\":\"Rect\"},{\"attributes\":{\"callback\":null,\"column_names\":[\"line_color\",\"color\",\"width\",\"label\",\"x\",\"height\",\"line_alpha\",\"y\",\"fill_alpha\"],\"data\":{\"QuestCreationYear\":[2014],\"QuestTags\":[\"jquery\"],\"chart_index\":[{\"QuestCreationYear\":2014,\"QuestTags\":\"jquery\"}],\"color\":[\"#20B2AA\"],\"fill_alpha\":[0.8],\"height\":[13937.0],\"label\":[{\"QuestCreationYear\":2014,\"QuestTags\":\"jquery\"}],\"line_alpha\":[1.0],\"line_color\":[\"white\"],\"width\":[1.0],\"x\":[\"2014\"],\"y\":[98824.5]}},\"id\":\"1fc75498-db0e-41f7-a5c4-5fafd2d1fafb\",\"type\":\"ColumnDataSource\"},{\"attributes\":{\"data_source\":{\"id\":\"be07f467-c510-4201-88cb-91b622395d0f\",\"type\":\"ColumnDataSource\"},\"glyph\":{\"id\":\"dfbd985f-ebb8-4986-a19b-85a94ee49149\",\"type\":\"Rect\"},\"hover_glyph\":null,\"nonselection_glyph\":null,\"selection_glyph\":null},\"id\":\"44d833a4-df95-40ee-b476-ca893775ca4a\",\"type\":\"GlyphRenderer\"},{\"attributes\":{\"callback\":null,\"column_names\":[\"line_color\",\"color\",\"width\",\"label\",\"x\",\"height\",\"line_alpha\",\"y\",\"fill_alpha\"],\"data\":{\"QuestCreationYear\":[2014],\"QuestTags\":[\"android\"],\"chart_index\":[{\"QuestCreationYear\":2014,\"QuestTags\":\"android\"}],\"color\":[\"#FF6347\"],\"fill_alpha\":[0.8],\"height\":[16110.0],\"label\":[{\"QuestCreationYear\":2014,\"QuestTags\":\"android\"}],\"line_alpha\":[1.0],\"line_color\":[\"white\"],\"width\":[1.0],\"x\":[\"2014\"],\"y\":[68144.0]}},\"id\":\"df217d09-6dff-48d7-a599-e390ac65e582\",\"type\":\"ColumnDataSource\"},{\"attributes\":{\"fill_alpha\":{\"field\":\"fill_alpha\"},\"fill_color\":{\"field\":\"color\"},\"height\":{\"field\":\"height\",\"units\":\"data\"},\"line_color\":{\"field\":\"line_color\"},\"width\":{\"field\":\"width\",\"units\":\"data\"},\"x\":{\"field\":\"x\"},\"y\":{\"field\":\"y\"}},\"id\":\"9aa5a3ca-f60d-4e47-9ea8-7d6ad7fde7fd\",\"type\":\"Rect\"},{\"attributes\":{\"data_source\":{\"id\":\"94682180-6c05-4492-a9d3-ccad350682f4\",\"type\":\"ColumnDataSource\"},\"glyph\":{\"id\":\"65f1175e-fe18-498e-b29f-33a02353cab3\",\"type\":\"Rect\"},\"hover_glyph\":null,\"nonselection_glyph\":null,\"selection_glyph\":null},\"id\":\"934b7b5d-d992-43ae-a173-324a33ceb98a\",\"type\":\"GlyphRenderer\"},{\"attributes\":{\"fill_alpha\":{\"field\":\"fill_alpha\"},\"fill_color\":{\"field\":\"color\"},\"height\":{\"field\":\"height\",\"units\":\"data\"},\"line_color\":{\"field\":\"line_color\"},\"width\":{\"field\":\"width\",\"units\":\"data\"},\"x\":{\"field\":\"x\"},\"y\":{\"field\":\"y\"}},\"id\":\"1c967e9f-004f-4c4a-8b57-68f1f616464c\",\"type\":\"Rect\"},{\"attributes\":{\"callback\":null,\"column_names\":[\"line_color\",\"color\",\"width\",\"label\",\"x\",\"height\",\"line_alpha\",\"y\",\"fill_alpha\"],\"data\":{\"QuestCreationYear\":[2015],\"QuestTags\":[\"python\"],\"chart_index\":[{\"QuestCreationYear\":2015,\"QuestTags\":\"python\"}],\"color\":[\"#778899\"],\"fill_alpha\":[0.8],\"height\":[13310.0],\"label\":[{\"QuestCreationYear\":2015,\"QuestTags\":\"python\"}],\"line_alpha\":[1.0],\"line_color\":[\"white\"],\"width\":[1.0],\"x\":[\"2015\"],\"y\":[101160.0]}},\"id\":\"d7af73b9-597d-4042-8bf8-9d4764405613\",\"type\":\"ColumnDataSource\"},{\"attributes\":{\"data_source\":{\"id\":\"18dfd979-763d-4d82-ba25-8ab12baa5eeb\",\"type\":\"ColumnDataSource\"},\"glyph\":{\"id\":\"7043f872-8641-47c4-96d0-5bf10bbf0bfc\",\"type\":\"Rect\"},\"hover_glyph\":null,\"nonselection_glyph\":null,\"selection_glyph\":null},\"id\":\"a6ca63b9-4433-4734-9bf0-7ddf461e2933\",\"type\":\"GlyphRenderer\"},{\"attributes\":{\"data_source\":{\"id\":\"e0c1e475-221d-491b-a241-846bf8ad7b8c\",\"type\":\"ColumnDataSource\"},\"glyph\":{\"id\":\"1936d238-bf7e-45bf-a37e-35b62575febc\",\"type\":\"Rect\"},\"hover_glyph\":null,\"nonselection_glyph\":null,\"selection_glyph\":null},\"id\":\"72ef5368-f27d-4227-a89b-25f8029f822c\",\"type\":\"GlyphRenderer\"},{\"attributes\":{\"callback\":null,\"column_names\":[\"line_color\",\"color\",\"width\",\"label\",\"x\",\"height\",\"line_alpha\",\"y\",\"fill_alpha\"],\"data\":{\"QuestCreationYear\":[2016],\"QuestTags\":[\"html\"],\"chart_index\":[{\"QuestCreationYear\":2016,\"QuestTags\":\"html\"}],\"color\":[\"#ADD8E6\"],\"fill_alpha\":[0.8],\"height\":[9683.0],\"label\":[{\"QuestCreationYear\":2016,\"QuestTags\":\"html\"}],\"line_alpha\":[1.0],\"line_color\":[\"white\"],\"width\":[1.0],\"x\":[\"2016\"],\"y\":[107663.5]}},\"id\":\"67dba45d-4730-4fcd-9c1a-6531ba39719f\",\"type\":\"ColumnDataSource\"},{\"attributes\":{\"callback\":null,\"column_names\":[\"line_color\",\"color\",\"width\",\"label\",\"x\",\"height\",\"line_alpha\",\"y\",\"fill_alpha\"],\"data\":{\"QuestCreationYear\":[2009],\"QuestTags\":[\"php\"],\"chart_index\":[{\"QuestCreationYear\":2009,\"QuestTags\":\"php\"}],\"color\":[\"#FFA07A\"],\"fill_alpha\":[0.8],\"height\":[2008.0],\"label\":[{\"QuestCreationYear\":2009,\"QuestTags\":\"php\"}],\"line_alpha\":[1.0],\"line_color\":[\"white\"],\"width\":[1.0],\"x\":[\"2009\"],\"y\":[9984.0]}},\"id\":\"baf08cc8-0d27-4a54-ab4b-356ee516106c\",\"type\":\"ColumnDataSource\"},{\"attributes\":{\"data_source\":{\"id\":\"56522c9c-c169-4773-86ca-57c5b12a22d1\",\"type\":\"ColumnDataSource\"},\"glyph\":{\"id\":\"36b5d713-a9eb-4af2-8972-15c48ef10aa7\",\"type\":\"Rect\"},\"hover_glyph\":null,\"nonselection_glyph\":null,\"selection_glyph\":null},\"id\":\"e2c7fd7e-e527-47cd-a44b-b14b3f05b0eb\",\"type\":\"GlyphRenderer\"},{\"attributes\":{\"callback\":null,\"column_names\":[\"line_color\",\"color\",\"width\",\"label\",\"x\",\"height\",\"line_alpha\",\"y\",\"fill_alpha\"],\"data\":{\"QuestCreationYear\":[2014],\"QuestTags\":[\"html\"],\"chart_index\":[{\"QuestCreationYear\":2014,\"QuestTags\":\"html\"}],\"color\":[\"#ADD8E6\"],\"fill_alpha\":[0.8],\"height\":[11437.0],\"label\":[{\"QuestCreationYear\":2014,\"QuestTags\":\"html\"}],\"line_alpha\":[1.0],\"line_color\":[\"white\"],\"width\":[1.0],\"x\":[\"2014\"],\"y\":[111511.5]}},\"id\":\"aae71aa2-5997-4fe8-a8a7-dc6cc9df4613\",\"type\":\"ColumnDataSource\"},{\"attributes\":{\"callback\":null,\"column_names\":[\"line_color\",\"color\",\"width\",\"label\",\"x\",\"height\",\"line_alpha\",\"y\",\"fill_alpha\"],\"data\":{\"QuestCreationYear\":[2015],\"QuestTags\":[\"php\"],\"chart_index\":[{\"QuestCreationYear\":2015,\"QuestTags\":\"php\"}],\"color\":[\"#FFA07A\"],\"fill_alpha\":[0.8],\"height\":[16196.0],\"label\":[{\"QuestCreationYear\":2015,\"QuestTags\":\"php\"}],\"line_alpha\":[1.0],\"line_color\":[\"white\"],\"width\":[1.0],\"x\":[\"2015\"],\"y\":[71000.0]}},\"id\":\"6460cfd4-4c9f-4e42-9058-f1e83b7780a5\",\"type\":\"ColumnDataSource\"},{\"attributes\":{\"data_source\":{\"id\":\"741b92a2-1371-4395-9ff3-153dee08beea\",\"type\":\"ColumnDataSource\"},\"glyph\":{\"id\":\"d6d41a34-0f61-4bf4-815a-1d89df7985e5\",\"type\":\"Rect\"},\"hover_glyph\":null,\"nonselection_glyph\":null,\"selection_glyph\":null},\"id\":\"5d2690e9-2254-4ac6-b33f-af30fe7d9bf5\",\"type\":\"GlyphRenderer\"},{\"attributes\":{\"fill_alpha\":{\"field\":\"fill_alpha\"},\"fill_color\":{\"field\":\"color\"},\"height\":{\"field\":\"height\",\"units\":\"data\"},\"line_color\":{\"field\":\"line_color\"},\"width\":{\"field\":\"width\",\"units\":\"data\"},\"x\":{\"field\":\"x\"},\"y\":{\"field\":\"y\"}},\"id\":\"235a7048-8de1-453c-bdb4-59c741ed2dfb\",\"type\":\"Rect\"},{\"attributes\":{\"data_source\":{\"id\":\"a5cd198f-0e29-487e-b24a-7bc5c056af0d\",\"type\":\"ColumnDataSource\"},\"glyph\":{\"id\":\"800896a1-5688-4eb6-9dc2-a2ed12915312\",\"type\":\"Rect\"},\"hover_glyph\":null,\"nonselection_glyph\":null,\"selection_glyph\":null},\"id\":\"b4ac7b25-6b0a-40f9-900f-317f50a11443\",\"type\":\"GlyphRenderer\"},{\"attributes\":{\"data_source\":{\"id\":\"443ab6df-5ee3-4ac2-a926-a0a5c163776c\",\"type\":\"ColumnDataSource\"},\"glyph\":{\"id\":\"d0f609eb-70bc-4eab-8c31-16d4caa6a469\",\"type\":\"Rect\"},\"hover_glyph\":null,\"nonselection_glyph\":null,\"selection_glyph\":null},\"id\":\"68b57717-5626-41d7-8d56-4a7f3d37a000\",\"type\":\"GlyphRenderer\"},{\"attributes\":{\"data_source\":{\"id\":\"9318d11e-113e-44a9-81a6-952fae3590a4\",\"type\":\"ColumnDataSource\"},\"glyph\":{\"id\":\"cbff0aa3-0c9c-4984-a783-9059b8aae230\",\"type\":\"Rect\"},\"hover_glyph\":null,\"nonselection_glyph\":null,\"selection_glyph\":null},\"id\":\"992f31e5-0ec7-4d9a-b53a-9980bd1619f9\",\"type\":\"GlyphRenderer\"},{\"attributes\":{\"callback\":null,\"column_names\":[\"line_color\",\"color\",\"width\",\"label\",\"x\",\"height\",\"line_alpha\",\"y\",\"fill_alpha\"],\"data\":{\"QuestCreationYear\":[2008],\"QuestTags\":[\".net\"],\"chart_index\":[{\"QuestCreationYear\":2008,\"QuestTags\":\".net\"}],\"color\":[\"#4B0082\"],\"fill_alpha\":[0.8],\"height\":[285.0],\"label\":[{\"QuestCreationYear\":2008,\"QuestTags\":\".net\"}],\"line_alpha\":[1.0],\"line_color\":[\"white\"],\"width\":[1.0],\"x\":[\"2008\"],\"y\":[514.5]}},\"id\":\"2c09a272-831b-430c-8ce4-fae70cbfdd20\",\"type\":\"ColumnDataSource\"},{\"attributes\":{\"fill_alpha\":{\"field\":\"fill_alpha\"},\"fill_color\":{\"field\":\"color\"},\"height\":{\"field\":\"height\",\"units\":\"data\"},\"line_color\":{\"field\":\"line_color\"},\"width\":{\"field\":\"width\",\"units\":\"data\"},\"x\":{\"field\":\"x\"},\"y\":{\"field\":\"y\"}},\"id\":\"10c227d8-99af-4500-9571-accebe1d6f40\",\"type\":\"Rect\"},{\"attributes\":{\"fill_alpha\":{\"field\":\"fill_alpha\"},\"fill_color\":{\"field\":\"color\"},\"height\":{\"field\":\"height\",\"units\":\"data\"},\"line_color\":{\"field\":\"line_color\"},\"width\":{\"field\":\"width\",\"units\":\"data\"},\"x\":{\"field\":\"x\"},\"y\":{\"field\":\"y\"}},\"id\":\"d6d41a34-0f61-4bf4-815a-1d89df7985e5\",\"type\":\"Rect\"},{\"attributes\":{},\"id\":\"07b37c62-94e4-4fa4-9838-0cc929484c16\",\"type\":\"BasicTicker\"},{\"attributes\":{\"fill_alpha\":{\"field\":\"fill_alpha\"},\"fill_color\":{\"field\":\"color\"},\"height\":{\"field\":\"height\",\"units\":\"data\"},\"line_color\":{\"field\":\"line_color\"},\"width\":{\"field\":\"width\",\"units\":\"data\"},\"x\":{\"field\":\"x\"},\"y\":{\"field\":\"y\"}},\"id\":\"ed8f4aa4-e5e8-448b-b9fa-ffed3bcfe28d\",\"type\":\"Rect\"},{\"attributes\":{\"fill_alpha\":{\"field\":\"fill_alpha\"},\"fill_color\":{\"field\":\"color\"},\"height\":{\"field\":\"height\",\"units\":\"data\"},\"line_color\":{\"field\":\"line_color\"},\"width\":{\"field\":\"width\",\"units\":\"data\"},\"x\":{\"field\":\"x\"},\"y\":{\"field\":\"y\"}},\"id\":\"6fefa6f1-295c-4fca-b383-0d8bbb3e44bc\",\"type\":\"Rect\"},{\"attributes\":{\"callback\":null,\"column_names\":[\"line_color\",\"color\",\"width\",\"label\",\"x\",\"height\",\"line_alpha\",\"y\",\"fill_alpha\"],\"data\":{\"QuestCreationYear\":[2010],\"QuestTags\":[\"iphone\"],\"chart_index\":[{\"QuestCreationYear\":2010,\"QuestTags\":\"iphone\"}],\"color\":[\"#D3D3D3\"],\"fill_alpha\":[0.8],\"height\":[3705.0],\"label\":[{\"QuestCreationYear\":2010,\"QuestTags\":\"iphone\"}],\"line_alpha\":[1.0],\"line_color\":[\"white\"],\"width\":[1.0],\"x\":[\"2010\"],\"y\":[27584.5]}},\"id\":\"d0617304-3b47-4b10-91a7-da50ea4cf42b\",\"type\":\"ColumnDataSource\"},{\"attributes\":{\"callback\":null,\"column_names\":[\"line_color\",\"color\",\"width\",\"label\",\"x\",\"height\",\"line_alpha\",\"y\",\"fill_alpha\"],\"data\":{\"QuestCreationYear\":[2011],\"QuestTags\":[\"asp.net\"],\"chart_index\":[{\"QuestCreationYear\":2011,\"QuestTags\":\"asp.net\"}],\"color\":[\"#F0E68C\"],\"fill_alpha\":[0.8],\"height\":[4157.0],\"label\":[{\"QuestCreationYear\":2011,\"QuestTags\":\"asp.net\"}],\"line_alpha\":[1.0],\"line_color\":[\"white\"],\"width\":[1.0],\"x\":[\"2011\"],\"y\":[67043.5]}},\"id\":\"3c95a431-61c2-4488-82fb-4df4a81eff65\",\"type\":\"ColumnDataSource\"},{\"attributes\":{\"data_source\":{\"id\":\"d7af73b9-597d-4042-8bf8-9d4764405613\",\"type\":\"ColumnDataSource\"},\"glyph\":{\"id\":\"1ce804ed-d4f9-4fd5-abbf-6fed0051cf82\",\"type\":\"Rect\"},\"hover_glyph\":null,\"nonselection_glyph\":null,\"selection_glyph\":null},\"id\":\"8b8e2c03-c603-4c08-b240-ff15194df66f\",\"type\":\"GlyphRenderer\"},{\"attributes\":{\"fill_alpha\":{\"field\":\"fill_alpha\"},\"fill_color\":{\"field\":\"color\"},\"height\":{\"field\":\"height\",\"units\":\"data\"},\"line_color\":{\"field\":\"line_color\"},\"width\":{\"field\":\"width\",\"units\":\"data\"},\"x\":{\"field\":\"x\"},\"y\":{\"field\":\"y\"}},\"id\":\"16eaa9a5-64ac-40be-a774-f1fe29d81e0a\",\"type\":\"Rect\"},{\"attributes\":{\"fill_alpha\":{\"field\":\"fill_alpha\"},\"fill_color\":{\"field\":\"color\"},\"height\":{\"field\":\"height\",\"units\":\"data\"},\"line_color\":{\"field\":\"line_color\"},\"width\":{\"field\":\"width\",\"units\":\"data\"},\"x\":{\"field\":\"x\"},\"y\":{\"field\":\"y\"}},\"id\":\"b5f4859c-dd8b-4557-9b92-8f3fddf6e2ae\",\"type\":\"Rect\"},{\"attributes\":{\"callback\":null,\"column_names\":[\"line_color\",\"color\",\"width\",\"label\",\"x\",\"height\",\"line_alpha\",\"y\",\"fill_alpha\"],\"data\":{\"QuestCreationYear\":[2010],\"QuestTags\":[\"asp.net\"],\"chart_index\":[{\"QuestCreationYear\":2010,\"QuestTags\":\"asp.net\"}],\"color\":[\"#F0E68C\"],\"fill_alpha\":[0.8],\"height\":[3047.0],\"label\":[{\"QuestCreationYear\":2010,\"QuestTags\":\"asp.net\"}],\"line_alpha\":[1.0],\"line_color\":[\"white\"],\"width\":[1.0],\"x\":[\"2010\"],\"y\":[34049.5]}},\"id\":\"8bac3af2-19a1-413f-ba23-398529c99fe7\",\"type\":\"ColumnDataSource\"},{\"attributes\":{\"data_source\":{\"id\":\"6460cfd4-4c9f-4e42-9058-f1e83b7780a5\",\"type\":\"ColumnDataSource\"},\"glyph\":{\"id\":\"bcb601a7-714d-4265-bfe3-0a2796e0ebfa\",\"type\":\"Rect\"},\"hover_glyph\":null,\"nonselection_glyph\":null,\"selection_glyph\":null},\"id\":\"fc159967-f5d2-46b7-b385-0173b545848b\",\"type\":\"GlyphRenderer\"},{\"attributes\":{\"callback\":null,\"column_names\":[\"line_color\",\"color\",\"width\",\"label\",\"x\",\"height\",\"line_alpha\",\"y\",\"fill_alpha\"],\"data\":{\"QuestCreationYear\":[2010],\"QuestTags\":[\".net\"],\"chart_index\":[{\"QuestCreationYear\":2010,\"QuestTags\":\".net\"}],\"color\":[\"#4B0082\"],\"fill_alpha\":[0.8],\"height\":[3035.0],\"label\":[{\"QuestCreationYear\":2010,\"QuestTags\":\".net\"}],\"line_alpha\":[1.0],\"line_color\":[\"white\"],\"width\":[1.0],\"x\":[\"2010\"],\"y\":[37090.5]}},\"id\":\"37966960-1bf6-455e-be5c-6b96a54de892\",\"type\":\"ColumnDataSource\"},{\"attributes\":{\"data_source\":{\"id\":\"930d32a7-bec1-4de9-ab17-15b722d58fc8\",\"type\":\"ColumnDataSource\"},\"glyph\":{\"id\":\"5a511ef5-7654-4fb1-a308-efb5f01db030\",\"type\":\"Rect\"},\"hover_glyph\":null,\"nonselection_glyph\":null,\"selection_glyph\":null},\"id\":\"a734dd19-3b57-4faf-9a48-3b3cdcc1789c\",\"type\":\"GlyphRenderer\"},{\"attributes\":{\"data_source\":{\"id\":\"7cdd4440-c327-4151-85b7-4c348120010d\",\"type\":\"ColumnDataSource\"},\"glyph\":{\"id\":\"b08e9998-2067-47e5-9781-5e3dfb85e306\",\"type\":\"Rect\"},\"hover_glyph\":null,\"nonselection_glyph\":null,\"selection_glyph\":null},\"id\":\"80e0dc15-d5a7-44ee-abc7-c98e9eb3c9fc\",\"type\":\"GlyphRenderer\"},{\"attributes\":{\"data_source\":{\"id\":\"3653faea-f120-4615-bf8d-daa8b7d6e119\",\"type\":\"ColumnDataSource\"},\"glyph\":{\"id\":\"ef7921e3-593a-418b-9709-8f9b01d45adc\",\"type\":\"Rect\"},\"hover_glyph\":null,\"nonselection_glyph\":null,\"selection_glyph\":null},\"id\":\"6dddf1e1-43d0-4ea7-879d-1a86d28fdd87\",\"type\":\"GlyphRenderer\"},{\"attributes\":{\"fill_alpha\":{\"field\":\"fill_alpha\"},\"fill_color\":{\"field\":\"color\"},\"height\":{\"field\":\"height\",\"units\":\"data\"},\"line_color\":{\"field\":\"line_color\"},\"width\":{\"field\":\"width\",\"units\":\"data\"},\"x\":{\"field\":\"x\"},\"y\":{\"field\":\"y\"}},\"id\":\"cf44ed60-337d-4ea2-803d-d4e7fa5c5abe\",\"type\":\"Rect\"},{\"attributes\":{\"data_source\":{\"id\":\"7ee5ab9e-bad2-49b6-9ba9-9d1593b4ecc4\",\"type\":\"ColumnDataSource\"},\"glyph\":{\"id\":\"45a56f65-ac49-469f-8ec5-ccdaf0e284ed\",\"type\":\"Rect\"},\"hover_glyph\":null,\"nonselection_glyph\":null,\"selection_glyph\":null},\"id\":\"9039226a-1118-4903-990a-fabfa2460cdd\",\"type\":\"GlyphRenderer\"},{\"attributes\":{\"data_source\":{\"id\":\"ae9afb12-397d-4c56-8aab-42f22baad4ba\",\"type\":\"ColumnDataSource\"},\"glyph\":{\"id\":\"42cfabc8-6b40-42f3-9618-8d02cf99fae0\",\"type\":\"Rect\"},\"hover_glyph\":null,\"nonselection_glyph\":null,\"selection_glyph\":null},\"id\":\"3a153b82-c143-435e-91ae-45fa5506237e\",\"type\":\"GlyphRenderer\"},{\"attributes\":{\"callback\":null,\"column_names\":[\"line_color\",\"color\",\"width\",\"label\",\"x\",\"height\",\"line_alpha\",\"y\",\"fill_alpha\"],\"data\":{\"QuestCreationYear\":[2013],\"QuestTags\":[\"ios\"],\"chart_index\":[{\"QuestCreationYear\":2013,\"QuestTags\":\"ios\"}],\"color\":[\"#F08080\"],\"fill_alpha\":[0.8],\"height\":[7734.0],\"label\":[{\"QuestCreationYear\":2013,\"QuestTags\":\"ios\"}],\"line_alpha\":[1.0],\"line_color\":[\"white\"],\"width\":[1.0],\"x\":[\"2013\"],\"y\":[117739.0]}},\"id\":\"94682180-6c05-4492-a9d3-ccad350682f4\",\"type\":\"ColumnDataSource\"},{\"attributes\":{\"callback\":null,\"column_names\":[\"line_color\",\"color\",\"width\",\"label\",\"x\",\"height\",\"line_alpha\",\"y\",\"fill_alpha\"],\"data\":{\"QuestCreationYear\":[2008],\"QuestTags\":[\"sql-server\"],\"chart_index\":[{\"QuestCreationYear\":2008,\"QuestTags\":\"sql-server\"}],\"color\":[\"#40E0D0\"],\"fill_alpha\":[0.8],\"height\":[97.0],\"label\":[{\"QuestCreationYear\":2008,\"QuestTags\":\"sql-server\"}],\"line_alpha\":[1.0],\"line_color\":[\"white\"],\"width\":[1.0],\"x\":[\"2008\"],\"y\":[1817.5]}},\"id\":\"9318d11e-113e-44a9-81a6-952fae3590a4\",\"type\":\"ColumnDataSource\"},{\"attributes\":{\"data_source\":{\"id\":\"407432e0-a7c0-4374-8667-c1cf2b56db9e\",\"type\":\"ColumnDataSource\"},\"glyph\":{\"id\":\"7252e48c-7876-4e5f-84df-85a81883e31d\",\"type\":\"Rect\"},\"hover_glyph\":null,\"nonselection_glyph\":null,\"selection_glyph\":null},\"id\":\"a64f080b-0a2f-482c-85da-63e72cabd032\",\"type\":\"GlyphRenderer\"},{\"attributes\":{\"data_source\":{\"id\":\"4a236e0d-587f-4c5e-abd1-7dd59726d148\",\"type\":\"ColumnDataSource\"},\"glyph\":{\"id\":\"a5a4c3fe-4d6f-4258-9ba2-b9c92c896a0f\",\"type\":\"Rect\"},\"hover_glyph\":null,\"nonselection_glyph\":null,\"selection_glyph\":null},\"id\":\"b13d993a-fa83-49d2-9a94-02ed9c31cc81\",\"type\":\"GlyphRenderer\"},{\"attributes\":{\"fill_alpha\":{\"field\":\"fill_alpha\"},\"fill_color\":{\"field\":\"color\"},\"height\":{\"field\":\"height\",\"units\":\"data\"},\"line_color\":{\"field\":\"line_color\"},\"width\":{\"field\":\"width\",\"units\":\"data\"},\"x\":{\"field\":\"x\"},\"y\":{\"field\":\"y\"}},\"id\":\"c12b8b4c-cb66-4d87-9e6b-859394b882da\",\"type\":\"Rect\"},{\"attributes\":{\"data_source\":{\"id\":\"73d55bc4-67f6-41e0-beaf-ad231215072e\",\"type\":\"ColumnDataSource\"},\"glyph\":{\"id\":\"7b6563a8-d33b-4f54-acc6-7105a5917b46\",\"type\":\"Rect\"},\"hover_glyph\":null,\"nonselection_glyph\":null,\"selection_glyph\":null},\"id\":\"f66ccab5-6e08-4328-81e1-4b2bb37953b2\",\"type\":\"GlyphRenderer\"},{\"attributes\":{\"fill_alpha\":{\"field\":\"fill_alpha\"},\"fill_color\":{\"field\":\"color\"},\"height\":{\"field\":\"height\",\"units\":\"data\"},\"line_color\":{\"field\":\"line_color\"},\"width\":{\"field\":\"width\",\"units\":\"data\"},\"x\":{\"field\":\"x\"},\"y\":{\"field\":\"y\"}},\"id\":\"ef7921e3-593a-418b-9709-8f9b01d45adc\",\"type\":\"Rect\"},{\"attributes\":{\"fill_alpha\":{\"field\":\"fill_alpha\"},\"fill_color\":{\"field\":\"color\"},\"height\":{\"field\":\"height\",\"units\":\"data\"},\"line_color\":{\"field\":\"line_color\"},\"width\":{\"field\":\"width\",\"units\":\"data\"},\"x\":{\"field\":\"x\"},\"y\":{\"field\":\"y\"}},\"id\":\"ca0bb891-2875-4f96-9a3a-57bd50dbb123\",\"type\":\"Rect\"},{\"attributes\":{\"bottom_units\":\"screen\",\"fill_alpha\":{\"value\":0.5},\"fill_color\":{\"value\":\"lightgrey\"},\"left_units\":\"screen\",\"level\":\"overlay\",\"line_alpha\":{\"value\":1.0},\"line_color\":{\"value\":\"black\"},\"line_dash\":[4,4],\"line_width\":{\"value\":2},\"plot\":null,\"render_mode\":\"css\",\"right_units\":\"screen\",\"top_units\":\"screen\"},\"id\":\"bffde1a5-8892-4295-b981-955e68b9cb8c\",\"type\":\"BoxAnnotation\"},{\"attributes\":{\"fill_alpha\":{\"field\":\"fill_alpha\"},\"fill_color\":{\"field\":\"color\"},\"height\":{\"field\":\"height\",\"units\":\"data\"},\"line_color\":{\"field\":\"line_color\"},\"width\":{\"field\":\"width\",\"units\":\"data\"},\"x\":{\"field\":\"x\"},\"y\":{\"field\":\"y\"}},\"id\":\"29108654-eefc-4c79-88ca-d335017b79e8\",\"type\":\"Rect\"},{\"attributes\":{\"fill_alpha\":{\"field\":\"fill_alpha\"},\"fill_color\":{\"field\":\"color\"},\"height\":{\"field\":\"height\",\"units\":\"data\"},\"line_color\":{\"field\":\"line_color\"},\"width\":{\"field\":\"width\",\"units\":\"data\"},\"x\":{\"field\":\"x\"},\"y\":{\"field\":\"y\"}},\"id\":\"c45d9bdb-6325-4b86-95ea-1bbcce905646\",\"type\":\"Rect\"},{\"attributes\":{\"data_source\":{\"id\":\"b430200e-ef11-4c95-8c3a-c3c703a26189\",\"type\":\"ColumnDataSource\"},\"glyph\":{\"id\":\"29108654-eefc-4c79-88ca-d335017b79e8\",\"type\":\"Rect\"},\"hover_glyph\":null,\"nonselection_glyph\":null,\"selection_glyph\":null},\"id\":\"e79ec9f3-220a-43e7-8854-fcab5b2678af\",\"type\":\"GlyphRenderer\"},{\"attributes\":{\"callback\":null,\"column_names\":[\"line_color\",\"color\",\"width\",\"label\",\"x\",\"height\",\"line_alpha\",\"y\",\"fill_alpha\"],\"data\":{\"QuestCreationYear\":[2012],\"QuestTags\":[\"javascript\"],\"chart_index\":[{\"QuestCreationYear\":2012,\"QuestTags\":\"javascript\"}],\"color\":[\"#87CEFA\"],\"fill_alpha\":[0.8],\"height\":[13048.0],\"label\":[{\"QuestCreationYear\":2012,\"QuestTags\":\"javascript\"}],\"line_alpha\":[1.0],\"line_color\":[\"white\"],\"width\":[1.0],\"x\":[\"2012\"],\"y\":[33479.0]}},\"id\":\"fd5c9b85-e619-437d-9283-6959aa8e5ab2\",\"type\":\"ColumnDataSource\"},{\"attributes\":{\"data_source\":{\"id\":\"2c09a272-831b-430c-8ce4-fae70cbfdd20\",\"type\":\"ColumnDataSource\"},\"glyph\":{\"id\":\"afe47d54-dfd0-4738-83b0-66ab666d91ae\",\"type\":\"Rect\"},\"hover_glyph\":null,\"nonselection_glyph\":null,\"selection_glyph\":null},\"id\":\"0ad9eeeb-cf8b-4d89-8523-cdde2a09fcf5\",\"type\":\"GlyphRenderer\"},{\"attributes\":{\"data_source\":{\"id\":\"d0617304-3b47-4b10-91a7-da50ea4cf42b\",\"type\":\"ColumnDataSource\"},\"glyph\":{\"id\":\"4b03a9d0-085e-4472-86b1-5899859ac803\",\"type\":\"Rect\"},\"hover_glyph\":null,\"nonselection_glyph\":null,\"selection_glyph\":null},\"id\":\"5e862c3c-7ddf-49f9-95ed-640557ab6e99\",\"type\":\"GlyphRenderer\"},{\"attributes\":{\"fill_alpha\":{\"field\":\"fill_alpha\"},\"fill_color\":{\"field\":\"color\"},\"height\":{\"field\":\"height\",\"units\":\"data\"},\"line_color\":{\"field\":\"line_color\"},\"width\":{\"field\":\"width\",\"units\":\"data\"},\"x\":{\"field\":\"x\"},\"y\":{\"field\":\"y\"}},\"id\":\"54d89c2b-da20-4d12-b102-f551aad1f858\",\"type\":\"Rect\"},{\"attributes\":{\"below\":[{\"id\":\"aae25ece-dcfc-47a8-8071-9f18d496ea19\",\"type\":\"CategoricalAxis\"}],\"left\":[{\"id\":\"020205e9-6b6c-498f-bd68-b803de3d421f\",\"type\":\"LinearAxis\"}],\"renderers\":[{\"id\":\"bffde1a5-8892-4295-b981-955e68b9cb8c\",\"type\":\"BoxAnnotation\"},{\"id\":\"5deb1876-cf24-44fa-bd14-bfdf305e3140\",\"type\":\"GlyphRenderer\"},{\"id\":\"0ad9eeeb-cf8b-4d89-8523-cdde2a09fcf5\",\"type\":\"GlyphRenderer\"},{\"id\":\"1070da40-2638-46e7-90de-6a3ceeaf9fc2\",\"type\":\"GlyphRenderer\"},{\"id\":\"411ac133-87be-4d60-8193-06a925858e09\",\"type\":\"GlyphRenderer\"},{\"id\":\"b4f77bb6-8307-425a-8d45-baca82989a19\",\"type\":\"GlyphRenderer\"},{\"id\":\"f544b984-1a46-4b18-827f-2d474fce481d\",\"type\":\"GlyphRenderer\"},{\"id\":\"44d833a4-df95-40ee-b476-ca893775ca4a\",\"type\":\"GlyphRenderer\"},{\"id\":\"b5e26009-9193-4f5d-bc02-bb6be3571c74\",\"type\":\"GlyphRenderer\"},{\"id\":\"4a38b6ea-e1af-42b7-bbf0-9cf82e14e740\",\"type\":\"GlyphRenderer\"},{\"id\":\"992f31e5-0ec7-4d9a-b53a-9980bd1619f9\",\"type\":\"GlyphRenderer\"},{\"id\":\"72ef5368-f27d-4227-a89b-25f8029f822c\",\"type\":\"GlyphRenderer\"},{\"id\":\"323ffb3b-4959-4c92-81a4-2c86110b016a\",\"type\":\"GlyphRenderer\"},{\"id\":\"0385e889-d6dd-469a-9b6f-5005cc48449f\",\"type\":\"GlyphRenderer\"},{\"id\":\"495c8fe2-c5a7-4aab-9407-073a5b3de68d\",\"type\":\"GlyphRenderer\"},{\"id\":\"a6ca63b9-4433-4734-9bf0-7ddf461e2933\",\"type\":\"GlyphRenderer\"},{\"id\":\"9b9a9fd4-e1da-4fad-a756-f3d39517572e\",\"type\":\"GlyphRenderer\"},{\"id\":\"96acd989-d4a8-49d3-b262-96110b875352\",\"type\":\"GlyphRenderer\"},{\"id\":\"cc08ab8f-1cae-46c7-ae59-a4c440a5b18d\",\"type\":\"GlyphRenderer\"},{\"id\":\"8419786f-9724-4cda-9b75-77dd1f5ff3fb\",\"type\":\"GlyphRenderer\"},{\"id\":\"ff5fb848-399a-46c3-beed-c2463ac65758\",\"type\":\"GlyphRenderer\"},{\"id\":\"f97c2e33-4c71-471f-bf01-bd706b9a6223\",\"type\":\"GlyphRenderer\"},{\"id\":\"3da113ac-54d5-4bea-a327-d96dea1d0bcd\",\"type\":\"GlyphRenderer\"},{\"id\":\"4e907f62-4116-432f-a367-2f32e9894081\",\"type\":\"GlyphRenderer\"},{\"id\":\"b99176ce-7064-42ad-9f4c-fc1e5debb4c6\",\"type\":\"GlyphRenderer\"},{\"id\":\"5d2690e9-2254-4ac6-b33f-af30fe7d9bf5\",\"type\":\"GlyphRenderer\"},{\"id\":\"5e862c3c-7ddf-49f9-95ed-640557ab6e99\",\"type\":\"GlyphRenderer\"},{\"id\":\"01e7ba3e-4912-42b2-8371-29753d1e6a8c\",\"type\":\"GlyphRenderer\"},{\"id\":\"f196e1ef-e3ae-4ad5-b314-296af6a993fb\",\"type\":\"GlyphRenderer\"},{\"id\":\"032022ee-ea58-409b-b872-006aedb5f2bc\",\"type\":\"GlyphRenderer\"},{\"id\":\"2be95257-d525-4cab-9cc1-1cc301e9c06d\",\"type\":\"GlyphRenderer\"},{\"id\":\"68b57717-5626-41d7-8d56-4a7f3d37a000\",\"type\":\"GlyphRenderer\"},{\"id\":\"9039226a-1118-4903-990a-fabfa2460cdd\",\"type\":\"GlyphRenderer\"},{\"id\":\"c0bd0c22-7f73-4dc6-a2bf-953de7ec47aa\",\"type\":\"GlyphRenderer\"},{\"id\":\"41be9121-517b-4ac9-b950-02eaeccd99c6\",\"type\":\"GlyphRenderer\"},{\"id\":\"ed806cee-e5e1-448e-8ed6-a897a3e23658\",\"type\":\"GlyphRenderer\"},{\"id\":\"24ed8dd8-edbc-4cee-8195-44b557ddb0f9\",\"type\":\"GlyphRenderer\"},{\"id\":\"3d8dbe6d-ca6a-4506-92c0-b7c14872d768\",\"type\":\"GlyphRenderer\"},{\"id\":\"80e0dc15-d5a7-44ee-abc7-c98e9eb3c9fc\",\"type\":\"GlyphRenderer\"},{\"id\":\"ab158141-918f-488e-bea0-296f2f51c15b\",\"type\":\"GlyphRenderer\"},{\"id\":\"f66ccab5-6e08-4328-81e1-4b2bb37953b2\",\"type\":\"GlyphRenderer\"},{\"id\":\"060aed75-6670-475b-b387-c9b3affc1fba\",\"type\":\"GlyphRenderer\"},{\"id\":\"ec5d8cc5-0f17-4e27-814b-0235e9aca128\",\"type\":\"GlyphRenderer\"},{\"id\":\"859a50e6-632b-4c08-b684-c1f3dd250334\",\"type\":\"GlyphRenderer\"},{\"id\":\"49b5ad99-c0b8-41e3-9768-222d56d1540e\",\"type\":\"GlyphRenderer\"},{\"id\":\"452a7d7a-908f-4baf-a33c-1ccbd9d8f195\",\"type\":\"GlyphRenderer\"},{\"id\":\"b13d993a-fa83-49d2-9a94-02ed9c31cc81\",\"type\":\"GlyphRenderer\"},{\"id\":\"f5448b8c-b615-48e4-89c8-3d07dd4f4473\",\"type\":\"GlyphRenderer\"},{\"id\":\"0637e8bb-1a39-443e-b801-7e2965b5eb0d\",\"type\":\"GlyphRenderer\"},{\"id\":\"3a153b82-c143-435e-91ae-45fa5506237e\",\"type\":\"GlyphRenderer\"},{\"id\":\"5b3f3fcf-0ebc-4173-b517-680ef32872f0\",\"type\":\"GlyphRenderer\"},{\"id\":\"349d1be5-eabe-4ede-b304-ce46447819ca\",\"type\":\"GlyphRenderer\"},{\"id\":\"74ab706b-39bc-4cf9-a6d5-50f429632229\",\"type\":\"GlyphRenderer\"},{\"id\":\"ccfa5f15-37f3-43eb-a15b-346b2c52b4f1\",\"type\":\"GlyphRenderer\"},{\"id\":\"ed67169c-cb2b-4941-a414-feff598b53d2\",\"type\":\"GlyphRenderer\"},{\"id\":\"9613e323-c66a-4b2c-a10d-cfaf3dac809f\",\"type\":\"GlyphRenderer\"},{\"id\":\"1c69ded2-ea76-427f-9eb2-96b78b37990d\",\"type\":\"GlyphRenderer\"},{\"id\":\"417a2c34-f0ba-4dbf-8cf7-147d78936273\",\"type\":\"GlyphRenderer\"},{\"id\":\"18fcb7f2-43e7-4ae4-aa18-65575999cf9e\",\"type\":\"GlyphRenderer\"},{\"id\":\"934b7b5d-d992-43ae-a173-324a33ceb98a\",\"type\":\"GlyphRenderer\"},{\"id\":\"20d5e179-bbd0-4609-aef2-4089c8d58958\",\"type\":\"GlyphRenderer\"},{\"id\":\"d4251e16-d6e6-42ce-a5c7-1a9b91bd63b1\",\"type\":\"GlyphRenderer\"},{\"id\":\"2a30adcf-4a8c-4b8f-984b-7fac12c8e8cd\",\"type\":\"GlyphRenderer\"},{\"id\":\"f7a0b19e-1f3c-44c3-b746-bfd47aa5513e\",\"type\":\"GlyphRenderer\"},{\"id\":\"899b6961-cd3f-499d-9aee-5e095a4ae5d8\",\"type\":\"GlyphRenderer\"},{\"id\":\"d78c636b-4648-4a52-bfd9-7c6531972cf4\",\"type\":\"GlyphRenderer\"},{\"id\":\"eacdb781-6a06-4a0e-837e-9313f0a75f74\",\"type\":\"GlyphRenderer\"},{\"id\":\"1b5238a0-8980-4295-a95b-c4a3806781c7\",\"type\":\"GlyphRenderer\"},{\"id\":\"e79ec9f3-220a-43e7-8854-fcab5b2678af\",\"type\":\"GlyphRenderer\"},{\"id\":\"2565883a-7935-4ff9-beb6-082c43398470\",\"type\":\"GlyphRenderer\"},{\"id\":\"5dc466cf-f6ca-4d40-9817-cf968e352c2c\",\"type\":\"GlyphRenderer\"},{\"id\":\"edda62aa-72ef-4c9f-b4dd-0404a7b361e8\",\"type\":\"GlyphRenderer\"},{\"id\":\"a734dd19-3b57-4faf-9a48-3b3cdcc1789c\",\"type\":\"GlyphRenderer\"},{\"id\":\"b4ac7b25-6b0a-40f9-900f-317f50a11443\",\"type\":\"GlyphRenderer\"},{\"id\":\"fc159967-f5d2-46b7-b385-0173b545848b\",\"type\":\"GlyphRenderer\"},{\"id\":\"a64f080b-0a2f-482c-85da-63e72cabd032\",\"type\":\"GlyphRenderer\"},{\"id\":\"8b8e2c03-c603-4c08-b240-ff15194df66f\",\"type\":\"GlyphRenderer\"},{\"id\":\"a571daec-b3ea-440d-92eb-693e29d723c3\",\"type\":\"GlyphRenderer\"},{\"id\":\"b51ebb4b-04dc-4ebf-bff3-a8cb8c84275b\",\"type\":\"GlyphRenderer\"},{\"id\":\"b4af8b1b-c7ff-4d06-8600-b3c80da4fab6\",\"type\":\"GlyphRenderer\"},{\"id\":\"85e6f391-4247-4958-8739-3667ab2809ea\",\"type\":\"GlyphRenderer\"},{\"id\":\"6dddf1e1-43d0-4ea7-879d-1a86d28fdd87\",\"type\":\"GlyphRenderer\"},{\"id\":\"c3b9c26e-6f1d-4fce-81e6-31fc21a47f16\",\"type\":\"GlyphRenderer\"},{\"id\":\"5c05e087-99b1-45a3-ade5-5ef330abbc3b\",\"type\":\"GlyphRenderer\"},{\"id\":\"214d14d4-ac78-4181-b330-2d494fe71ff0\",\"type\":\"GlyphRenderer\"},{\"id\":\"bf59f302-53ca-49d1-8f6c-0698fd8a85ba\",\"type\":\"GlyphRenderer\"},{\"id\":\"40132fc6-0826-40d6-9b77-83bc61f4b847\",\"type\":\"GlyphRenderer\"},{\"id\":\"e2c7fd7e-e527-47cd-a44b-b14b3f05b0eb\",\"type\":\"GlyphRenderer\"},{\"id\":\"a09c1e7c-8061-418c-8222-d6d5c19f1802\",\"type\":\"GlyphRenderer\"},{\"id\":\"88bac2a5-2a39-45e9-8b3a-aeec04f80ba6\",\"type\":\"GlyphRenderer\"},{\"id\":\"68240c0d-2459-4b0d-a725-3cdcf0ed4707\",\"type\":\"GlyphRenderer\"},{\"id\":\"65c40ac6-7103-40e5-bbf6-841fd4103229\",\"type\":\"Legend\"},{\"id\":\"aae25ece-dcfc-47a8-8071-9f18d496ea19\",\"type\":\"CategoricalAxis\"},{\"id\":\"020205e9-6b6c-498f-bd68-b803de3d421f\",\"type\":\"LinearAxis\"},{\"id\":\"d5749028-7614-4fc8-8c90-14c15043ecbe\",\"type\":\"Grid\"}],\"title\":{\"id\":\"363d4dd8-b6f7-4a1f-a780-8278da95ea9f\",\"type\":\"Title\"},\"tool_events\":{\"id\":\"f3ec96a6-26b0-49e6-9fa9-1a7775c92cb5\",\"type\":\"ToolEvents\"},\"toolbar\":{\"id\":\"c4393070-4af1-40c7-9bac-d94177cebe42\",\"type\":\"Toolbar\"},\"x_mapper_type\":\"auto\",\"x_range\":{\"id\":\"8cb1464a-f956-495d-9b39-d24bab31e175\",\"type\":\"FactorRange\"},\"y_mapper_type\":\"auto\",\"y_range\":{\"id\":\"6fdf83de-8926-4402-ac30-4c67f3aed315\",\"type\":\"Range1d\"}},\"id\":\"fa463bf3-b648-4bef-9edf-1fecbbd8ace9\",\"subtype\":\"Chart\",\"type\":\"Plot\"},{\"attributes\":{\"callback\":null,\"column_names\":[\"line_color\",\"color\",\"width\",\"label\",\"x\",\"height\",\"line_alpha\",\"y\",\"fill_alpha\"],\"data\":{\"QuestCreationYear\":[2009],\"QuestTags\":[\"c++\"],\"chart_index\":[{\"QuestCreationYear\":2009,\"QuestTags\":\"c++\"}],\"color\":[\"#FFF0F5\"],\"fill_alpha\":[0.8],\"height\":[1543.0],\"label\":[{\"QuestCreationYear\":2009,\"QuestTags\":\"c++\"}],\"line_alpha\":[1.0],\"line_color\":[\"white\"],\"width\":[1.0],\"x\":[\"2009\"],\"y\":[15535.5]}},\"id\":\"8d7f9c01-9d35-48a0-a0b6-5b774b27590b\",\"type\":\"ColumnDataSource\"},{\"attributes\":{\"data_source\":{\"id\":\"2056fb3d-268c-4cf6-ba0e-e27d81270aaf\",\"type\":\"ColumnDataSource\"},\"glyph\":{\"id\":\"292a9170-adfe-4dcd-926b-b5d46b587d5e\",\"type\":\"Rect\"},\"hover_glyph\":null,\"nonselection_glyph\":null,\"selection_glyph\":null},\"id\":\"f97c2e33-4c71-471f-bf01-bd706b9a6223\",\"type\":\"GlyphRenderer\"},{\"attributes\":{\"data_source\":{\"id\":\"82514b7c-0060-43cd-bbdc-6323ccf492a2\",\"type\":\"ColumnDataSource\"},\"glyph\":{\"id\":\"9033b81b-fe64-4d61-9dd1-a3d06733bc4f\",\"type\":\"Rect\"},\"hover_glyph\":null,\"nonselection_glyph\":null,\"selection_glyph\":null},\"id\":\"5dc466cf-f6ca-4d40-9817-cf968e352c2c\",\"type\":\"GlyphRenderer\"},{\"attributes\":{\"data_source\":{\"id\":\"667d4a19-9485-4b9b-97ab-efce63b8d809\",\"type\":\"ColumnDataSource\"},\"glyph\":{\"id\":\"fca75131-28aa-4297-b41c-c116c3c7885e\",\"type\":\"Rect\"},\"hover_glyph\":null,\"nonselection_glyph\":null,\"selection_glyph\":null},\"id\":\"b4af8b1b-c7ff-4d06-8600-b3c80da4fab6\",\"type\":\"GlyphRenderer\"},{\"attributes\":{\"fill_alpha\":{\"field\":\"fill_alpha\"},\"fill_color\":{\"field\":\"color\"},\"height\":{\"field\":\"height\",\"units\":\"data\"},\"line_color\":{\"field\":\"line_color\"},\"width\":{\"field\":\"width\",\"units\":\"data\"},\"x\":{\"field\":\"x\"},\"y\":{\"field\":\"y\"}},\"id\":\"e713eea0-b8cf-47bf-b527-1eac912fe75a\",\"type\":\"Rect\"},{\"attributes\":{\"fill_alpha\":{\"field\":\"fill_alpha\"},\"fill_color\":{\"field\":\"color\"},\"height\":{\"field\":\"height\",\"units\":\"data\"},\"line_color\":{\"field\":\"line_color\"},\"width\":{\"field\":\"width\",\"units\":\"data\"},\"x\":{\"field\":\"x\"},\"y\":{\"field\":\"y\"}},\"id\":\"abfff335-b05d-4b8b-ac83-2091e963fbcc\",\"type\":\"Rect\"},{\"attributes\":{\"fill_alpha\":{\"field\":\"fill_alpha\"},\"fill_color\":{\"field\":\"color\"},\"height\":{\"field\":\"height\",\"units\":\"data\"},\"line_color\":{\"field\":\"line_color\"},\"width\":{\"field\":\"width\",\"units\":\"data\"},\"x\":{\"field\":\"x\"},\"y\":{\"field\":\"y\"}},\"id\":\"cc93355f-6666-4d1d-96bf-3bf539f7df92\",\"type\":\"Rect\"},{\"attributes\":{\"fill_alpha\":{\"field\":\"fill_alpha\"},\"fill_color\":{\"field\":\"color\"},\"height\":{\"field\":\"height\",\"units\":\"data\"},\"line_color\":{\"field\":\"line_color\"},\"width\":{\"field\":\"width\",\"units\":\"data\"},\"x\":{\"field\":\"x\"},\"y\":{\"field\":\"y\"}},\"id\":\"cb76a128-f2e4-413b-87a9-f9583ea0dfbe\",\"type\":\"Rect\"},{\"attributes\":{\"plot\":{\"id\":\"fa463bf3-b648-4bef-9edf-1fecbbd8ace9\",\"subtype\":\"Chart\",\"type\":\"Plot\"}},\"id\":\"7ba5932a-5521-4f21-9dea-17f7ecb0d55a\",\"type\":\"PanTool\"},{\"attributes\":{\"data_source\":{\"id\":\"bde2d9bf-ac60-4146-8964-0305f0ce841c\",\"type\":\"ColumnDataSource\"},\"glyph\":{\"id\":\"b5f4859c-dd8b-4557-9b92-8f3fddf6e2ae\",\"type\":\"Rect\"},\"hover_glyph\":null,\"nonselection_glyph\":null,\"selection_glyph\":null},\"id\":\"f7a0b19e-1f3c-44c3-b746-bfd47aa5513e\",\"type\":\"GlyphRenderer\"},{\"attributes\":{\"overlay\":{\"id\":\"bffde1a5-8892-4295-b981-955e68b9cb8c\",\"type\":\"BoxAnnotation\"},\"plot\":{\"id\":\"fa463bf3-b648-4bef-9edf-1fecbbd8ace9\",\"subtype\":\"Chart\",\"type\":\"Plot\"}},\"id\":\"d148c4d5-895d-4529-85a3-b1614ffd1bda\",\"type\":\"BoxZoomTool\"},{\"attributes\":{\"callback\":null,\"column_names\":[\"line_color\",\"color\",\"width\",\"label\",\"x\",\"height\",\"line_alpha\",\"y\",\"fill_alpha\"],\"data\":{\"QuestCreationYear\":[2014],\"QuestTags\":[\"php\"],\"chart_index\":[{\"QuestCreationYear\":2014,\"QuestTags\":\"php\"}],\"color\":[\"#FFA07A\"],\"fill_alpha\":[0.8],\"height\":[16950.0],\"label\":[{\"QuestCreationYear\":2014,\"QuestTags\":\"php\"}],\"line_alpha\":[1.0],\"line_color\":[\"white\"],\"width\":[1.0],\"x\":[\"2014\"],\"y\":[51614.0]}},\"id\":\"bde2d9bf-ac60-4146-8964-0305f0ce841c\",\"type\":\"ColumnDataSource\"},{\"attributes\":{\"callback\":null,\"column_names\":[\"line_color\",\"color\",\"width\",\"label\",\"x\",\"height\",\"line_alpha\",\"y\",\"fill_alpha\"],\"data\":{\"QuestCreationYear\":[2008],\"QuestTags\":[\"asp.net\"],\"chart_index\":[{\"QuestCreationYear\":2008,\"QuestTags\":\"asp.net\"}],\"color\":[\"#F0E68C\"],\"fill_alpha\":[0.8],\"height\":[224.0],\"label\":[{\"QuestCreationYear\":2008,\"QuestTags\":\"asp.net\"}],\"line_alpha\":[1.0],\"line_color\":[\"white\"],\"width\":[1.0],\"x\":[\"2008\"],\"y\":[769.0]}},\"id\":\"85a44995-79b3-46a8-bdd8-02c671e97f2b\",\"type\":\"ColumnDataSource\"},{\"attributes\":{\"data_source\":{\"id\":\"014566f4-0725-4109-bc8f-caf16f15e5fa\",\"type\":\"ColumnDataSource\"},\"glyph\":{\"id\":\"7889f37b-46f1-4835-bd43-27cbf5bf041a\",\"type\":\"Rect\"},\"hover_glyph\":null,\"nonselection_glyph\":null,\"selection_glyph\":null},\"id\":\"417a2c34-f0ba-4dbf-8cf7-147d78936273\",\"type\":\"GlyphRenderer\"},{\"attributes\":{\"fill_alpha\":{\"field\":\"fill_alpha\"},\"fill_color\":{\"field\":\"color\"},\"height\":{\"field\":\"height\",\"units\":\"data\"},\"line_color\":{\"field\":\"line_color\"},\"width\":{\"field\":\"width\",\"units\":\"data\"},\"x\":{\"field\":\"x\"},\"y\":{\"field\":\"y\"}},\"id\":\"dab728e5-2601-43e7-980c-b17dca90391c\",\"type\":\"Rect\"},{\"attributes\":{\"callback\":null,\"column_names\":[\"line_color\",\"color\",\"width\",\"label\",\"x\",\"height\",\"line_alpha\",\"y\",\"fill_alpha\"],\"data\":{\"QuestCreationYear\":[2008],\"QuestTags\":[\"sql\"],\"chart_index\":[{\"QuestCreationYear\":2008,\"QuestTags\":\"sql\"}],\"color\":[\"#9370DB\"],\"fill_alpha\":[0.8],\"height\":[106.0],\"label\":[{\"QuestCreationYear\":2008,\"QuestTags\":\"sql\"}],\"line_alpha\":[1.0],\"line_color\":[\"white\"],\"width\":[1.0],\"x\":[\"2008\"],\"y\":[1716.0]}},\"id\":\"cb34cd2d-e38a-463c-87a1-8727f3324bcb\",\"type\":\"ColumnDataSource\"},{\"attributes\":{\"data_source\":{\"id\":\"1fc75498-db0e-41f7-a5c4-5fafd2d1fafb\",\"type\":\"ColumnDataSource\"},\"glyph\":{\"id\":\"48fd92f6-9b1f-4c46-a3f9-8ed179028463\",\"type\":\"Rect\"},\"hover_glyph\":null,\"nonselection_glyph\":null,\"selection_glyph\":null},\"id\":\"eacdb781-6a06-4a0e-837e-9313f0a75f74\",\"type\":\"GlyphRenderer\"},{\"attributes\":{\"data_source\":{\"id\":\"7e8446b2-f9a5-49c4-9b56-d812c8c8cff4\",\"type\":\"ColumnDataSource\"},\"glyph\":{\"id\":\"a7ce52cf-31c2-453d-acea-9cecf1d60ca7\",\"type\":\"Rect\"},\"hover_glyph\":null,\"nonselection_glyph\":null,\"selection_glyph\":null},\"id\":\"9613e323-c66a-4b2c-a10d-cfaf3dac809f\",\"type\":\"GlyphRenderer\"},{\"attributes\":{\"callback\":null,\"column_names\":[\"line_color\",\"color\",\"width\",\"label\",\"x\",\"height\",\"line_alpha\",\"y\",\"fill_alpha\"],\"data\":{\"QuestCreationYear\":[2008],\"QuestTags\":[\"php\"],\"chart_index\":[{\"QuestCreationYear\":2008,\"QuestTags\":\"php\"}],\"color\":[\"#FFA07A\"],\"fill_alpha\":[0.8],\"height\":[131.0],\"label\":[{\"QuestCreationYear\":2008,\"QuestTags\":\"php\"}],\"line_alpha\":[1.0],\"line_color\":[\"white\"],\"width\":[1.0],\"x\":[\"2008\"],\"y\":[1476.5]}},\"id\":\"be07f467-c510-4201-88cb-91b622395d0f\",\"type\":\"ColumnDataSource\"},{\"attributes\":{\"data_source\":{\"id\":\"a349ff71-ab55-4105-8ef1-9a8da88e5dfd\",\"type\":\"ColumnDataSource\"},\"glyph\":{\"id\":\"66abe0a5-0823-46cb-b17d-8c86712b4493\",\"type\":\"Rect\"},\"hover_glyph\":null,\"nonselection_glyph\":null,\"selection_glyph\":null},\"id\":\"18fcb7f2-43e7-4ae4-aa18-65575999cf9e\",\"type\":\"GlyphRenderer\"},{\"attributes\":{\"fill_alpha\":{\"field\":\"fill_alpha\"},\"fill_color\":{\"field\":\"color\"},\"height\":{\"field\":\"height\",\"units\":\"data\"},\"line_color\":{\"field\":\"line_color\"},\"width\":{\"field\":\"width\",\"units\":\"data\"},\"x\":{\"field\":\"x\"},\"y\":{\"field\":\"y\"}},\"id\":\"1936d238-bf7e-45bf-a37e-35b62575febc\",\"type\":\"Rect\"},{\"attributes\":{\"data_source\":{\"id\":\"1ee5dab0-4e4d-4325-b248-41af90b09911\",\"type\":\"ColumnDataSource\"},\"glyph\":{\"id\":\"c45d9bdb-6325-4b86-95ea-1bbcce905646\",\"type\":\"Rect\"},\"hover_glyph\":null,\"nonselection_glyph\":null,\"selection_glyph\":null},\"id\":\"0385e889-d6dd-469a-9b6f-5005cc48449f\",\"type\":\"GlyphRenderer\"},{\"attributes\":{\"callback\":null,\"column_names\":[\"line_color\",\"color\",\"width\",\"label\",\"x\",\"height\",\"line_alpha\",\"y\",\"fill_alpha\"],\"data\":{\"QuestCreationYear\":[2010],\"QuestTags\":[\"c#\"],\"chart_index\":[{\"QuestCreationYear\":2010,\"QuestTags\":\"c#\"}],\"color\":[\"#E6E6FA\"],\"fill_alpha\":[0.8],\"height\":[7349.0],\"label\":[{\"QuestCreationYear\":2010,\"QuestTags\":\"c#\"}],\"line_alpha\":[1.0],\"line_color\":[\"white\"],\"width\":[1.0],\"x\":[\"2010\"],\"y\":[3674.5]}},\"id\":\"2056fb3d-268c-4cf6-ba0e-e27d81270aaf\",\"type\":\"ColumnDataSource\"},{\"attributes\":{\"fill_alpha\":{\"field\":\"fill_alpha\"},\"fill_color\":{\"field\":\"color\"},\"height\":{\"field\":\"height\",\"units\":\"data\"},\"line_color\":{\"field\":\"line_color\"},\"width\":{\"field\":\"width\",\"units\":\"data\"},\"x\":{\"field\":\"x\"},\"y\":{\"field\":\"y\"}},\"id\":\"9033b81b-fe64-4d61-9dd1-a3d06733bc4f\",\"type\":\"Rect\"},{\"attributes\":{\"data_source\":{\"id\":\"0eff5007-ba62-4e2d-9e34-210c344687c9\",\"type\":\"ColumnDataSource\"},\"glyph\":{\"id\":\"2030e6db-93e7-493e-b87b-7c20e2c44c1b\",\"type\":\"Rect\"},\"hover_glyph\":null,\"nonselection_glyph\":null,\"selection_glyph\":null},\"id\":\"ed806cee-e5e1-448e-8ed6-a897a3e23658\",\"type\":\"GlyphRenderer\"},{\"attributes\":{\"fill_alpha\":{\"field\":\"fill_alpha\"},\"fill_color\":{\"field\":\"color\"},\"height\":{\"field\":\"height\",\"units\":\"data\"},\"line_color\":{\"field\":\"line_color\"},\"width\":{\"field\":\"width\",\"units\":\"data\"},\"x\":{\"field\":\"x\"},\"y\":{\"field\":\"y\"}},\"id\":\"84dc90fb-1c8b-4c79-a0a1-0add130b3897\",\"type\":\"Rect\"},{\"attributes\":{\"data_source\":{\"id\":\"43b03351-71e7-40f6-9c90-167973cb1abf\",\"type\":\"ColumnDataSource\"},\"glyph\":{\"id\":\"54c9fe33-4485-48ec-b94b-29c772505548\",\"type\":\"Rect\"},\"hover_glyph\":null,\"nonselection_glyph\":null,\"selection_glyph\":null},\"id\":\"2565883a-7935-4ff9-beb6-082c43398470\",\"type\":\"GlyphRenderer\"},{\"attributes\":{\"callback\":null,\"column_names\":[\"line_color\",\"color\",\"width\",\"label\",\"x\",\"height\",\"line_alpha\",\"y\",\"fill_alpha\"],\"data\":{\"QuestCreationYear\":[2008],\"QuestTags\":[\"javascript\"],\"chart_index\":[{\"QuestCreationYear\":2008,\"QuestTags\":\"javascript\"}],\"color\":[\"#87CEFA\"],\"fill_alpha\":[0.8],\"height\":[149.0],\"label\":[{\"QuestCreationYear\":2008,\"QuestTags\":\"javascript\"}],\"line_alpha\":[1.0],\"line_color\":[\"white\"],\"width\":[1.0],\"x\":[\"2008\"],\"y\":[1336.5]}},\"id\":\"8796b3d1-71bf-4518-b3f3-4dbe1287d955\",\"type\":\"ColumnDataSource\"},{\"attributes\":{\"callback\":null,\"column_names\":[\"line_color\",\"color\",\"width\",\"label\",\"x\",\"height\",\"line_alpha\",\"y\",\"fill_alpha\"],\"data\":{\"QuestCreationYear\":[2012],\"QuestTags\":[\"python\"],\"chart_index\":[{\"QuestCreationYear\":2012,\"QuestTags\":\"python\"}],\"color\":[\"#778899\"],\"fill_alpha\":[0.8],\"height\":[6146.0],\"label\":[{\"QuestCreationYear\":2012,\"QuestTags\":\"python\"}],\"line_alpha\":[1.0],\"line_color\":[\"white\"],\"width\":[1.0],\"x\":[\"2012\"],\"y\":[92696.0]}},\"id\":\"ae9afb12-397d-4c56-8aab-42f22baad4ba\",\"type\":\"ColumnDataSource\"},{\"attributes\":{\"fill_alpha\":{\"field\":\"fill_alpha\"},\"fill_color\":{\"field\":\"color\"},\"height\":{\"field\":\"height\",\"units\":\"data\"},\"line_color\":{\"field\":\"line_color\"},\"width\":{\"field\":\"width\",\"units\":\"data\"},\"x\":{\"field\":\"x\"},\"y\":{\"field\":\"y\"}},\"id\":\"afe47d54-dfd0-4738-83b0-66ab666d91ae\",\"type\":\"Rect\"},{\"attributes\":{\"data_source\":{\"id\":\"3a9263cc-6a51-4dbb-a8b7-f80091dd318c\",\"type\":\"ColumnDataSource\"},\"glyph\":{\"id\":\"cc93355f-6666-4d1d-96bf-3bf539f7df92\",\"type\":\"Rect\"},\"hover_glyph\":null,\"nonselection_glyph\":null,\"selection_glyph\":null},\"id\":\"ccfa5f15-37f3-43eb-a15b-346b2c52b4f1\",\"type\":\"GlyphRenderer\"},{\"attributes\":{\"fill_alpha\":{\"field\":\"fill_alpha\"},\"fill_color\":{\"field\":\"color\"},\"height\":{\"field\":\"height\",\"units\":\"data\"},\"line_color\":{\"field\":\"line_color\"},\"width\":{\"field\":\"width\",\"units\":\"data\"},\"x\":{\"field\":\"x\"},\"y\":{\"field\":\"y\"}},\"id\":\"c3b10d32-5e49-420b-a053-7a8e2e57c5be\",\"type\":\"Rect\"},{\"attributes\":{\"fill_alpha\":{\"field\":\"fill_alpha\"},\"fill_color\":{\"field\":\"color\"},\"height\":{\"field\":\"height\",\"units\":\"data\"},\"line_color\":{\"field\":\"line_color\"},\"width\":{\"field\":\"width\",\"units\":\"data\"},\"x\":{\"field\":\"x\"},\"y\":{\"field\":\"y\"}},\"id\":\"1ce804ed-d4f9-4fd5-abbf-6fed0051cf82\",\"type\":\"Rect\"},{\"attributes\":{\"axis_label\":\"Year in which Question was Created\",\"formatter\":{\"id\":\"47cebe5c-88c6-417e-89ca-4deb1f22a68e\",\"type\":\"CategoricalTickFormatter\"},\"major_label_orientation\":0.7853981633974483,\"plot\":{\"id\":\"fa463bf3-b648-4bef-9edf-1fecbbd8ace9\",\"subtype\":\"Chart\",\"type\":\"Plot\"},\"ticker\":{\"id\":\"7e71f094-7e83-42a4-ab93-e5181174cc15\",\"type\":\"CategoricalTicker\"}},\"id\":\"aae25ece-dcfc-47a8-8071-9f18d496ea19\",\"type\":\"CategoricalAxis\"},{\"attributes\":{\"fill_alpha\":{\"field\":\"fill_alpha\"},\"fill_color\":{\"field\":\"color\"},\"height\":{\"field\":\"height\",\"units\":\"data\"},\"line_color\":{\"field\":\"line_color\"},\"width\":{\"field\":\"width\",\"units\":\"data\"},\"x\":{\"field\":\"x\"},\"y\":{\"field\":\"y\"}},\"id\":\"40859d73-c7f8-4ea1-8058-1a02e3c7649e\",\"type\":\"Rect\"},{\"attributes\":{\"fill_alpha\":{\"field\":\"fill_alpha\"},\"fill_color\":{\"field\":\"color\"},\"height\":{\"field\":\"height\",\"units\":\"data\"},\"line_color\":{\"field\":\"line_color\"},\"width\":{\"field\":\"width\",\"units\":\"data\"},\"x\":{\"field\":\"x\"},\"y\":{\"field\":\"y\"}},\"id\":\"7252e48c-7876-4e5f-84df-85a81883e31d\",\"type\":\"Rect\"},{\"attributes\":{\"data_source\":{\"id\":\"20c8103b-0924-4670-94a3-a7c6e48a3af5\",\"type\":\"ColumnDataSource\"},\"glyph\":{\"id\":\"31ff8972-6ca3-478b-b762-631791827d77\",\"type\":\"Rect\"},\"hover_glyph\":null,\"nonselection_glyph\":null,\"selection_glyph\":null},\"id\":\"1c69ded2-ea76-427f-9eb2-96b78b37990d\",\"type\":\"GlyphRenderer\"},{\"attributes\":{\"callback\":null,\"column_names\":[\"line_color\",\"color\",\"width\",\"label\",\"x\",\"height\",\"line_alpha\",\"y\",\"fill_alpha\"],\"data\":{\"QuestCreationYear\":[2012],\"QuestTags\":[\"c#\"],\"chart_index\":[{\"QuestCreationYear\":2012,\"QuestTags\":\"c#\"}],\"color\":[\"#E6E6FA\"],\"fill_alpha\":[0.8],\"height\":[13176.0],\"label\":[{\"QuestCreationYear\":2012,\"QuestTags\":\"c#\"}],\"line_alpha\":[1.0],\"line_color\":[\"white\"],\"width\":[1.0],\"x\":[\"2012\"],\"y\":[20367.0]}},\"id\":\"78dd6da4-8e0d-4b68-9a3a-2ba3a08ca91a\",\"type\":\"ColumnDataSource\"},{\"attributes\":{\"data_source\":{\"id\":\"6557b280-3722-4308-9e96-990a90e2b239\",\"type\":\"ColumnDataSource\"},\"glyph\":{\"id\":\"1e75b603-4574-4300-b5e0-c8a04f9bf700\",\"type\":\"Rect\"},\"hover_glyph\":null,\"nonselection_glyph\":null,\"selection_glyph\":null},\"id\":\"41be9121-517b-4ac9-b950-02eaeccd99c6\",\"type\":\"GlyphRenderer\"},{\"attributes\":{\"fill_alpha\":{\"field\":\"fill_alpha\"},\"fill_color\":{\"field\":\"color\"},\"height\":{\"field\":\"height\",\"units\":\"data\"},\"line_color\":{\"field\":\"line_color\"},\"width\":{\"field\":\"width\",\"units\":\"data\"},\"x\":{\"field\":\"x\"},\"y\":{\"field\":\"y\"}},\"id\":\"b8c1244f-4317-4cb2-8019-d8860fa926ce\",\"type\":\"Rect\"},{\"attributes\":{\"callback\":null,\"column_names\":[\"line_color\",\"color\",\"width\",\"label\",\"x\",\"height\",\"line_alpha\",\"y\",\"fill_alpha\"],\"data\":{\"QuestCreationYear\":[2016],\"QuestTags\":[\"php\"],\"chart_index\":[{\"QuestCreationYear\":2016,\"QuestTags\":\"php\"}],\"color\":[\"#FFA07A\"],\"fill_alpha\":[0.8],\"height\":[13681.0],\"label\":[{\"QuestCreationYear\":2016,\"QuestTags\":\"php\"}],\"line_alpha\":[1.0],\"line_color\":[\"white\"],\"width\":[1.0],\"x\":[\"2016\"],\"y\":[61081.5]}},\"id\":\"89164477-ae20-4096-b82d-1c8b073f2f32\",\"type\":\"ColumnDataSource\"},{\"attributes\":{\"fill_alpha\":{\"field\":\"fill_alpha\"},\"fill_color\":{\"field\":\"color\"},\"height\":{\"field\":\"height\",\"units\":\"data\"},\"line_color\":{\"field\":\"line_color\"},\"width\":{\"field\":\"width\",\"units\":\"data\"},\"x\":{\"field\":\"x\"},\"y\":{\"field\":\"y\"}},\"id\":\"46f7c94c-bcac-4f74-91ff-39f5b00fe1fe\",\"type\":\"Rect\"},{\"attributes\":{\"callback\":null,\"column_names\":[\"line_color\",\"color\",\"width\",\"label\",\"x\",\"height\",\"line_alpha\",\"y\",\"fill_alpha\"],\"data\":{\"QuestCreationYear\":[2013],\"QuestTags\":[\"javascript\"],\"chart_index\":[{\"QuestCreationYear\":2013,\"QuestTags\":\"javascript\"}],\"color\":[\"#87CEFA\"],\"fill_alpha\":[0.8],\"height\":[18410.0],\"label\":[{\"QuestCreationYear\":2013,\"QuestTags\":\"javascript\"}],\"line_alpha\":[1.0],\"line_color\":[\"white\"],\"width\":[1.0],\"x\":[\"2013\"],\"y\":[9205.0]}},\"id\":\"0e393900-304c-42bc-9703-ba3c236017a2\",\"type\":\"ColumnDataSource\"},{\"attributes\":{\"plot\":{\"id\":\"fa463bf3-b648-4bef-9edf-1fecbbd8ace9\",\"subtype\":\"Chart\",\"type\":\"Plot\"}},\"id\":\"0c66129b-7411-4499-9594-1b9c025d14f3\",\"type\":\"WheelZoomTool\"},{\"attributes\":{\"fill_alpha\":{\"field\":\"fill_alpha\"},\"fill_color\":{\"field\":\"color\"},\"height\":{\"field\":\"height\",\"units\":\"data\"},\"line_color\":{\"field\":\"line_color\"},\"width\":{\"field\":\"width\",\"units\":\"data\"},\"x\":{\"field\":\"x\"},\"y\":{\"field\":\"y\"}},\"id\":\"d0f609eb-70bc-4eab-8c31-16d4caa6a469\",\"type\":\"Rect\"},{\"attributes\":{\"fill_alpha\":{\"field\":\"fill_alpha\"},\"fill_color\":{\"field\":\"color\"},\"height\":{\"field\":\"height\",\"units\":\"data\"},\"line_color\":{\"field\":\"line_color\"},\"width\":{\"field\":\"width\",\"units\":\"data\"},\"x\":{\"field\":\"x\"},\"y\":{\"field\":\"y\"}},\"id\":\"e40417dc-0150-44ef-8e84-9dcced84546b\",\"type\":\"Rect\"},{\"attributes\":{\"fill_alpha\":{\"field\":\"fill_alpha\"},\"fill_color\":{\"field\":\"color\"},\"height\":{\"field\":\"height\",\"units\":\"data\"},\"line_color\":{\"field\":\"line_color\"},\"width\":{\"field\":\"width\",\"units\":\"data\"},\"x\":{\"field\":\"x\"},\"y\":{\"field\":\"y\"}},\"id\":\"f126cf97-03d7-4e2c-929a-490994924579\",\"type\":\"Rect\"},{\"attributes\":{\"callback\":null,\"column_names\":[\"line_color\",\"color\",\"width\",\"label\",\"x\",\"height\",\"line_alpha\",\"y\",\"fill_alpha\"],\"data\":{\"QuestCreationYear\":[2015],\"QuestTags\":[\"css\"],\"chart_index\":[{\"QuestCreationYear\":2015,\"QuestTags\":\"css\"}],\"color\":[\"#90EE90\"],\"fill_alpha\":[0.8],\"height\":[8229.0],\"label\":[{\"QuestCreationYear\":2015,\"QuestTags\":\"css\"}],\"line_alpha\":[1.0],\"line_color\":[\"white\"],\"width\":[1.0],\"x\":[\"2015\"],\"y\":[146322.5]}},\"id\":\"91293c96-e8f7-4d7b-9b61-6a19e38e1f40\",\"type\":\"ColumnDataSource\"},{\"attributes\":{\"axis_label\":\"Number of Various Tags Used in Questions\",\"formatter\":{\"id\":\"7ce849c9-1532-473f-a237-b42481af2b36\",\"type\":\"BasicTickFormatter\"},\"plot\":{\"id\":\"fa463bf3-b648-4bef-9edf-1fecbbd8ace9\",\"subtype\":\"Chart\",\"type\":\"Plot\"},\"ticker\":{\"id\":\"07b37c62-94e4-4fa4-9838-0cc929484c16\",\"type\":\"BasicTicker\"}},\"id\":\"020205e9-6b6c-498f-bd68-b803de3d421f\",\"type\":\"LinearAxis\"},{\"attributes\":{\"fill_alpha\":{\"field\":\"fill_alpha\"},\"fill_color\":{\"field\":\"color\"},\"height\":{\"field\":\"height\",\"units\":\"data\"},\"line_color\":{\"field\":\"line_color\"},\"width\":{\"field\":\"width\",\"units\":\"data\"},\"x\":{\"field\":\"x\"},\"y\":{\"field\":\"y\"}},\"id\":\"f3d52dfe-96f9-468f-a84a-7a7d17a44d02\",\"type\":\"Rect\"},{\"attributes\":{\"data_source\":{\"id\":\"85f50155-5fe2-4f15-b837-1f1c68036067\",\"type\":\"ColumnDataSource\"},\"glyph\":{\"id\":\"16eaa9a5-64ac-40be-a774-f1fe29d81e0a\",\"type\":\"Rect\"},\"hover_glyph\":null,\"nonselection_glyph\":null,\"selection_glyph\":null},\"id\":\"d78c636b-4648-4a52-bfd9-7c6531972cf4\",\"type\":\"GlyphRenderer\"},{\"attributes\":{\"callback\":null,\"column_names\":[\"line_color\",\"color\",\"width\",\"label\",\"x\",\"height\",\"line_alpha\",\"y\",\"fill_alpha\"],\"data\":{\"QuestCreationYear\":[2008],\"QuestTags\":[\"java\"],\"chart_index\":[{\"QuestCreationYear\":2008,\"QuestTags\":\"java\"}],\"color\":[\"#FFB6C1\"],\"fill_alpha\":[0.8],\"height\":[207.0],\"label\":[{\"QuestCreationYear\":2008,\"QuestTags\":\"java\"}],\"line_alpha\":[1.0],\"line_color\":[\"white\"],\"width\":[1.0],\"x\":[\"2008\"],\"y\":[984.5]}},\"id\":\"0261587a-0143-498d-a468-0584b9464864\",\"type\":\"ColumnDataSource\"},{\"attributes\":{\"callback\":null,\"column_names\":[\"line_color\",\"color\",\"width\",\"label\",\"x\",\"height\",\"line_alpha\",\"y\",\"fill_alpha\"],\"data\":{\"QuestCreationYear\":[2014],\"QuestTags\":[\"javascript\"],\"chart_index\":[{\"QuestCreationYear\":2014,\"QuestTags\":\"javascript\"}],\"color\":[\"#87CEFA\"],\"fill_alpha\":[0.8],\"height\":[22758.0],\"label\":[{\"QuestCreationYear\":2014,\"QuestTags\":\"javascript\"}],\"line_alpha\":[1.0],\"line_color\":[\"white\"],\"width\":[1.0],\"x\":[\"2014\"],\"y\":[11379.0]}},\"id\":\"195f27c8-7e2d-4fa0-9592-14744df8f3d3\",\"type\":\"ColumnDataSource\"},{\"attributes\":{\"data_source\":{\"id\":\"8d7f9c01-9d35-48a0-a0b6-5b774b27590b\",\"type\":\"ColumnDataSource\"},\"glyph\":{\"id\":\"569fcfc1-39c9-4f5e-9e10-518ed54604f9\",\"type\":\"Rect\"},\"hover_glyph\":null,\"nonselection_glyph\":null,\"selection_glyph\":null},\"id\":\"96acd989-d4a8-49d3-b262-96110b875352\",\"type\":\"GlyphRenderer\"},{\"attributes\":{\"data_source\":{\"id\":\"55627ca6-394b-416b-b11e-b96d8a619804\",\"type\":\"ColumnDataSource\"},\"glyph\":{\"id\":\"c3b10d32-5e49-420b-a053-7a8e2e57c5be\",\"type\":\"Rect\"},\"hover_glyph\":null,\"nonselection_glyph\":null,\"selection_glyph\":null},\"id\":\"a571daec-b3ea-440d-92eb-693e29d723c3\",\"type\":\"GlyphRenderer\"},{\"attributes\":{\"fill_alpha\":{\"field\":\"fill_alpha\"},\"fill_color\":{\"field\":\"color\"},\"height\":{\"field\":\"height\",\"units\":\"data\"},\"line_color\":{\"field\":\"line_color\"},\"width\":{\"field\":\"width\",\"units\":\"data\"},\"x\":{\"field\":\"x\"},\"y\":{\"field\":\"y\"}},\"id\":\"eff578ce-ddc1-4c5b-a9dc-495ad6832b75\",\"type\":\"Rect\"},{\"attributes\":{\"data_source\":{\"id\":\"0e393900-304c-42bc-9703-ba3c236017a2\",\"type\":\"ColumnDataSource\"},\"glyph\":{\"id\":\"81a506bb-02b8-40ba-9b72-b40b59130764\",\"type\":\"Rect\"},\"hover_glyph\":null,\"nonselection_glyph\":null,\"selection_glyph\":null},\"id\":\"349d1be5-eabe-4ede-b304-ce46447819ca\",\"type\":\"GlyphRenderer\"},{\"attributes\":{\"data_source\":{\"id\":\"26842a09-d1a0-4fd1-bdea-e4636a4179a3\",\"type\":\"ColumnDataSource\"},\"glyph\":{\"id\":\"630de24e-f86b-42c8-8fcf-e1a3dd778bf3\",\"type\":\"Rect\"},\"hover_glyph\":null,\"nonselection_glyph\":null,\"selection_glyph\":null},\"id\":\"060aed75-6670-475b-b387-c9b3affc1fba\",\"type\":\"GlyphRenderer\"},{\"attributes\":{\"callback\":null,\"column_names\":[\"line_color\",\"color\",\"width\",\"label\",\"x\",\"height\",\"line_alpha\",\"y\",\"fill_alpha\"],\"data\":{\"QuestCreationYear\":[2012],\"QuestTags\":[\"java\"],\"chart_index\":[{\"QuestCreationYear\":2012,\"QuestTags\":\"java\"}],\"color\":[\"#FFB6C1\"],\"fill_alpha\":[0.8],\"height\":[13779.0],\"label\":[{\"QuestCreationYear\":2012,\"QuestTags\":\"java\"}],\"line_alpha\":[1.0],\"line_color\":[\"white\"],\"width\":[1.0],\"x\":[\"2012\"],\"y\":[6889.5]}},\"id\":\"26842a09-d1a0-4fd1-bdea-e4636a4179a3\",\"type\":\"ColumnDataSource\"},{\"attributes\":{},\"id\":\"47cebe5c-88c6-417e-89ca-4deb1f22a68e\",\"type\":\"CategoricalTickFormatter\"},{\"attributes\":{\"data_source\":{\"id\":\"3c95a431-61c2-4488-82fb-4df4a81eff65\",\"type\":\"ColumnDataSource\"},\"glyph\":{\"id\":\"e713eea0-b8cf-47bf-b527-1eac912fe75a\",\"type\":\"Rect\"},\"hover_glyph\":null,\"nonselection_glyph\":null,\"selection_glyph\":null},\"id\":\"ab158141-918f-488e-bea0-296f2f51c15b\",\"type\":\"GlyphRenderer\"},{\"attributes\":{\"data_source\":{\"id\":\"41f7b6e9-cdea-41d2-a62f-1d84e8fbca7d\",\"type\":\"ColumnDataSource\"},\"glyph\":{\"id\":\"3345169f-3904-4a58-b59c-de1fb17f0975\",\"type\":\"Rect\"},\"hover_glyph\":null,\"nonselection_glyph\":null,\"selection_glyph\":null},\"id\":\"20d5e179-bbd0-4609-aef2-4089c8d58958\",\"type\":\"GlyphRenderer\"},{\"attributes\":{\"data_source\":{\"id\":\"ae289e5b-e031-43cf-9f9e-faf536eae7bd\",\"type\":\"ColumnDataSource\"},\"glyph\":{\"id\":\"6fefa6f1-295c-4fca-b383-0d8bbb3e44bc\",\"type\":\"Rect\"},\"hover_glyph\":null,\"nonselection_glyph\":null,\"selection_glyph\":null},\"id\":\"c3b9c26e-6f1d-4fce-81e6-31fc21a47f16\",\"type\":\"GlyphRenderer\"},{\"attributes\":{\"fill_alpha\":{\"field\":\"fill_alpha\"},\"fill_color\":{\"field\":\"color\"},\"height\":{\"field\":\"height\",\"units\":\"data\"},\"line_color\":{\"field\":\"line_color\"},\"width\":{\"field\":\"width\",\"units\":\"data\"},\"x\":{\"field\":\"x\"},\"y\":{\"field\":\"y\"}},\"id\":\"10a37508-9797-4c92-8126-e2012f9aabce\",\"type\":\"Rect\"},{\"attributes\":{\"fill_alpha\":{\"field\":\"fill_alpha\"},\"fill_color\":{\"field\":\"color\"},\"height\":{\"field\":\"height\",\"units\":\"data\"},\"line_color\":{\"field\":\"line_color\"},\"width\":{\"field\":\"width\",\"units\":\"data\"},\"x\":{\"field\":\"x\"},\"y\":{\"field\":\"y\"}},\"id\":\"81a506bb-02b8-40ba-9b72-b40b59130764\",\"type\":\"Rect\"},{\"attributes\":{\"callback\":null,\"column_names\":[\"line_color\",\"color\",\"width\",\"label\",\"x\",\"height\",\"line_alpha\",\"y\",\"fill_alpha\"],\"data\":{\"QuestCreationYear\":[2009],\"QuestTags\":[\"jquery\"],\"chart_index\":[{\"QuestCreationYear\":2009,\"QuestTags\":\"jquery\"}],\"color\":[\"#20B2AA\"],\"fill_alpha\":[0.8],\"height\":[1408.0],\"label\":[{\"QuestCreationYear\":2009,\"QuestTags\":\"jquery\"}],\"line_alpha\":[1.0],\"line_color\":[\"white\"],\"width\":[1.0],\"x\":[\"2009\"],\"y\":[17011.0]}},\"id\":\"4d300f89-edbb-4efa-9716-69a95b3b8e00\",\"type\":\"ColumnDataSource\"},{\"attributes\":{\"data_source\":{\"id\":\"60b055ce-a641-44a2-9cf8-a3856c1743ea\",\"type\":\"ColumnDataSource\"},\"glyph\":{\"id\":\"eff578ce-ddc1-4c5b-a9dc-495ad6832b75\",\"type\":\"Rect\"},\"hover_glyph\":null,\"nonselection_glyph\":null,\"selection_glyph\":null},\"id\":\"3d8dbe6d-ca6a-4506-92c0-b7c14872d768\",\"type\":\"GlyphRenderer\"},{\"attributes\":{\"fill_alpha\":{\"field\":\"fill_alpha\"},\"fill_color\":{\"field\":\"color\"},\"height\":{\"field\":\"height\",\"units\":\"data\"},\"line_color\":{\"field\":\"line_color\"},\"width\":{\"field\":\"width\",\"units\":\"data\"},\"x\":{\"field\":\"x\"},\"y\":{\"field\":\"y\"}},\"id\":\"2030e6db-93e7-493e-b87b-7c20e2c44c1b\",\"type\":\"Rect\"},{\"attributes\":{\"callback\":null,\"column_names\":[\"line_color\",\"color\",\"width\",\"label\",\"x\",\"height\",\"line_alpha\",\"y\",\"fill_alpha\"],\"data\":{\"QuestCreationYear\":[2008],\"QuestTags\":[\"c++\"],\"chart_index\":[{\"QuestCreationYear\":2008,\"QuestTags\":\"c++\"}],\"color\":[\"#FFF0F5\"],\"fill_alpha\":[0.8],\"height\":[174.0],\"label\":[{\"QuestCreationYear\":2008,\"QuestTags\":\"c++\"}],\"line_alpha\":[1.0],\"line_color\":[\"white\"],\"width\":[1.0],\"x\":[\"2008\"],\"y\":[1175.0]}},\"id\":\"18ec39e8-533e-44bc-9f86-8e4594660945\",\"type\":\"ColumnDataSource\"},{\"attributes\":{\"data_source\":{\"id\":\"b0921fb6-0b8e-4f1d-920b-6b5f50f5cafb\",\"type\":\"ColumnDataSource\"},\"glyph\":{\"id\":\"29c08daf-535d-4e74-8e66-ff03b675c09c\",\"type\":\"Rect\"},\"hover_glyph\":null,\"nonselection_glyph\":null,\"selection_glyph\":null},\"id\":\"2be95257-d525-4cab-9cc1-1cc301e9c06d\",\"type\":\"GlyphRenderer\"},{\"attributes\":{\"callback\":null,\"column_names\":[\"line_color\",\"color\",\"width\",\"label\",\"x\",\"height\",\"line_alpha\",\"y\",\"fill_alpha\"],\"data\":{\"QuestCreationYear\":[2012],\"QuestTags\":[\"html\"],\"chart_index\":[{\"QuestCreationYear\":2012,\"QuestTags\":\"html\"}],\"color\":[\"#ADD8E6\"],\"fill_alpha\":[0.8],\"height\":[6147.0],\"label\":[{\"QuestCreationYear\":2012,\"QuestTags\":\"html\"}],\"line_alpha\":[1.0],\"line_color\":[\"white\"],\"width\":[1.0],\"x\":[\"2012\"],\"y\":[86549.5]}},\"id\":\"e419171e-d5c8-406e-8fd6-1be878dc44c6\",\"type\":\"ColumnDataSource\"},{\"attributes\":{\"fill_alpha\":{\"field\":\"fill_alpha\"},\"fill_color\":{\"field\":\"color\"},\"height\":{\"field\":\"height\",\"units\":\"data\"},\"line_color\":{\"field\":\"line_color\"},\"width\":{\"field\":\"width\",\"units\":\"data\"},\"x\":{\"field\":\"x\"},\"y\":{\"field\":\"y\"}},\"id\":\"be9ecfd4-d426-4b84-9534-bae62b85df92\",\"type\":\"Rect\"},{\"attributes\":{\"dimension\":1,\"plot\":{\"id\":\"fa463bf3-b648-4bef-9edf-1fecbbd8ace9\",\"subtype\":\"Chart\",\"type\":\"Plot\"},\"ticker\":{\"id\":\"07b37c62-94e4-4fa4-9838-0cc929484c16\",\"type\":\"BasicTicker\"}},\"id\":\"d5749028-7614-4fc8-8c90-14c15043ecbe\",\"type\":\"Grid\"},{\"attributes\":{\"callback\":null,\"column_names\":[\"line_color\",\"color\",\"width\",\"label\",\"x\",\"height\",\"line_alpha\",\"y\",\"fill_alpha\"],\"data\":{\"QuestCreationYear\":[2016],\"QuestTags\":[\"java\"],\"chart_index\":[{\"QuestCreationYear\":2016,\"QuestTags\":\"java\"}],\"color\":[\"#FFB6C1\"],\"fill_alpha\":[0.8],\"height\":[16634.0],\"label\":[{\"QuestCreationYear\":2016,\"QuestTags\":\"java\"}],\"line_alpha\":[1.0],\"line_color\":[\"white\"],\"width\":[1.0],\"x\":[\"2016\"],\"y\":[30895.0]}},\"id\":\"ae289e5b-e031-43cf-9f9e-faf536eae7bd\",\"type\":\"ColumnDataSource\"},{\"attributes\":{\"fill_alpha\":{\"field\":\"fill_alpha\"},\"fill_color\":{\"field\":\"color\"},\"height\":{\"field\":\"height\",\"units\":\"data\"},\"line_color\":{\"field\":\"line_color\"},\"width\":{\"field\":\"width\",\"units\":\"data\"},\"x\":{\"field\":\"x\"},\"y\":{\"field\":\"y\"}},\"id\":\"700ba81b-3175-4543-abc0-94d607dde25e\",\"type\":\"Rect\"},{\"attributes\":{\"fill_alpha\":{\"field\":\"fill_alpha\"},\"fill_color\":{\"field\":\"color\"},\"height\":{\"field\":\"height\",\"units\":\"data\"},\"line_color\":{\"field\":\"line_color\"},\"width\":{\"field\":\"width\",\"units\":\"data\"},\"x\":{\"field\":\"x\"},\"y\":{\"field\":\"y\"}},\"id\":\"45a56f65-ac49-469f-8ec5-ccdaf0e284ed\",\"type\":\"Rect\"},{\"attributes\":{\"callback\":null,\"column_names\":[\"line_color\",\"color\",\"width\",\"label\",\"x\",\"height\",\"line_alpha\",\"y\",\"fill_alpha\"],\"data\":{\"QuestCreationYear\":[2012],\"QuestTags\":[\"ios\"],\"chart_index\":[{\"QuestCreationYear\":2012,\"QuestTags\":\"ios\"}],\"color\":[\"#F08080\"],\"fill_alpha\":[0.8],\"height\":[6950.0],\"label\":[{\"QuestCreationYear\":2012,\"QuestTags\":\"ios\"}],\"line_alpha\":[1.0],\"line_color\":[\"white\"],\"width\":[1.0],\"x\":[\"2012\"],\"y\":[80001.0]}},\"id\":\"d527a627-b82b-454e-b8fc-e7dbbb8c7936\",\"type\":\"ColumnDataSource\"},{\"attributes\":{\"callback\":null,\"column_names\":[\"line_color\",\"color\",\"width\",\"label\",\"x\",\"height\",\"line_alpha\",\"y\",\"fill_alpha\"],\"data\":{\"QuestCreationYear\":[2014],\"QuestTags\":[\"ios\"],\"chart_index\":[{\"QuestCreationYear\":2014,\"QuestTags\":\"ios\"}],\"color\":[\"#F08080\"],\"fill_alpha\":[0.8],\"height\":[8847.0],\"label\":[{\"QuestCreationYear\":2014,\"QuestTags\":\"ios\"}],\"line_alpha\":[1.0],\"line_color\":[\"white\"],\"width\":[1.0],\"x\":[\"2014\"],\"y\":[132635.5]}},\"id\":\"43b03351-71e7-40f6-9c90-167973cb1abf\",\"type\":\"ColumnDataSource\"},{\"attributes\":{\"fill_alpha\":{\"field\":\"fill_alpha\"},\"fill_color\":{\"field\":\"color\"},\"height\":{\"field\":\"height\",\"units\":\"data\"},\"line_color\":{\"field\":\"line_color\"},\"width\":{\"field\":\"width\",\"units\":\"data\"},\"x\":{\"field\":\"x\"},\"y\":{\"field\":\"y\"}},\"id\":\"29f588e2-4de1-4ba2-b62d-6f7bb305fa23\",\"type\":\"Rect\"},{\"attributes\":{\"callback\":null,\"column_names\":[\"line_color\",\"color\",\"width\",\"label\",\"x\",\"height\",\"line_alpha\",\"y\",\"fill_alpha\"],\"data\":{\"QuestCreationYear\":[2016],\"QuestTags\":[\"python\"],\"chart_index\":[{\"QuestCreationYear\":2016,\"QuestTags\":\"python\"}],\"color\":[\"#778899\"],\"fill_alpha\":[0.8],\"height\":[12628.0],\"label\":[{\"QuestCreationYear\":2016,\"QuestTags\":\"python\"}],\"line_alpha\":[1.0],\"line_color\":[\"white\"],\"width\":[1.0],\"x\":[\"2016\"],\"y\":[74236.0]}},\"id\":\"30a0b34a-903c-4e8a-b6aa-0149b610b11c\",\"type\":\"ColumnDataSource\"},{\"attributes\":{\"fill_alpha\":{\"field\":\"fill_alpha\"},\"fill_color\":{\"field\":\"color\"},\"height\":{\"field\":\"height\",\"units\":\"data\"},\"line_color\":{\"field\":\"line_color\"},\"width\":{\"field\":\"width\",\"units\":\"data\"},\"x\":{\"field\":\"x\"},\"y\":{\"field\":\"y\"}},\"id\":\"5beb2ab3-c84e-4aa8-9133-ea676425ee3a\",\"type\":\"Rect\"},{\"attributes\":{},\"id\":\"f3ec96a6-26b0-49e6-9fa9-1a7775c92cb5\",\"type\":\"ToolEvents\"},{\"attributes\":{\"callback\":null,\"column_names\":[\"line_color\",\"color\",\"width\",\"label\",\"x\",\"height\",\"line_alpha\",\"y\",\"fill_alpha\"],\"data\":{\"QuestCreationYear\":[2015],\"QuestTags\":[\"java\"],\"chart_index\":[{\"QuestCreationYear\":2015,\"QuestTags\":\"java\"}],\"color\":[\"#FFB6C1\"],\"fill_alpha\":[0.8],\"height\":[21079.0],\"label\":[{\"QuestCreationYear\":2015,\"QuestTags\":\"java\"}],\"line_alpha\":[1.0],\"line_color\":[\"white\"],\"width\":[1.0],\"x\":[\"2015\"],\"y\":[35740.5]}},\"id\":\"930d32a7-bec1-4de9-ab17-15b722d58fc8\",\"type\":\"ColumnDataSource\"},{\"attributes\":{\"callback\":null,\"column_names\":[\"line_color\",\"color\",\"width\",\"label\",\"x\",\"height\",\"line_alpha\",\"y\",\"fill_alpha\"],\"data\":{\"QuestCreationYear\":[2015],\"QuestTags\":[\"html\"],\"chart_index\":[{\"QuestCreationYear\":2015,\"QuestTags\":\"html\"}],\"color\":[\"#ADD8E6\"],\"fill_alpha\":[0.8],\"height\":[11629.0],\"label\":[{\"QuestCreationYear\":2015,\"QuestTags\":\"html\"}],\"line_alpha\":[1.0],\"line_color\":[\"white\"],\"width\":[1.0],\"x\":[\"2015\"],\"y\":[126386.5]}},\"id\":\"7f2c4bb3-3b90-4ef8-ad14-e9d9c96fbb08\",\"type\":\"ColumnDataSource\"},{\"attributes\":{\"fill_alpha\":{\"field\":\"fill_alpha\"},\"fill_color\":{\"field\":\"color\"},\"height\":{\"field\":\"height\",\"units\":\"data\"},\"line_color\":{\"field\":\"line_color\"},\"width\":{\"field\":\"width\",\"units\":\"data\"},\"x\":{\"field\":\"x\"},\"y\":{\"field\":\"y\"}},\"id\":\"292a9170-adfe-4dcd-926b-b5d46b587d5e\",\"type\":\"Rect\"},{\"attributes\":{\"fill_alpha\":{\"field\":\"fill_alpha\"},\"fill_color\":{\"field\":\"color\"},\"height\":{\"field\":\"height\",\"units\":\"data\"},\"line_color\":{\"field\":\"line_color\"},\"width\":{\"field\":\"width\",\"units\":\"data\"},\"x\":{\"field\":\"x\"},\"y\":{\"field\":\"y\"}},\"id\":\"a5a4c3fe-4d6f-4258-9ba2-b9c92c896a0f\",\"type\":\"Rect\"},{\"attributes\":{\"fill_alpha\":{\"field\":\"fill_alpha\"},\"fill_color\":{\"field\":\"color\"},\"height\":{\"field\":\"height\",\"units\":\"data\"},\"line_color\":{\"field\":\"line_color\"},\"width\":{\"field\":\"width\",\"units\":\"data\"},\"x\":{\"field\":\"x\"},\"y\":{\"field\":\"y\"}},\"id\":\"e1522aeb-24c2-422b-ae9e-8478e0c9dd66\",\"type\":\"Rect\"},{\"attributes\":{\"data_source\":{\"id\":\"df217d09-6dff-48d7-a599-e390ac65e582\",\"type\":\"ColumnDataSource\"},\"glyph\":{\"id\":\"71503279-ad42-4ea5-a668-37ebb6563dbf\",\"type\":\"Rect\"},\"hover_glyph\":null,\"nonselection_glyph\":null,\"selection_glyph\":null},\"id\":\"899b6961-cd3f-499d-9aee-5e095a4ae5d8\",\"type\":\"GlyphRenderer\"},{\"attributes\":{\"callback\":null,\"column_names\":[\"line_color\",\"color\",\"width\",\"label\",\"x\",\"height\",\"line_alpha\",\"y\",\"fill_alpha\"],\"data\":{\"QuestCreationYear\":[2009],\"QuestTags\":[\"c#\"],\"chart_index\":[{\"QuestCreationYear\":2009,\"QuestTags\":\"c#\"}],\"color\":[\"#E6E6FA\"],\"fill_alpha\":[0.8],\"height\":[4471.0],\"label\":[{\"QuestCreationYear\":2009,\"QuestTags\":\"c#\"}],\"line_alpha\":[1.0],\"line_color\":[\"white\"],\"width\":[1.0],\"x\":[\"2009\"],\"y\":[2235.5]}},\"id\":\"e0c1e475-221d-491b-a241-846bf8ad7b8c\",\"type\":\"ColumnDataSource\"},{\"attributes\":{\"fill_alpha\":{\"field\":\"fill_alpha\"},\"fill_color\":{\"field\":\"color\"},\"height\":{\"field\":\"height\",\"units\":\"data\"},\"line_color\":{\"field\":\"line_color\"},\"width\":{\"field\":\"width\",\"units\":\"data\"},\"x\":{\"field\":\"x\"},\"y\":{\"field\":\"y\"}},\"id\":\"071e38a4-36fc-4ded-aa78-b1d0991d00aa\",\"type\":\"Rect\"},{\"attributes\":{\"callback\":null,\"column_names\":[\"line_color\",\"color\",\"width\",\"label\",\"x\",\"height\",\"line_alpha\",\"y\",\"fill_alpha\"],\"data\":{\"QuestCreationYear\":[2012],\"QuestTags\":[\"php\"],\"chart_index\":[{\"QuestCreationYear\":2012,\"QuestTags\":\"php\"}],\"color\":[\"#FFA07A\"],\"fill_alpha\":[0.8],\"height\":[12558.0],\"label\":[{\"QuestCreationYear\":2012,\"QuestTags\":\"php\"}],\"line_alpha\":[1.0],\"line_color\":[\"white\"],\"width\":[1.0],\"x\":[\"2012\"],\"y\":[59084.0]}},\"id\":\"68d14149-4f0e-4a22-8863-2842727522a6\",\"type\":\"ColumnDataSource\"},{\"attributes\":{\"data_source\":{\"id\":\"e639bd40-5be9-42a7-8246-c94803df98ba\",\"type\":\"ColumnDataSource\"},\"glyph\":{\"id\":\"7b144027-bec9-4481-8e0e-343ebcb7be6c\",\"type\":\"Rect\"},\"hover_glyph\":null,\"nonselection_glyph\":null,\"selection_glyph\":null},\"id\":\"40132fc6-0826-40d6-9b77-83bc61f4b847\",\"type\":\"GlyphRenderer\"},{\"attributes\":{\"callback\":null,\"column_names\":[\"line_color\",\"color\",\"width\",\"label\",\"x\",\"height\",\"line_alpha\",\"y\",\"fill_alpha\"],\"data\":{\"QuestCreationYear\":[2015],\"QuestTags\":[\"javascript\"],\"chart_index\":[{\"QuestCreationYear\":2015,\"QuestTags\":\"javascript\"}],\"color\":[\"#87CEFA\"],\"fill_alpha\":[0.8],\"height\":[25201.0],\"label\":[{\"QuestCreationYear\":2015,\"QuestTags\":\"javascript\"}],\"line_alpha\":[1.0],\"line_color\":[\"white\"],\"width\":[1.0],\"x\":[\"2015\"],\"y\":[12600.5]}},\"id\":\"f45e62a4-6fce-4a36-b391-69dcc90d0e30\",\"type\":\"ColumnDataSource\"},{\"attributes\":{\"data_source\":{\"id\":\"cb34cd2d-e38a-463c-87a1-8727f3324bcb\",\"type\":\"ColumnDataSource\"},\"glyph\":{\"id\":\"dab728e5-2601-43e7-980c-b17dca90391c\",\"type\":\"Rect\"},\"hover_glyph\":null,\"nonselection_glyph\":null,\"selection_glyph\":null},\"id\":\"4a38b6ea-e1af-42b7-bbf0-9cf82e14e740\",\"type\":\"GlyphRenderer\"},{\"attributes\":{\"fill_alpha\":{\"field\":\"fill_alpha\"},\"fill_color\":{\"field\":\"color\"},\"height\":{\"field\":\"height\",\"units\":\"data\"},\"line_color\":{\"field\":\"line_color\"},\"width\":{\"field\":\"width\",\"units\":\"data\"},\"x\":{\"field\":\"x\"},\"y\":{\"field\":\"y\"}},\"id\":\"569fcfc1-39c9-4f5e-9e10-518ed54604f9\",\"type\":\"Rect\"},{\"attributes\":{\"data_source\":{\"id\":\"baf08cc8-0d27-4a54-ab4b-356ee516106c\",\"type\":\"ColumnDataSource\"},\"glyph\":{\"id\":\"10a37508-9797-4c92-8126-e2012f9aabce\",\"type\":\"Rect\"},\"hover_glyph\":null,\"nonselection_glyph\":null,\"selection_glyph\":null},\"id\":\"495c8fe2-c5a7-4aab-9407-073a5b3de68d\",\"type\":\"GlyphRenderer\"},{\"attributes\":{\"data_source\":{\"id\":\"67dba45d-4730-4fcd-9c1a-6531ba39719f\",\"type\":\"ColumnDataSource\"},\"glyph\":{\"id\":\"e40417dc-0150-44ef-8e84-9dcced84546b\",\"type\":\"Rect\"},\"hover_glyph\":null,\"nonselection_glyph\":null,\"selection_glyph\":null},\"id\":\"a09c1e7c-8061-418c-8222-d6d5c19f1802\",\"type\":\"GlyphRenderer\"}],\"root_ids\":[\"fa463bf3-b648-4bef-9edf-1fecbbd8ace9\"]},\"title\":\"Bokeh Application\",\"version\":\"0.12.2\"}};\n",
       "            var render_items = [{\"docid\":\"b9f4ece3-f818-4d40-81df-f6d26e75bbd7\",\"elementid\":\"3400f229-4774-4376-829f-ebab86ab7631\",\"modelid\":\"fa463bf3-b648-4bef-9edf-1fecbbd8ace9\"}];\n",
       "            \n",
       "            Bokeh.embed.embed_items(docs_json, render_items);\n",
       "        });\n",
       "      },\n",
       "      function(Bokeh) {\n",
       "      }\n",
       "    ];\n",
       "  \n",
       "    function run_inline_js() {\n",
       "      \n",
       "      if ((window.Bokeh !== undefined) || (force === \"1\")) {\n",
       "        for (var i = 0; i < inline_js.length; i++) {\n",
       "          inline_js[i](window.Bokeh);\n",
       "        }if (force === \"1\") {\n",
       "          display_loaded();\n",
       "        }} else if (Date.now() < window._bokeh_timeout) {\n",
       "        setTimeout(run_inline_js, 100);\n",
       "      } else if (!window._bokeh_failed_load) {\n",
       "        console.log(\"Bokeh: BokehJS failed to load within specified timeout.\");\n",
       "        window._bokeh_failed_load = true;\n",
       "      } else if (!force) {\n",
       "        var cell = $(\"#3400f229-4774-4376-829f-ebab86ab7631\").parents('.cell').data().cell;\n",
       "        cell.output_area.append_execute_result(NB_LOAD_WARNING)\n",
       "      }\n",
       "  \n",
       "    }\n",
       "  \n",
       "    if (window._bokeh_is_loading === 0) {\n",
       "      console.log(\"Bokeh: BokehJS loaded, going straight to plotting\");\n",
       "      run_inline_js();\n",
       "    } else {\n",
       "      load_libs(js_urls, function() {\n",
       "        console.log(\"Bokeh: BokehJS plotting callback run at\", now());\n",
       "        run_inline_js();\n",
       "      });\n",
       "    }\n",
       "  }(this));\n",
       "</script>"
      ]
     },
     "metadata": {},
     "output_type": "display_data"
    }
   ],
   "source": [
    "from bokeh.charts import Bar, show, output_notebook\n",
    "\n",
    "output_notebook()\n",
    "\n",
    "palette = ['#4B0082','#FF6347','#F0E68C','#E6E6FA','#FFF0F5','#90EE90','#ADD8E6','#F08080','#D3D3D3','#FFB6C1','#87CEFA','#20B2AA','#FFA07A','#778899','#9370DB','#40E0D0']\n",
    "\n",
    "bar = Bar(topYearQuestTag, values='YearTagCount', label='QuestCreationYear', stack='QuestTags',\n",
    "          title='Top 10 Tags Used Throughout the Year', \n",
    "             legend='top_right',bar_width=1.0, palette=palette)\n",
    "\n",
    "bar.xaxis.axis_label = 'Year in which Question was Created'\n",
    "bar.yaxis.axis_label = 'Number of Various Tags Used in Questions'\n",
    "\n",
    "show(bar)"
   ]
  },
  {
   "cell_type": "code",
   "execution_count": 146,
   "metadata": {
    "collapsed": false
   },
   "outputs": [
    {
     "data": {
      "text/html": [
       "<div>\n",
       "<table border=\"1\" class=\"dataframe\">\n",
       "  <thead>\n",
       "    <tr style=\"text-align: right;\">\n",
       "      <th></th>\n",
       "      <th>QuestionId</th>\n",
       "      <th>QuestCreationDate</th>\n",
       "      <th>QuestClosedDate</th>\n",
       "      <th>QuestDeletionDate</th>\n",
       "      <th>QuestScore</th>\n",
       "      <th>QuestUserId</th>\n",
       "      <th>AnswerCount</th>\n",
       "      <th>QuestTags</th>\n",
       "      <th>QuestCreationYear</th>\n",
       "    </tr>\n",
       "  </thead>\n",
       "  <tbody>\n",
       "    <tr>\n",
       "      <th>66750</th>\n",
       "      <td>348170</td>\n",
       "      <td>2008-12-07 21:57:46</td>\n",
       "      <td>NaT</td>\n",
       "      <td>NaT</td>\n",
       "      <td>5173</td>\n",
       "      <td>14069.0</td>\n",
       "      <td>28</td>\n",
       "      <td>git</td>\n",
       "      <td>2008</td>\n",
       "    </tr>\n",
       "    <tr>\n",
       "      <th>66751</th>\n",
       "      <td>348170</td>\n",
       "      <td>2008-12-07 21:57:46</td>\n",
       "      <td>NaT</td>\n",
       "      <td>NaT</td>\n",
       "      <td>5173</td>\n",
       "      <td>14069.0</td>\n",
       "      <td>28</td>\n",
       "      <td>version-control</td>\n",
       "      <td>2008</td>\n",
       "    </tr>\n",
       "    <tr>\n",
       "      <th>66752</th>\n",
       "      <td>348170</td>\n",
       "      <td>2008-12-07 21:57:46</td>\n",
       "      <td>NaT</td>\n",
       "      <td>NaT</td>\n",
       "      <td>5173</td>\n",
       "      <td>14069.0</td>\n",
       "      <td>28</td>\n",
       "      <td>git-stage</td>\n",
       "      <td>2008</td>\n",
       "    </tr>\n",
       "    <tr>\n",
       "      <th>92761</th>\n",
       "      <td>406230</td>\n",
       "      <td>2009-01-02 07:30:16</td>\n",
       "      <td>NaT</td>\n",
       "      <td>NaT</td>\n",
       "      <td>2527</td>\n",
       "      <td>36830.0</td>\n",
       "      <td>20</td>\n",
       "      <td>regex-negation</td>\n",
       "      <td>2009</td>\n",
       "    </tr>\n",
       "    <tr>\n",
       "      <th>92760</th>\n",
       "      <td>406230</td>\n",
       "      <td>2009-01-02 07:30:16</td>\n",
       "      <td>NaT</td>\n",
       "      <td>NaT</td>\n",
       "      <td>2527</td>\n",
       "      <td>36830.0</td>\n",
       "      <td>20</td>\n",
       "      <td>regex</td>\n",
       "      <td>2009</td>\n",
       "    </tr>\n",
       "  </tbody>\n",
       "</table>\n",
       "</div>"
      ],
      "text/plain": [
       "       QuestionId   QuestCreationDate QuestClosedDate QuestDeletionDate  \\\n",
       "66750      348170 2008-12-07 21:57:46             NaT               NaT   \n",
       "66751      348170 2008-12-07 21:57:46             NaT               NaT   \n",
       "66752      348170 2008-12-07 21:57:46             NaT               NaT   \n",
       "92761      406230 2009-01-02 07:30:16             NaT               NaT   \n",
       "92760      406230 2009-01-02 07:30:16             NaT               NaT   \n",
       "\n",
       "       QuestScore  QuestUserId  AnswerCount        QuestTags  \\\n",
       "66750        5173      14069.0           28              git   \n",
       "66751        5173      14069.0           28  version-control   \n",
       "66752        5173      14069.0           28        git-stage   \n",
       "92761        2527      36830.0           20   regex-negation   \n",
       "92760        2527      36830.0           20            regex   \n",
       "\n",
       "       QuestCreationYear  \n",
       "66750               2008  \n",
       "66751               2008  \n",
       "66752               2008  \n",
       "92761               2009  \n",
       "92760               2009  "
      ]
     },
     "execution_count": 146,
     "metadata": {},
     "output_type": "execute_result"
    }
   ],
   "source": [
    "commonQuestions.sort_values(by='QuestScore', ascending=False).head() #top upvoted questions"
   ]
  },
  {
   "cell_type": "code",
   "execution_count": 147,
   "metadata": {
    "collapsed": false
   },
   "outputs": [
    {
     "data": {
      "text/html": [
       "<div>\n",
       "<table border=\"1\" class=\"dataframe\">\n",
       "  <thead>\n",
       "    <tr style=\"text-align: right;\">\n",
       "      <th></th>\n",
       "      <th>QuestionId</th>\n",
       "      <th>QuestCreationDate</th>\n",
       "      <th>QuestClosedDate</th>\n",
       "      <th>QuestDeletionDate</th>\n",
       "      <th>QuestScore</th>\n",
       "      <th>QuestUserId</th>\n",
       "      <th>AnswerCount</th>\n",
       "      <th>QuestTags</th>\n",
       "      <th>QuestCreationYear</th>\n",
       "    </tr>\n",
       "  </thead>\n",
       "  <tbody>\n",
       "    <tr>\n",
       "      <th>27027727</th>\n",
       "      <td>31746300</td>\n",
       "      <td>2015-07-31 12:31:42</td>\n",
       "      <td>NaT</td>\n",
       "      <td>NaT</td>\n",
       "      <td>-49</td>\n",
       "      <td>2715073.0</td>\n",
       "      <td>2</td>\n",
       "      <td>android</td>\n",
       "      <td>2015</td>\n",
       "    </tr>\n",
       "    <tr>\n",
       "      <th>27027728</th>\n",
       "      <td>31746300</td>\n",
       "      <td>2015-07-31 12:31:42</td>\n",
       "      <td>NaT</td>\n",
       "      <td>NaT</td>\n",
       "      <td>-49</td>\n",
       "      <td>2715073.0</td>\n",
       "      <td>2</td>\n",
       "      <td>android-snackbar</td>\n",
       "      <td>2015</td>\n",
       "    </tr>\n",
       "    <tr>\n",
       "      <th>10622548</th>\n",
       "      <td>13519990</td>\n",
       "      <td>2012-11-22 21:07:17</td>\n",
       "      <td>NaT</td>\n",
       "      <td>NaT</td>\n",
       "      <td>-45</td>\n",
       "      <td>1114.0</td>\n",
       "      <td>4</td>\n",
       "      <td>operators</td>\n",
       "      <td>2012</td>\n",
       "    </tr>\n",
       "    <tr>\n",
       "      <th>10622549</th>\n",
       "      <td>13519990</td>\n",
       "      <td>2012-11-22 21:07:17</td>\n",
       "      <td>NaT</td>\n",
       "      <td>NaT</td>\n",
       "      <td>-45</td>\n",
       "      <td>1114.0</td>\n",
       "      <td>4</td>\n",
       "      <td>operator-precedence</td>\n",
       "      <td>2012</td>\n",
       "    </tr>\n",
       "    <tr>\n",
       "      <th>10622547</th>\n",
       "      <td>13519990</td>\n",
       "      <td>2012-11-22 21:07:17</td>\n",
       "      <td>NaT</td>\n",
       "      <td>NaT</td>\n",
       "      <td>-45</td>\n",
       "      <td>1114.0</td>\n",
       "      <td>4</td>\n",
       "      <td>java</td>\n",
       "      <td>2012</td>\n",
       "    </tr>\n",
       "  </tbody>\n",
       "</table>\n",
       "</div>"
      ],
      "text/plain": [
       "          QuestionId   QuestCreationDate QuestClosedDate QuestDeletionDate  \\\n",
       "27027727    31746300 2015-07-31 12:31:42             NaT               NaT   \n",
       "27027728    31746300 2015-07-31 12:31:42             NaT               NaT   \n",
       "10622548    13519990 2012-11-22 21:07:17             NaT               NaT   \n",
       "10622549    13519990 2012-11-22 21:07:17             NaT               NaT   \n",
       "10622547    13519990 2012-11-22 21:07:17             NaT               NaT   \n",
       "\n",
       "          QuestScore  QuestUserId  AnswerCount            QuestTags  \\\n",
       "27027727         -49    2715073.0            2              android   \n",
       "27027728         -49    2715073.0            2     android-snackbar   \n",
       "10622548         -45       1114.0            4            operators   \n",
       "10622549         -45       1114.0            4  operator-precedence   \n",
       "10622547         -45       1114.0            4                 java   \n",
       "\n",
       "          QuestCreationYear  \n",
       "27027727               2015  \n",
       "27027728               2015  \n",
       "10622548               2012  \n",
       "10622549               2012  \n",
       "10622547               2012  "
      ]
     },
     "execution_count": 147,
     "metadata": {},
     "output_type": "execute_result"
    }
   ],
   "source": [
    "commonQuestions.sort_values(by='QuestScore').head() #top downvoted questions"
   ]
  },
  {
   "cell_type": "code",
   "execution_count": 148,
   "metadata": {
    "collapsed": false
   },
   "outputs": [
    {
     "data": {
      "text/plain": [
       "javascript                   116961\n",
       "java                         106687\n",
       "c#                            95455\n",
       "php                           91138\n",
       "android                       86828\n",
       "jquery                        75080\n",
       "python                        60313\n",
       "html                          55085\n",
       "ios                           44860\n",
       "c++                           43542\n",
       "mysql                         39765\n",
       "css                           39761\n",
       "sql                           33897\n",
       "asp.net                       28794\n",
       "objective-c                   25680\n",
       "ruby-on-rails                 25183\n",
       ".net                          22639\n",
       "c                             20934\n",
       "iphone                        20606\n",
       "angularjs                     19827\n",
       "arrays                        18124\n",
       "sql-server                    17232\n",
       "json                          16808\n",
       "ruby                          16279\n",
       "ajax                          15002\n",
       "r                             14604\n",
       "regex                         14248\n",
       "xml                           14160\n",
       "node.js                       13976\n",
       "asp.net-mvc                   13784\n",
       "                              ...  \n",
       "multiparameter                    1\n",
       "ora-06553                         1\n",
       "immutablearray                    1\n",
       "cgeventtap                        1\n",
       "spark-skinning                    1\n",
       "android-simon-datepicker          1\n",
       "liveview                          1\n",
       "android-blur-effect               1\n",
       "interactivepopgesture             1\n",
       "xcore                             1\n",
       "log-viewer                        1\n",
       "helix                             1\n",
       "uccapi                            1\n",
       "jquery-timing                     1\n",
       "tomcat-juli                       1\n",
       "markaby                           1\n",
       "rubyamf                           1\n",
       "sublimecodeintel                  1\n",
       "qt-maemo                          1\n",
       "mootools-events                   1\n",
       "lazy-registration                 1\n",
       "ibm-wxs                           1\n",
       "javafx-1                          1\n",
       "position-independent-code         1\n",
       "pthread-key-create                1\n",
       "portalsitemapprovider             1\n",
       "c-standard-library                1\n",
       "minima                            1\n",
       "memcache-stats                    1\n",
       "routed                            1\n",
       "Name: QuestTags, dtype: int64"
      ]
     },
     "execution_count": 148,
     "metadata": {},
     "output_type": "execute_result"
    }
   ],
   "source": [
    "commonQuestions.QuestTags.value_counts() #java most tagged"
   ]
  },
  {
   "cell_type": "code",
   "execution_count": 63,
   "metadata": {
    "collapsed": true
   },
   "outputs": [],
   "source": [
    "#top 15 tags used\n",
    "topQuestTags = commonQuestions.QuestTags.value_counts()[0:15]"
   ]
  },
  {
   "cell_type": "code",
   "execution_count": 64,
   "metadata": {
    "collapsed": false
   },
   "outputs": [],
   "source": [
    "topQuestTags = topQuestTags.reset_index()\n",
    "topQuestTags = topQuestTags.rename(columns= {'index':'QuestTags', 'QuestTags':'Count'})"
   ]
  },
  {
   "cell_type": "code",
   "execution_count": 67,
   "metadata": {
    "collapsed": false
   },
   "outputs": [
    {
     "data": {
      "image/png": "[encoded data removed]",
      "text/plain": [
       "<matplotlib.figure.Figure at 0x21584bdd8>"
      ]
     },
     "metadata": {},
     "output_type": "display_data"
    }
   ],
   "source": [
    "%matplotlib inline\n",
    "import matplotlib.pyplot as plt\n",
    "plt.figure(figsize=(12,7))\n",
    "ax2 = sns.stripplot(x=\"QuestTags\", y=\"Count\", data=topQuestTags)"
   ]
  },
  {
   "cell_type": "code",
   "execution_count": 150,
   "metadata": {
    "collapsed": true
   },
   "outputs": [],
   "source": [
    "questTags = commonQuestions[['QuestionId', 'QuestTags']].groupby('QuestionId').QuestTags.apply(list)"
   ]
  },
  {
   "cell_type": "code",
   "execution_count": 199,
   "metadata": {
    "collapsed": false
   },
   "outputs": [
    {
     "name": "stdout",
     "output_type": "stream",
     "text": [
      "Stored 'questTags' (DataFrame)\n"
     ]
    }
   ],
   "source": [
    "%store questTags"
   ]
  },
  {
   "cell_type": "code",
   "execution_count": 158,
   "metadata": {
    "collapsed": false
   },
   "outputs": [
    {
     "data": {
      "text/plain": [
       "3"
      ]
     },
     "execution_count": 158,
     "metadata": {},
     "output_type": "execute_result"
    }
   ],
   "source": [
    "questTags = questTags.reset_index()\n",
    "len(questTags.QuestTags[1])"
   ]
  },
  {
   "cell_type": "code",
   "execution_count": 86,
   "metadata": {
    "collapsed": true
   },
   "outputs": [],
   "source": [
    "import pyfpgrowth as fp"
   ]
  },
  {
   "cell_type": "code",
   "execution_count": 161,
   "metadata": {
    "collapsed": false
   },
   "outputs": [],
   "source": [
    "questTagList = list(questTags.QuestTags)"
   ]
  },
  {
   "cell_type": "code",
   "execution_count": 165,
   "metadata": {
    "collapsed": false
   },
   "outputs": [],
   "source": [
    "#have 2 or more question tags in a question\n",
    "questTagList2 = [tag for tag in questTagList if len(tag)>1]"
   ]
  },
  {
   "cell_type": "code",
   "execution_count": 166,
   "metadata": {
    "collapsed": true
   },
   "outputs": [],
   "source": [
    "patterns = fp.find_frequent_patterns(questTagList2, 1000)"
   ]
  },
  {
   "cell_type": "code",
   "execution_count": 167,
   "metadata": {
    "collapsed": false
   },
   "outputs": [
    {
     "data": {
      "text/plain": [
       "{('.htaccess', 'apache'): 1841,\n",
       " ('.htaccess', 'apache', 'mod-rewrite'): 1053,\n",
       " ('.htaccess', 'mod-rewrite'): 1992,\n",
       " ('.htaccess', 'php'): 1767,\n",
       " ('.net', 'asp.net'): 1899,\n",
       " ('.net', 'asp.net', 'c#'): 1067,\n",
       " ('.net', 'c#'): 13567,\n",
       " ('.net', 'c#', 'winforms'): 1026,\n",
       " ('.net', 'vb.net'): 1322,\n",
       " ('.net', 'winforms'): 1430,\n",
       " ('.net', 'wpf'): 1222,\n",
       " ('actionscript-3',): 3663,\n",
       " ('actionscript-3', 'flash'): 1671,\n",
       " ('activerecord',): 2199,\n",
       " ('activerecord', 'ruby-on-rails'): 1699,\n",
       " ('ajax', 'html'): 1335,\n",
       " ('ajax', 'javascript'): 6433,\n",
       " ('ajax', 'javascript', 'jquery'): 3860,\n",
       " ('ajax', 'javascript', 'jquery', 'php'): 1085,\n",
       " ('ajax', 'javascript', 'php'): 1783,\n",
       " ('ajax', 'jquery'): 8454,\n",
       " ('ajax', 'jquery', 'php'): 2400,\n",
       " ('ajax', 'json'): 1275,\n",
       " ('algorithm',): 5886,\n",
       " ('amazon-ec2',): 1390,\n",
       " ('amazon-s3',): 1492,\n",
       " ('amazon-web-services',): 3031,\n",
       " ('android', 'android-activity'): 2093,\n",
       " ('android', 'android-asynctask'): 1139,\n",
       " ('android', 'android-fragments'): 2759,\n",
       " ('android', 'android-intent'): 2213,\n",
       " ('android', 'android-layout'): 3811,\n",
       " ('android', 'android-listview'): 1393,\n",
       " ('android', 'android-studio'): 2414,\n",
       " ('android', 'cordova'): 1708,\n",
       " ('android', 'eclipse'): 2311,\n",
       " ('android', 'google-maps'): 1311,\n",
       " ('android', 'java'): 15290,\n",
       " ('android', 'javascript'): 1112,\n",
       " ('android', 'json'): 1565,\n",
       " ('android', 'listview'): 2631,\n",
       " ('android', 'sqlite'): 2055,\n",
       " ('android', 'webview'): 1027,\n",
       " ('android', 'xml'): 2004,\n",
       " ('android-activity',): 2178,\n",
       " ('android-asynctask',): 1161,\n",
       " ('android-fragments',): 2844,\n",
       " ('android-intent',): 2259,\n",
       " ('android-layout',): 3887,\n",
       " ('android-listview',): 1424,\n",
       " ('android-studio',): 2855,\n",
       " ('angular2',): 1810,\n",
       " ('angularjs', 'angularjs-directive'): 1374,\n",
       " ('angularjs', 'html'): 1302,\n",
       " ('angularjs', 'javascript'): 9046,\n",
       " ('angularjs', 'jquery'): 1132,\n",
       " ('angularjs-directive',): 1396,\n",
       " ('animation',): 2759,\n",
       " ('ant',): 1203,\n",
       " ('apache',): 6295,\n",
       " ('apache', 'mod-rewrite'): 1391,\n",
       " ('apache', 'php'): 1891,\n",
       " ('apache-spark',): 1745,\n",
       " ('api',): 4632,\n",
       " ('architecture',): 1036,\n",
       " ('arraylist',): 1782,\n",
       " ('arraylist', 'java'): 1364,\n",
       " ('arrays', 'c'): 1387,\n",
       " ('arrays', 'c++'): 1383,\n",
       " ('arrays', 'java'): 2580,\n",
       " ('arrays', 'javascript'): 2681,\n",
       " ('arrays', 'php'): 4355,\n",
       " ('asp.net', 'asp.net-mvc'): 2410,\n",
       " ('asp.net', 'asp.net-mvc', 'c#'): 1051,\n",
       " ('asp.net', 'c#'): 12633,\n",
       " ('asp.net', 'gridview'): 1271,\n",
       " ('asp.net', 'html'): 1029,\n",
       " ('asp.net', 'javascript'): 2632,\n",
       " ('asp.net', 'jquery'): 2060,\n",
       " ('asp.net', 'vb.net'): 1562,\n",
       " ('asp.net-mvc', 'asp.net-mvc-3'): 1056,\n",
       " ('asp.net-mvc', 'asp.net-mvc-4'): 1440,\n",
       " ('asp.net-mvc', 'c#'): 4819,\n",
       " ('asp.net-mvc', 'jquery'): 1509,\n",
       " ('asp.net-mvc', 'razor'): 1237,\n",
       " ('asp.net-mvc-3',): 3540,\n",
       " ('asp.net-mvc-4', 'c#'): 1334,\n",
       " ('asp.net-mvc-5',): 1024,\n",
       " ('asp.net-web-api',): 1865,\n",
       " ('assembly',): 2068,\n",
       " ('asynchronous',): 2250,\n",
       " ('audio',): 2303,\n",
       " ('authentication',): 2807,\n",
       " ('autocomplete',): 1154,\n",
       " ('awk',): 1419,\n",
       " ('azure',): 3254,\n",
       " ('backbone.js',): 1825,\n",
       " ('backbone.js', 'javascript'): 1112,\n",
       " ('background',): 1061,\n",
       " ('bash',): 6352,\n",
       " ('bash', 'linux'): 1704,\n",
       " ('bash', 'shell'): 1728,\n",
       " ('batch-file',): 2644,\n",
       " ('binding',): 1226,\n",
       " ('bitmap',): 1214,\n",
       " ('bluetooth',): 1066,\n",
       " ('boost',): 1956,\n",
       " ('boost', 'c++'): 1717,\n",
       " ('browser',): 1781,\n",
       " ('build',): 1207,\n",
       " ('button',): 2475,\n",
       " ('c',): 18912,\n",
       " ('c', 'c++'): 2718,\n",
       " ('c', 'linux'): 1700,\n",
       " ('c', 'pointers'): 1307,\n",
       " ('c#',): 91540,\n",
       " ('c#', 'datagridview'): 1066,\n",
       " ('c#', 'entity-framework'): 3158,\n",
       " ('c#', 'generics'): 1015,\n",
       " ('c#', 'javascript'): 1827,\n",
       " ('c#', 'jquery'): 1248,\n",
       " ('c#', 'json'): 1243,\n",
       " ('c#', 'linq'): 4151,\n",
       " ('c#', 'multithreading'): 1702,\n",
       " ('c#', 'regex'): 1153,\n",
       " ('c#', 'sql'): 2192,\n",
       " ('c#', 'sql-server'): 2049,\n",
       " ('c#', 'vb.net'): 1057,\n",
       " ('c#', 'visual-studio'): 1754,\n",
       " ('c#', 'visual-studio-2010'): 1256,\n",
       " ('c#', 'wcf'): 1798,\n",
       " ('c#', 'windows'): 1069,\n",
       " ('c#', 'winforms'): 5125,\n",
       " ('c#', 'wpf'): 6698,\n",
       " ('c#', 'wpf', 'xaml'): 1436,\n",
       " ('c#', 'xaml'): 2429,\n",
       " ('c#', 'xml'): 2065,\n",
       " ('c#-4.0',): 2159,\n",
       " ('c++',): 40277,\n",
       " ('c++', 'c++11'): 2506,\n",
       " ('c++', 'linux'): 1063,\n",
       " ('c++', 'opencv'): 1221,\n",
       " ('c++', 'pointers'): 1283,\n",
       " ('c++', 'qt'): 2607,\n",
       " ('c++', 'templates'): 1720,\n",
       " ('c++', 'vector'): 1066,\n",
       " ('c++', 'visual-c++'): 1049,\n",
       " ('c++', 'winapi'): 1087,\n",
       " ('c++', 'windows'): 1487,\n",
       " ('c++11',): 2877,\n",
       " ('caching',): 2476,\n",
       " ('cakephp',): 2401,\n",
       " ('cakephp', 'php'): 1170,\n",
       " ('callback',): 1002,\n",
       " ('canvas',): 2259,\n",
       " ('canvas', 'javascript'): 1268,\n",
       " ('casting',): 1202,\n",
       " ('character-encoding',): 1029,\n",
       " ('charts',): 1390,\n",
       " ('checkbox',): 1960,\n",
       " ('class',): 4115,\n",
       " ('cmd',): 1189,\n",
       " ('cocoa', 'objective-c'): 1714,\n",
       " ('cocoa', 'osx'): 1136,\n",
       " ('cocoa-touch', 'ios'): 1653,\n",
       " ('cocoa-touch', 'iphone'): 1497,\n",
       " ('cocoa-touch', 'objective-c'): 1685,\n",
       " ('codeigniter',): 4467,\n",
       " ('codeigniter', 'php'): 3392,\n",
       " ('coldfusion',): 1006,\n",
       " ('collections',): 1411,\n",
       " ('colors',): 1188,\n",
       " ('combobox',): 1275,\n",
       " ('command-line',): 1408,\n",
       " ('compilation',): 1003,\n",
       " ('concurrency',): 1216,\n",
       " ('configuration',): 1096,\n",
       " ('constructor',): 1153,\n",
       " ('cookies',): 2153,\n",
       " ('cordova', 'javascript'): 1036,\n",
       " ('core-data',): 2107,\n",
       " ('core-data', 'ios'): 1263,\n",
       " ('count',): 1078,\n",
       " ('css', 'css3'): 3376,\n",
       " ('css', 'css3', 'html'): 1844,\n",
       " ('css', 'html'): 23279,\n",
       " ('css', 'html', 'javascript'): 6449,\n",
       " ('css', 'html', 'javascript', 'jquery'): 3912,\n",
       " ('css', 'html', 'jquery'): 5704,\n",
       " ('css', 'html', 'twitter-bootstrap'): 1778,\n",
       " ('css', 'html5'): 1682,\n",
       " ('css', 'javascript'): 9925,\n",
       " ('css', 'javascript', 'jquery'): 5561,\n",
       " ('css', 'php'): 1291,\n",
       " ('css', 'twitter-bootstrap'): 2994,\n",
       " ('css3', 'html'): 2244,\n",
       " ('css3', 'html5'): 1349,\n",
       " ('csv',): 3621,\n",
       " ('curl',): 2489,\n",
       " ('curl', 'php'): 1499,\n",
       " ('d3.js',): 1998,\n",
       " ('d3.js', 'javascript'): 1461,\n",
       " ('data-binding',): 1647,\n",
       " ('data-structures',): 1616,\n",
       " ('database', 'mysql'): 3030,\n",
       " ('database', 'php'): 1644,\n",
       " ('database', 'sql'): 2456,\n",
       " ('database-design',): 1579,\n",
       " ('dataframe',): 1443,\n",
       " ('datagrid',): 1162,\n",
       " ('datagridview',): 1471,\n",
       " ('datatable',): 1222,\n",
       " ('date',): 3709,\n",
       " ('datetime',): 3169,\n",
       " ('debugging',): 3197,\n",
       " ('delphi',): 3249,\n",
       " ('dependency-injection',): 1356,\n",
       " ('deployment',): 1424,\n",
       " ('design',): 1600,\n",
       " ('design-patterns',): 2062,\n",
       " ('devise',): 1181,\n",
       " ('devise', 'ruby-on-rails'): 1000,\n",
       " ('dictionary',): 2597,\n",
       " ('dictionary', 'python'): 1313,\n",
       " ('django',): 11852,\n",
       " ('django', 'django-models'): 1418,\n",
       " ('django', 'python'): 6139,\n",
       " ('django-models',): 1477,\n",
       " ('dll',): 1737,\n",
       " ('docker',): 1367,\n",
       " ('doctrine2',): 1185,\n",
       " ('dom',): 2430,\n",
       " ('dom', 'javascript'): 1465,\n",
       " ('download',): 1072,\n",
       " ('drop-down-menu',): 1488,\n",
       " ('drupal',): 1552,\n",
       " ('dynamic',): 1769,\n",
       " ('eclipse', 'java'): 4220,\n",
       " ('elasticsearch',): 1562,\n",
       " ('emacs',): 1197,\n",
       " ('email',): 3758,\n",
       " ('email', 'php'): 1136,\n",
       " ('ember.js',): 1567,\n",
       " ('encoding',): 1487,\n",
       " ('encryption',): 1999,\n",
       " ('entity-framework',): 5692,\n",
       " ('enums',): 1166,\n",
       " ('error-handling',): 1238,\n",
       " ('events',): 2651,\n",
       " ('excel',): 9425,\n",
       " ('excel', 'excel-vba'): 3342,\n",
       " ('excel', 'excel-vba', 'vba'): 2422,\n",
       " ('excel', 'vba'): 3847,\n",
       " ('excel-vba', 'vba'): 3168,\n",
       " ('exception',): 2484,\n",
       " ('exception-handling',): 1094,\n",
       " ('express',): 2611,\n",
       " ('express', 'node.js'): 2286,\n",
       " ('extjs',): 1851,\n",
       " ('facebook',): 6986,\n",
       " ('facebook', 'facebook-graph-api'): 2061,\n",
       " ('facebook', 'php'): 1005,\n",
       " ('facebook-graph-api',): 2706,\n",
       " ('file',): 4553,\n",
       " ('file-io',): 1597,\n",
       " ('file-upload',): 1877,\n",
       " ('filter',): 1309,\n",
       " ('firebase',): 1276,\n",
       " ('firefox',): 2780,\n",
       " ('flash',): 3378,\n",
       " ('flask',): 1302,\n",
       " ('flask', 'python'): 1084,\n",
       " ('flex',): 2257,\n",
       " ('fonts',): 1284,\n",
       " ('for-loop',): 2498,\n",
       " ('foreach',): 1319,\n",
       " ('forms', 'html'): 1663,\n",
       " ('forms', 'javascript'): 1653,\n",
       " ('forms', 'jquery'): 1390,\n",
       " ('forms', 'php'): 2176,\n",
       " ('ftp',): 1036,\n",
       " ('function',): 4780,\n",
       " ('gcc',): 2256,\n",
       " ('generics', 'java'): 1091,\n",
       " ('ggplot2',): 1312,\n",
       " ('ggplot2', 'r'): 1298,\n",
       " ('git',): 6080,\n",
       " ('git', 'github'): 1258,\n",
       " ('github',): 1939,\n",
       " ('go',): 1363,\n",
       " ('google-analytics',): 1051,\n",
       " ('google-app-engine',): 3354,\n",
       " ('google-app-engine', 'python'): 1014,\n",
       " ('google-apps-script',): 1041,\n",
       " ('google-chrome',): 4086,\n",
       " ('google-chrome', 'javascript'): 1600,\n",
       " ('google-chrome-extension',): 1246,\n",
       " ('google-maps', 'google-maps-api-3'): 1160,\n",
       " ('google-maps', 'javascript'): 1445,\n",
       " ('google-maps-api-3',): 1833,\n",
       " ('gradle',): 1651,\n",
       " ('grails',): 2274,\n",
       " ('graph',): 1467,\n",
       " ('graphics',): 1367,\n",
       " ('gridview',): 2190,\n",
       " ('groovy',): 1350,\n",
       " ('gwt',): 1747,\n",
       " ('hadoop',): 2861,\n",
       " ('hash',): 1510,\n",
       " ('haskell',): 2351,\n",
       " ('heroku',): 2073,\n",
       " ('hibernate', 'java'): 3451,\n",
       " ('hibernate', 'jpa'): 1248,\n",
       " ('hibernate', 'spring'): 1319,\n",
       " ('highcharts',): 1172,\n",
       " ('html', 'html5'): 1963,\n",
       " ('html', 'javascript'): 21565,\n",
       " ('html', 'javascript', 'jquery'): 10501,\n",
       " ('html', 'javascript', 'php'): 1831,\n",
       " ('html', 'jquery'): 15109,\n",
       " ('html', 'jquery', 'php'): 1266,\n",
       " ('html', 'mysql'): 1072,\n",
       " ('html', 'twitter-bootstrap'): 2407,\n",
       " ('html5', 'javascript'): 3907,\n",
       " ('html5', 'javascript', 'jquery'): 1054,\n",
       " ('html5', 'jquery'): 1695,\n",
       " ('http',): 3616,\n",
       " ('https',): 1257,\n",
       " ('hyperlink',): 1291,\n",
       " ('if-statement',): 2476,\n",
       " ('iframe',): 2204,\n",
       " ('iframe', 'javascript'): 1067,\n",
       " ('iis',): 2374,\n",
       " ('image',): 7097,\n",
       " ('image-processing',): 2208,\n",
       " ('import',): 1309,\n",
       " ('indexing',): 1644,\n",
       " ('inheritance',): 2441,\n",
       " ('input',): 1711,\n",
       " ('intellij-idea',): 1691,\n",
       " ('interface',): 1138,\n",
       " ('internet-explorer',): 3342,\n",
       " ('internet-explorer', 'javascript'): 1075,\n",
       " ('io',): 1077,\n",
       " ('ionic-framework',): 1407,\n",
       " ('ios',): 44109,\n",
       " ('ios', 'ipad'): 1807,\n",
       " ('ios', 'iphone'): 8607,\n",
       " ('ios', 'iphone', 'objective-c'): 3304,\n",
       " ('ios', 'iphone', 'xcode'): 1188,\n",
       " ('ios', 'objective-c'): 14101,\n",
       " ('ios', 'objective-c', 'uitableview'): 1343,\n",
       " ('ios', 'objective-c', 'xcode'): 1564,\n",
       " ('ios', 'swift'): 7009,\n",
       " ('ios', 'uitableview'): 3310,\n",
       " ('ios', 'xcode'): 5195,\n",
       " ('ios4',): 1025,\n",
       " ('ios5',): 1142,\n",
       " ('ios7',): 1400,\n",
       " ('ipad', 'iphone'): 1718,\n",
       " ('iphone', 'objective-c'): 6949,\n",
       " ('iphone', 'objective-c', 'xcode'): 1005,\n",
       " ('iphone', 'uitableview'): 1285,\n",
       " ('jar',): 1236,\n",
       " ('java',): 101029,\n",
       " ('java', 'java-ee'): 1376,\n",
       " ('java', 'javascript'): 1304,\n",
       " ('java', 'jdbc'): 1378,\n",
       " ('java', 'jpa'): 1584,\n",
       " ('java', 'json'): 2015,\n",
       " ('java', 'jsp'): 2052,\n",
       " ('java', 'maven'): 2214,\n",
       " ('java', 'multithreading'): 2437,\n",
       " ('java', 'mysql'): 1716,\n",
       " ('java', 'netbeans'): 1003,\n",
       " ('java', 'regex'): 1441,\n",
       " ('java', 'servlets'): 1641,\n",
       " ('java', 'sockets'): 1024,\n",
       " ('java', 'spring'): 5604,\n",
       " ('java', 'spring', 'spring-mvc'): 1327,\n",
       " ('java', 'spring-mvc'): 1955,\n",
       " ('java', 'sql'): 1083,\n",
       " ('java', 'string'): 1863,\n",
       " ('java', 'swing'): 5948,\n",
       " ('java', 'tomcat'): 1553,\n",
       " ('java', 'web-services'): 1183,\n",
       " ('java', 'xml'): 2402,\n",
       " ('java-ee',): 2462,\n",
       " ('javafx',): 1437,\n",
       " ('javascript',): 111333,\n",
       " ('javascript', 'javascript-events'): 1025,\n",
       " ('javascript', 'jquery'): 39048,\n",
       " ('javascript', 'jquery', 'jquery-ui'): 1037,\n",
       " ('javascript', 'jquery', 'json'): 1332,\n",
       " ('javascript', 'jquery', 'php'): 3226,\n",
       " ('javascript', 'jquery', 'twitter-bootstrap'): 1169,\n",
       " ('javascript', 'jquery-ui'): 1172,\n",
       " ('javascript', 'json'): 3908,\n",
       " ('javascript', 'node.js'): 5034,\n",
       " ('javascript', 'php'): 7865,\n",
       " ('javascript', 'reactjs'): 1219,\n",
       " ('javascript', 'regex'): 1938,\n",
       " ('javascript', 'ruby-on-rails'): 1203,\n",
       " ('javascript', 'twitter-bootstrap'): 1911,\n",
       " ('javascript-events',): 1257,\n",
       " ('jboss',): 1088,\n",
       " ('jdbc',): 1964,\n",
       " ('jenkins',): 1677,\n",
       " ('join', 'mysql'): 1068,\n",
       " ('join', 'sql'): 1074,\n",
       " ('joomla',): 1237,\n",
       " ('jquery', 'jquery-mobile'): 1138,\n",
       " ('jquery', 'jquery-plugins'): 1033,\n",
       " ('jquery', 'jquery-ui'): 2714,\n",
       " ('jquery', 'json'): 2727,\n",
       " ('jquery', 'php'): 6747,\n",
       " ('jquery', 'twitter-bootstrap'): 2011,\n",
       " ('jquery-mobile',): 2044,\n",
       " ('jquery-plugins',): 1201,\n",
       " ('jsf',): 2611,\n",
       " ('jsf-2',): 1389,\n",
       " ('json', 'php'): 2506,\n",
       " ('jsp',): 3959,\n",
       " ('junit',): 1358,\n",
       " ('kendo-ui',): 1133,\n",
       " ('knockout.js',): 1389,\n",
       " ('lambda',): 1212,\n",
       " ('laravel',): 4683,\n",
       " ('laravel', 'php'): 3045,\n",
       " ('laravel-4',): 1381,\n",
       " ('laravel-5',): 1339,\n",
       " ('layout',): 1940,\n",
       " ('linq',): 5608,\n",
       " ('linq-to-sql',): 1216,\n",
       " ('linux', 'shell'): 1224,\n",
       " ('list',): 5283,\n",
       " ('list', 'python'): 1861,\n",
       " ('listview',): 3692,\n",
       " ('logging',): 2182,\n",
       " ('login',): 1496,\n",
       " ('loops',): 3787,\n",
       " ('machine-learning',): 1107,\n",
       " ('magento',): 2821,\n",
       " ('magento', 'php'): 1175,\n",
       " ('makefile',): 1290,\n",
       " ('math',): 2267,\n",
       " ('matlab',): 5114,\n",
       " ('matplotlib',): 1847,\n",
       " ('matplotlib', 'python'): 1628,\n",
       " ('matrix',): 2013,\n",
       " ('maven',): 4368,\n",
       " ('memory',): 2205,\n",
       " ('memory-leaks',): 1407,\n",
       " ('memory-management',): 1955,\n",
       " ('menu',): 1114,\n",
       " ('merge',): 1125,\n",
       " ('meteor',): 2002,\n",
       " ('methods',): 1721,\n",
       " ('mobile',): 1988,\n",
       " ('model',): 1120,\n",
       " ('model-view-controller',): 1958,\n",
       " ('module',): 1173,\n",
       " ('mongodb',): 6202,\n",
       " ('mongodb', 'node.js'): 1548,\n",
       " ('mongoose',): 1206,\n",
       " ('ms-access',): 2790,\n",
       " ('multidimensional-array',): 1826,\n",
       " ('mvvm',): 1753,\n",
       " ('mvvm', 'wpf'): 1196,\n",
       " ('mysql', 'php'): 15888,\n",
       " ('mysql', 'php', 'sql'): 1851,\n",
       " ('mysql', 'sql'): 7914,\n",
       " ('mysqli',): 1615,\n",
       " ('mysqli', 'php'): 1434,\n",
       " ('netbeans',): 1757,\n",
       " ('networking',): 2140,\n",
       " ('nginx',): 1889,\n",
       " ('nhibernate',): 1624,\n",
       " ('node.js',): 13435,\n",
       " ('npm',): 1025,\n",
       " ('numpy',): 2803,\n",
       " ('numpy', 'python'): 2569,\n",
       " ('oauth',): 1386,\n",
       " ('object',): 2901,\n",
       " ('objective-c',): 24964,\n",
       " ('objective-c', 'uitableview'): 1813,\n",
       " ('objective-c', 'xcode'): 3004,\n",
       " ('oop',): 3392,\n",
       " ('opencv',): 3119,\n",
       " ('opengl',): 2500,\n",
       " ('opengl-es',): 1183,\n",
       " ('optimization',): 2011,\n",
       " ('oracle',): 6951,\n",
       " ('oracle', 'sql'): 3070,\n",
       " ('oracle11g',): 1138,\n",
       " ('orm',): 1231,\n",
       " ('osx',): 6846,\n",
       " ('pagination',): 1036,\n",
       " ('pandas',): 2848,\n",
       " ('pandas', 'python'): 2605,\n",
       " ('parameters',): 1197,\n",
       " ('parse.com',): 1727,\n",
       " ('parsing',): 3513,\n",
       " ('path',): 1023,\n",
       " ('paypal',): 1411,\n",
       " ('pdf',): 2751,\n",
       " ('pdo',): 1436,\n",
       " ('pdo', 'php'): 1323,\n",
       " ('performance',): 6115,\n",
       " ('perl',): 4149,\n",
       " ('permissions',): 1059,\n",
       " ('php',): 85338,\n",
       " ('php', 'regex'): 2156,\n",
       " ('php', 'session'): 1420,\n",
       " ('php', 'sql'): 3207,\n",
       " ('php', 'symfony2'): 1883,\n",
       " ('php', 'wordpress'): 4189,\n",
       " ('php', 'xml'): 1326,\n",
       " ('php', 'zend-framework'): 1189,\n",
       " ('playframework',): 1271,\n",
       " ('plot',): 1520,\n",
       " ('plsql',): 1290,\n",
       " ('plugins',): 1758,\n",
       " ('post',): 2425,\n",
       " ('postgresql',): 5323,\n",
       " ('postgresql', 'sql'): 1532,\n",
       " ('powershell',): 3097,\n",
       " ('primefaces',): 1323,\n",
       " ('printing',): 1440,\n",
       " ('process',): 1146,\n",
       " ('properties',): 1171,\n",
       " ('proxy',): 1149,\n",
       " ('python',): 56031,\n",
       " ('python', 'python-2.7'): 3413,\n",
       " ('python', 'python-3.x'): 2555,\n",
       " ('python', 'regex'): 1359,\n",
       " ('python', 'string'): 1074,\n",
       " ('python', 'tkinter'): 1035,\n",
       " ('python-2.7',): 5186,\n",
       " ('python-3.x',): 3615,\n",
       " ('qt',): 4997,\n",
       " ('r',): 12048,\n",
       " ('random',): 1691,\n",
       " ('razor',): 2231,\n",
       " ('reactjs',): 2250,\n",
       " ('recursion',): 2114,\n",
       " ('redirect',): 2705,\n",
       " ('reference',): 1049,\n",
       " ('reflection',): 1611,\n",
       " ('replace',): 1483,\n",
       " ('reporting-services',): 1415,\n",
       " ('responsive-design',): 1145,\n",
       " ('rest',): 4664,\n",
       " ('rspec',): 1358,\n",
       " ('ruby',): 15202,\n",
       " ('ruby', 'ruby-on-rails'): 7841,\n",
       " ('ruby', 'ruby-on-rails', 'ruby-on-rails-3'): 1116,\n",
       " ('ruby', 'ruby-on-rails-3'): 1518,\n",
       " ('ruby-on-rails',): 23236,\n",
       " ('ruby-on-rails', 'ruby-on-rails-3'): 3357,\n",
       " ('ruby-on-rails', 'ruby-on-rails-4'): 2325,\n",
       " ('ruby-on-rails-4',): 3150,\n",
       " ('safari',): 1046,\n",
       " ('scala',): 4835,\n",
       " ('scroll',): 1335,\n",
       " ('search',): 2341,\n",
       " ('security',): 3602,\n",
       " ('sed',): 1335,\n",
       " ('select',): 2429,\n",
       " ('selenium',): 3163,\n",
       " ('selenium-webdriver',): 1668,\n",
       " ('serialization',): 2002,\n",
       " ('service',): 1542,\n",
       " ('servlets',): 2421,\n",
       " ('session',): 3215,\n",
       " ('sharepoint',): 1946,\n",
       " ('silverlight',): 2490,\n",
       " ('soap',): 1966,\n",
       " ('sockets',): 4220,\n",
       " ('solr',): 1224,\n",
       " ('sorting',): 3773,\n",
       " ('split',): 1072,\n",
       " ('spring',): 9485,\n",
       " ('spring', 'spring-mvc'): 2169,\n",
       " ('spring-boot',): 1221,\n",
       " ('spring-security',): 1333,\n",
       " ('sql', 'sql-server'): 7553,\n",
       " ('sql', 'sql-server', 'sql-server-2008'): 1170,\n",
       " ('sql', 'sql-server', 'tsql'): 1452,\n",
       " ('sql', 'sql-server-2008'): 2222,\n",
       " ('sql', 'tsql'): 2110,\n",
       " ('sql-server', 'sql-server-2008'): 1987,\n",
       " ('sql-server', 'tsql'): 2521,\n",
       " ('sql-server-2005',): 1626,\n",
       " ('sql-server-2012',): 1042,\n",
       " ('sqlite',): 4832,\n",
       " ('sqlite3',): 1111,\n",
       " ('ssh',): 1403,\n",
       " ('ssis',): 1013,\n",
       " ('ssl',): 2571,\n",
       " ('static',): 1061,\n",
       " ('stl',): 1024,\n",
       " ('stored-procedures',): 2230,\n",
       " ('struct',): 1384,\n",
       " ('svg',): 1964,\n",
       " ('svn',): 1964,\n",
       " ('swift',): 10672,\n",
       " ('swift', 'xcode'): 1273,\n",
       " ('swing',): 6071,\n",
       " ('symfony2',): 3911,\n",
       " ('syntax',): 1238,\n",
       " ('table',): 2361,\n",
       " ('tabs',): 1062,\n",
       " ('tcp',): 1394,\n",
       " ('templates',): 3104,\n",
       " ('terminal',): 1017,\n",
       " ('testing',): 2314,\n",
       " ('text',): 1807,\n",
       " ('tfs',): 1274,\n",
       " ('time',): 1520,\n",
       " ('timer',): 1249,\n",
       " ('tkinter',): 1182,\n",
       " ('tomcat',): 2877,\n",
       " ('transactions',): 1004,\n",
       " ('triggers',): 1153,\n",
       " ('twitter',): 1876,\n",
       " ('twitter-bootstrap-3',): 1564,\n",
       " ('types',): 1417,\n",
       " ('typescript',): 1473,\n",
       " ('ubuntu',): 2848,\n",
       " ('uiscrollview',): 1026,\n",
       " ('uiview',): 1467,\n",
       " ('uiviewcontroller',): 1234,\n",
       " ('unicode',): 1587,\n",
       " ('unit-testing',): 4219,\n",
       " ('unity3d',): 1815,\n",
       " ('unix',): 2819,\n",
       " ('url',): 2739,\n",
       " ('url-rewriting',): 1125,\n",
       " ('user-interface',): 3463,\n",
       " ('utf-8',): 1395,\n",
       " ('validation',): 4338,\n",
       " ('variables',): 2975,\n",
       " ('vba',): 6539,\n",
       " ('vbscript',): 1166,\n",
       " ('vector',): 1717,\n",
       " ('version-control',): 1173,\n",
       " ('video',): 2281,\n",
       " ('view',): 1486,\n",
       " ('vim',): 1336,\n",
       " ('visual-c++',): 2027,\n",
       " ('visual-studio',): 5632,\n",
       " ('visual-studio-2008',): 1429,\n",
       " ('visual-studio-2010',): 4327,\n",
       " ('visual-studio-2012',): 2115,\n",
       " ('visual-studio-2013',): 1627,\n",
       " ('visual-studio-2015',): 1221,\n",
       " ('wcf',): 4161,\n",
       " ('web',): 1777,\n",
       " ('web-applications',): 1589,\n",
       " ('web-services',): 5089,\n",
       " ('webforms',): 1045,\n",
       " ('websocket',): 1110,\n",
       " ('webview',): 1405,\n",
       " ('while-loop',): 1092,\n",
       " ('winapi',): 2539,\n",
       " ('windows-phone-7',): 1768,\n",
       " ('windows-phone-8',): 1714,\n",
       " ('wordpress',): 8836,\n",
       " ('wpf', 'xaml'): 2390,\n",
       " ('xamarin',): 1632,\n",
       " ('xml', 'xslt'): 1499,\n",
       " ('xpath',): 1986,\n",
       " ('xslt',): 2267,\n",
       " ('yii',): 1347,\n",
       " ('youtube',): 1066,\n",
       " ('zend-framework',): 1860}"
      ]
     },
     "execution_count": 167,
     "metadata": {},
     "output_type": "execute_result"
    }
   ],
   "source": [
    "patterns"
   ]
  },
  {
   "cell_type": "code",
   "execution_count": 169,
   "metadata": {
    "collapsed": false
   },
   "outputs": [],
   "source": [
    "rules = fp.generate_association_rules(patterns, 0.7)"
   ]
  },
  {
   "cell_type": "code",
   "execution_count": 175,
   "metadata": {
    "collapsed": false
   },
   "outputs": [
    {
     "data": {
      "text/plain": [
       "{('.net', 'winforms'): (('c#',), 0.7174825174825175),\n",
       " ('activerecord',): (('ruby-on-rails',), 0.7726239199636198),\n",
       " ('android-activity',): (('android',), 0.9609733700642792),\n",
       " ('android-asynctask',): (('android',), 0.9810508182601206),\n",
       " ('android-fragments',): (('android',), 0.970112517580872),\n",
       " ('android-intent',): (('android',), 0.9796370075254538),\n",
       " ('android-layout',): (('android',), 0.9804476459994854),\n",
       " ('android-listview',): (('android',), 0.9782303370786517),\n",
       " ('android-studio',): (('android',), 0.8455341506129597),\n",
       " ('angularjs-directive',): (('angularjs',), 0.9842406876790831),\n",
       " ('apache', 'mod-rewrite'): (('.htaccess',), 0.7570093457943925),\n",
       " ('arraylist',): (('java',), 0.7654320987654321),\n",
       " ('boost',): (('c++',), 0.8778118609406953),\n",
       " ('c++11',): (('c++',), 0.8710462287104623),\n",
       " ('codeigniter',): (('php',), 0.759346317438997),\n",
       " ('css', 'javascript', 'jquery'): (('html',), 0.7034705988131631),\n",
       " ('css3', 'html'): (('css',), 0.82174688057041),\n",
       " ('d3.js',): (('javascript',), 0.7312312312312312),\n",
       " ('datagridview',): (('c#',), 0.7246770904146839),\n",
       " ('devise',): (('ruby-on-rails',), 0.8467400508044031),\n",
       " ('django-models',): (('django',), 0.960054163845633),\n",
       " ('excel', 'excel-vba'): (('vba',), 0.7247157390783961),\n",
       " ('excel-vba', 'vba'): (('excel',), 0.764520202020202),\n",
       " ('express',): (('node.js',), 0.875526618153964),\n",
       " ('facebook-graph-api',): (('facebook',), 0.761640798226164),\n",
       " ('flask',): (('python',), 0.8325652841781874),\n",
       " ('ggplot2',): (('r',), 0.989329268292683),\n",
       " ('html', 'twitter-bootstrap'): (('css',), 0.7386788533444121),\n",
       " ('javascript', 'jquery-ui'): (('jquery',), 0.8848122866894198),\n",
       " ('javascript-events',): (('javascript',), 0.8154335719968179),\n",
       " ('jdbc',): (('java',), 0.7016293279022403),\n",
       " ('jquery-plugins',): (('jquery',), 0.8601165695253955),\n",
       " ('linq',): (('c#',), 0.7401925820256776),\n",
       " ('listview',): (('android',), 0.7126218851570965),\n",
       " ('matplotlib',): (('python',), 0.881429344883595),\n",
       " ('mysqli',): (('php',), 0.8879256965944272),\n",
       " ('numpy',): (('python',), 0.9165180164109882),\n",
       " ('objective-c', 'uitableview'): (('ios',), 0.740761169332598),\n",
       " ('pandas',): (('python',), 0.9146769662921348),\n",
       " ('pdo',): (('php',), 0.9213091922005571),\n",
       " ('python-3.x',): (('python',), 0.706777316735823),\n",
       " ('ruby', 'ruby-on-rails-3'): (('ruby-on-rails',), 0.7351778656126482),\n",
       " ('ruby-on-rails-4',): (('ruby-on-rails',), 0.7380952380952381),\n",
       " ('swing',): (('java',), 0.9797397463350355),\n",
       " ('tkinter',): (('python',), 0.8756345177664975),\n",
       " ('webview',): (('android',), 0.7309608540925266)}"
      ]
     },
     "execution_count": 175,
     "metadata": {},
     "output_type": "execute_result"
    }
   ],
   "source": [
    "rules #dict, cannot be sorted"
   ]
  },
  {
   "cell_type": "code",
   "execution_count": 7,
   "metadata": {
    "collapsed": false
   },
   "outputs": [],
   "source": [
    "tagCount = commonQuestions.groupby('QuestionId').QuestTags.size().reset_index()\n",
    "tagCount = tagCount.rename(columns={0:'TagCount'})\n",
    "commonQuestions = pd.merge(commonQuestions, tagCount, on='QuestionId')"
   ]
  },
  {
   "cell_type": "code",
   "execution_count": 8,
   "metadata": {
    "collapsed": false
   },
   "outputs": [
    {
     "name": "stdout",
     "output_type": "stream",
     "text": [
      "Stored 'commonQuestions' (DataFrame)\n"
     ]
    }
   ],
   "source": [
    "%store commonQuestions"
   ]
  },
  {
   "cell_type": "code",
   "execution_count": 22,
   "metadata": {
    "collapsed": false
   },
   "outputs": [],
   "source": [
    "test = commonQuestions.drop_duplicates('QuestionId')"
   ]
  },
  {
   "cell_type": "code",
   "execution_count": 11,
   "metadata": {
    "collapsed": false
   },
   "outputs": [
    {
     "data": {
      "image/png": "[encoded data removed]",
      "text/plain": [
       "<matplotlib.figure.Figure at 0x2157d0128>"
      ]
     },
     "metadata": {},
     "output_type": "display_data"
    }
   ],
   "source": [
    "#scatterplot of AnswerCount against TagCount, one question with 408 answers\n",
    "%matplotlib inline\n",
    "ax3 = sns.stripplot(x=\"TagCount\", y=\"AnswerCount\", data=test)"
   ]
  },
  {
   "cell_type": "code",
   "execution_count": 13,
   "metadata": {
    "collapsed": false
   },
   "outputs": [
    {
     "name": "stdout",
     "output_type": "stream",
     "text": [
      "Stored 'ax3' (AxesSubplot)\n"
     ]
    }
   ],
   "source": [
    "%store ax3"
   ]
  },
  {
   "cell_type": "code",
   "execution_count": 23,
   "metadata": {
    "collapsed": false
   },
   "outputs": [
    {
     "data": {
      "text/html": [
       "<div>\n",
       "<table border=\"1\" class=\"dataframe\">\n",
       "  <thead>\n",
       "    <tr style=\"text-align: right;\">\n",
       "      <th></th>\n",
       "      <th>QuestionId</th>\n",
       "      <th>QuestCreationDate</th>\n",
       "      <th>QuestClosedDate</th>\n",
       "      <th>QuestDeletionDate</th>\n",
       "      <th>QuestScore</th>\n",
       "      <th>QuestUserId</th>\n",
       "      <th>AnswerCount</th>\n",
       "      <th>QuestTags</th>\n",
       "      <th>QuestCreationYear</th>\n",
       "      <th>TagCount</th>\n",
       "    </tr>\n",
       "  </thead>\n",
       "  <tbody>\n",
       "    <tr>\n",
       "      <th>9067</th>\n",
       "      <td>406760</td>\n",
       "      <td>2009-01-02 13:14:26</td>\n",
       "      <td>NaT</td>\n",
       "      <td>NaT</td>\n",
       "      <td>363</td>\n",
       "      <td>22656.0</td>\n",
       "      <td>408</td>\n",
       "      <td>language-agnostic</td>\n",
       "      <td>2009</td>\n",
       "      <td>1</td>\n",
       "    </tr>\n",
       "  </tbody>\n",
       "</table>\n",
       "</div>"
      ],
      "text/plain": [
       "      QuestionId   QuestCreationDate QuestClosedDate QuestDeletionDate  \\\n",
       "9067      406760 2009-01-02 13:14:26             NaT               NaT   \n",
       "\n",
       "      QuestScore  QuestUserId  AnswerCount          QuestTags  \\\n",
       "9067         363      22656.0          408  language-agnostic   \n",
       "\n",
       "      QuestCreationYear  TagCount  \n",
       "9067               2009         1  "
      ]
     },
     "execution_count": 23,
     "metadata": {},
     "output_type": "execute_result"
    }
   ],
   "source": [
    "test.loc[test['AnswerCount'] == 408]"
   ]
  },
  {
   "cell_type": "code",
   "execution_count": 26,
   "metadata": {
    "collapsed": false
   },
   "outputs": [
    {
     "data": {
      "text/plain": [
       "5867    What's your most controversial programming opi...\n",
       "Name: QuestTitle, dtype: object"
      ]
     },
     "execution_count": 26,
     "metadata": {},
     "output_type": "execute_result"
    }
   ],
   "source": [
    "#verified, it's true\n",
    "stackSampleQuestions.loc[stackSampleQuestions['QuestionId']==406760].QuestTitle"
   ]
  },
  {
   "cell_type": "code",
   "execution_count": 2,
   "metadata": {
    "collapsed": true
   },
   "outputs": [],
   "source": [
    "%store -r stackQuestions\n",
    "%store -r stackQuestionTags\n",
    "%store -r stackSampleQuestions\n",
    "%store -r commonQuestions\n",
    "%store -r yearQuestTag\n",
    "%store -r topYearQuestTag\n",
    "%store -r questTags\n",
    "%store -r ax3"
   ]
  },
  {
   "cell_type": "code",
   "execution_count": null,
   "metadata": {
    "collapsed": true
   },
   "outputs": [],
   "source": []
  }
 ],
 "metadata": {
  "anaconda-cloud": {},
  "kernelspec": {
   "display_name": "Python [default]",
   "language": "python",
   "name": "python3"
  },
  "language_info": {
   "codemirror_mode": {
    "name": "ipython",
    "version": 3
   },
   "file_extension": ".py",
   "mimetype": "text/x-python",
   "name": "python",
   "nbconvert_exporter": "python",
   "pygments_lexer": "ipython3",
   "version": "3.5.2"
  }
 },
 "nbformat": 4,
 "nbformat_minor": 1
}
